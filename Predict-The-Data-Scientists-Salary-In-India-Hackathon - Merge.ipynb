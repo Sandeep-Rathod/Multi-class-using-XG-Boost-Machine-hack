{
 "cells": [
  {
   "cell_type": "markdown",
   "metadata": {
    "colab_type": "text",
    "id": "3g6Xb7vS2mfo"
   },
   "source": [
    "### 1. Dataset Description  <a id='columns'>\n",
    "\n",
    "Data\n",
    "\n",
    "The dataset is based on salary and job postings in India across the internet. The train and the test data consists of attributes mentioned below. The rows of train dataset has rich amount of information regarding the job posting such as name of the designation and key skills required for the job.\n",
    "The training data and test data comprise of 19802 samples and of 6601 samples each. This is a dataset which has been collected over some time to gather relevant analytics jobs posting over the years.\n",
    "\n",
    "Features:\n",
    "\n",
    "-**Name of the company** (Encoded)\n",
    "\n",
    "-**Years of experience**\n",
    "\n",
    "Job description\n",
    "\n",
    "Job designation\n",
    "\n",
    "Job Type\n",
    "\n",
    "Key skills\n",
    "\n",
    "Location\n",
    "\n",
    "Salary in Rupees Lakhs(To be predicted)\n",
    "\n",
    "Problem Statement\n",
    "\n",
    "Based on the given attributes and salary information, build a robust machine learning model that predicts the salary range of the salary post.\n",
    "\n"
   ]
  },
  {
   "cell_type": "code",
   "execution_count": 163,
   "metadata": {
    "scrolled": true
   },
   "outputs": [],
   "source": [
    "import numpy as np\n",
    "import pandas as pd\n",
    "\n",
    "from matplotlib import pyplot as plt\n",
    "\n",
    "import seaborn as sns\n",
    "import pandas_profiling\n",
    "\n",
    "from collections import Counter\n",
    "%matplotlib inline"
   ]
  },
  {
   "cell_type": "code",
   "execution_count": 164,
   "metadata": {},
   "outputs": [],
   "source": [
    "from IPython.core.interactiveshell import InteractiveShell\n",
    "InteractiveShell.ast_mode_interactivity = \"all\""
   ]
  },
  {
   "cell_type": "code",
   "execution_count": 165,
   "metadata": {},
   "outputs": [],
   "source": [
    "ds_input=pd.read_csv(r'Final_Train_Dataset.csv')"
   ]
  },
  {
   "cell_type": "code",
   "execution_count": 166,
   "metadata": {
    "scrolled": true
   },
   "outputs": [],
   "source": [
    "#report = pandas_profiling.ProfileReport(ds_input)\n",
    "#covert profile report as html file\n",
    "#report.to_file(\"ds_input.html\")\n"
   ]
  },
  {
   "cell_type": "code",
   "execution_count": 167,
   "metadata": {
    "scrolled": true
   },
   "outputs": [
    {
     "name": "stdout",
     "output_type": "stream",
     "text": [
      "<class 'pandas.core.frame.DataFrame'>\n",
      "RangeIndex: 19802 entries, 0 to 19801\n",
      "Data columns (total 9 columns):\n",
      "Unnamed: 0              19802 non-null int64\n",
      "experience              19802 non-null object\n",
      "job_description         15384 non-null object\n",
      "job_desig               19802 non-null object\n",
      "job_type                4797 non-null object\n",
      "key_skills              19801 non-null object\n",
      "location                19802 non-null object\n",
      "salary                  19802 non-null object\n",
      "company_name_encoded    19802 non-null int64\n",
      "dtypes: int64(2), object(7)\n",
      "memory usage: 1.4+ MB\n"
     ]
    }
   ],
   "source": [
    " ds_input.info()"
   ]
  },
  {
   "cell_type": "code",
   "execution_count": 168,
   "metadata": {
    "scrolled": true
   },
   "outputs": [],
   "source": [
    "#dropping job_desription as it seems to be covered by experience and skills.\n",
    "ds_input.drop(['Unnamed: 0','job_description'],inplace= True,axis=1)"
   ]
  },
  {
   "cell_type": "code",
   "execution_count": 169,
   "metadata": {
    "scrolled": true
   },
   "outputs": [],
   "source": [
    "#dropping 1 null key skills row.\n",
    "ds_input.drop(ds_input[ds_input['key_skills'].isnull()].index.tolist(),inplace=True)"
   ]
  },
  {
   "cell_type": "code",
   "execution_count": 170,
   "metadata": {
    "scrolled": false
   },
   "outputs": [
    {
     "data": {
      "image/png": "[encoded data removed]",
      "text/plain": [
       "<Figure size 288x288 with 1 Axes>"
      ]
     },
     "metadata": {},
     "output_type": "display_data"
    }
   ],
   "source": [
    "#PLotting blox plot shows that there is delay of 20-30 Mins in June July and Dec per flight as compared to less than 10 mins\n",
    "#other months\n",
    "#Further analysis of total flights increased or not during that month would show that delay was because of congestion in\n",
    "#airport or  Bad weather or less staffing\n",
    "#plt.figure(figsize=(5,4))\n",
    "from matplotlib import pyplot as plt\n",
    "pkmn_type_colors = ['#78C850',  # WE\n",
    "                    '#F08030',  # NA\n",
    "                    '#6890F0',  # ANZ\n",
    "                    '#A8B820',  # ME\n",
    "                    '#A8A878',  # LA\n",
    "                    '#A040A0',  # SA\n",
    "                    '#F8D030',  # CEE\n",
    "                    '#E0C068',  # EA\n",
    "                    '#EE99AC',  # SSA\n",
    "                    '#C03028',  # SA\n",
    "                   ]\n",
    "               \n",
    "sns.factorplot(x='salary',y='company_name_encoded',data=ds_input,palette=pkmn_type_colors,kind='box',showfliers = True)\n",
    "plt.xlabel(\"salary\")\n",
    "plt.ylabel(\"Company\")\n",
    "\n",
    "plt.show();"
   ]
  },
  {
   "cell_type": "code",
   "execution_count": 171,
   "metadata": {
    "scrolled": true
   },
   "outputs": [
    {
     "data": {
      "text/plain": [
       "salary  company_name_encoded\n",
       "0to3    4951                    41\n",
       "        1153                    38\n",
       "        1631                    23\n",
       "        3616                    23\n",
       "        437                     22\n",
       "        2677                    21\n",
       "        3719                    21\n",
       "        4368                    20\n",
       "        1456                    16\n",
       "        320                     15\n",
       "        1806                    15\n",
       "        4369                    15\n",
       "        192                     14\n",
       "        837                     14\n",
       "        975                     13\n",
       "        2722                    13\n",
       "        4774                    13\n",
       "        2064                    12\n",
       "        2199                    12\n",
       "        3910                    12\n",
       "        4893                    12\n",
       "        1305                    11\n",
       "        4880                    11\n",
       "        1087                    10\n",
       "        2031                    10\n",
       "        2094                    10\n",
       "        2217                    10\n",
       "        4574                    10\n",
       "        4966                    10\n",
       "        201                      9\n",
       "                                ..\n",
       "6to10   4913                     1\n",
       "        4915                     1\n",
       "        4916                     1\n",
       "        4919                     1\n",
       "        4923                     1\n",
       "        4934                     1\n",
       "        4935                     1\n",
       "        4941                     1\n",
       "        4943                     1\n",
       "        4946                     1\n",
       "        4948                     1\n",
       "        4956                     1\n",
       "        4961                     1\n",
       "        4965                     1\n",
       "        4974                     1\n",
       "        4975                     1\n",
       "        4977                     1\n",
       "        4980                     1\n",
       "        4983                     1\n",
       "        4987                     1\n",
       "        4989                     1\n",
       "        4991                     1\n",
       "        4996                     1\n",
       "        5002                     1\n",
       "        5006                     1\n",
       "        5010                     1\n",
       "        5015                     1\n",
       "        5016                     1\n",
       "        5018                     1\n",
       "        5024                     1\n",
       "Name: company_name_encoded, Length: 8547, dtype: int64"
      ]
     },
     "execution_count": 171,
     "metadata": {},
     "output_type": "execute_result"
    }
   ],
   "source": [
    "m=ds_input[['salary','company_name_encoded']].groupby('salary')\n",
    "\n",
    "m['company_name_encoded'].value_counts()"
   ]
  },
  {
   "cell_type": "code",
   "execution_count": 172,
   "metadata": {
    "scrolled": true
   },
   "outputs": [
    {
     "name": "stdout",
     "output_type": "stream",
     "text": [
      "<class 'pandas.core.frame.DataFrame'>\n",
      "Int64Index: 19801 entries, 0 to 19801\n",
      "Data columns (total 7 columns):\n",
      "experience              19801 non-null object\n",
      "job_desig               19801 non-null object\n",
      "job_type                4796 non-null object\n",
      "key_skills              19801 non-null object\n",
      "location                19801 non-null object\n",
      "salary                  19801 non-null object\n",
      "company_name_encoded    19801 non-null int64\n",
      "dtypes: int64(1), object(6)\n",
      "memory usage: 1.8+ MB\n"
     ]
    }
   ],
   "source": [
    " ds_input.info()"
   ]
  },
  {
   "cell_type": "code",
   "execution_count": 173,
   "metadata": {},
   "outputs": [],
   "source": [
    "ds_input[\"job_type\"].fillna(\"Others\",inplace = True)"
   ]
  },
  {
   "cell_type": "code",
   "execution_count": 174,
   "metadata": {},
   "outputs": [],
   "source": [
    "# Job type \n",
    "ds_input[\"job_type\"] = ds_input[\"job_type\"].apply(lambda x: \" \".join(x.lower() for x in x.split()))\n",
    "ds_input[\"job_type\"]= ds_input[\"job_type\"].replace(\"analytic\", \"analytics\")\n"
   ]
  },
  {
   "cell_type": "code",
   "execution_count": 175,
   "metadata": {},
   "outputs": [
    {
     "name": "stdout",
     "output_type": "stream",
     "text": [
      "<class 'pandas.core.frame.DataFrame'>\n",
      "Int64Index: 19801 entries, 0 to 19801\n",
      "Data columns (total 9 columns):\n",
      "experience              19801 non-null object\n",
      "job_desig               19801 non-null object\n",
      "job_type                19801 non-null object\n",
      "key_skills              19801 non-null object\n",
      "location                19801 non-null object\n",
      "salary                  19801 non-null object\n",
      "company_name_encoded    19801 non-null int64\n",
      "Exp_min                 19801 non-null int32\n",
      "Exp_max                 19801 non-null int32\n",
      "dtypes: int32(2), int64(1), object(6)\n",
      "memory usage: 2.0+ MB\n"
     ]
    }
   ],
   "source": [
    "ds_exp = ds_input[\"experience\"].str.split(\"-\",n=1,expand=True)\n",
    "ds_exp[1]=ds_exp[1].str.replace(\"yrs\",'')\n",
    "ds_exp\n",
    "ds_input[\"Exp_min\"]= ds_exp[0].astype(str).astype(int)\n",
    "ds_input[\"Exp_max\"]= ds_exp[1].astype(str).astype(int)\n",
    "\n",
    "ds_input.info()"
   ]
  },
  {
   "cell_type": "code",
   "execution_count": 176,
   "metadata": {
    "scrolled": false
   },
   "outputs": [
    {
     "data": {
      "image/png": "[encoded data removed]",
      "text/plain": [
       "<Figure size 288x288 with 1 Axes>"
      ]
     },
     "metadata": {},
     "output_type": "display_data"
    }
   ],
   "source": [
    "sns.factorplot(x='salary',y='Exp_min',data=ds_input,palette=pkmn_type_colors,kind='box',showfliers = False)\n",
    "plt.xlabel(\"salary\")\n",
    "plt.ylabel(\"Exp_min\")\n",
    "\n",
    "plt.show();"
   ]
  },
  {
   "cell_type": "code",
   "execution_count": 177,
   "metadata": {
    "scrolled": true
   },
   "outputs": [
    {
     "data": {
      "image/png": "[encoded data removed]",
      "text/plain": [
       "<Figure size 288x288 with 1 Axes>"
      ]
     },
     "metadata": {},
     "output_type": "display_data"
    }
   ],
   "source": [
    "sns.factorplot(x='salary',y='Exp_max',data=ds_input,palette=pkmn_type_colors,kind='box',showfliers = False)\n",
    "plt.xlabel(\"salary\")\n",
    "plt.ylabel(\"Exp_max\")\n",
    "\n",
    "plt.show();"
   ]
  },
  {
   "cell_type": "markdown",
   "metadata": {
    "scrolled": true
   },
   "source": [
    " #def upd_exp(exp):\n",
    "    exp = int(exp)\n",
    "    if(exp <=3):\n",
    "        exp=1\n",
    "    elif (exp<= 5):\n",
    "        exp=2\n",
    "    elif(exp<= 10):\n",
    "        exp=3\n",
    "    elif(exp<= 15):\n",
    "        exp=4\n",
    "    elif(exp> 15):\n",
    "        exp = 5\n",
    "    return exp\n",
    "\n",
    "ds_input[\"exp_range\"]= ds_exp[1].apply(upd_exp)"
   ]
  },
  {
   "cell_type": "markdown",
   "metadata": {},
   "source": [
    "### Data exploration"
   ]
  },
  {
   "cell_type": "markdown",
   "metadata": {
    "colab_type": "text",
    "id": "S44QmB3I2mg5"
   },
   "source": [
    "### 4. Feature Engineering  <a id='feature'>"
   ]
  },
  {
   "cell_type": "code",
   "execution_count": 178,
   "metadata": {
    "scrolled": false
   },
   "outputs": [
    {
     "data": {
      "text/html": [
       "<div>\n",
       "<style scoped>\n",
       "    .dataframe tbody tr th:only-of-type {\n",
       "        vertical-align: middle;\n",
       "    }\n",
       "\n",
       "    .dataframe tbody tr th {\n",
       "        vertical-align: top;\n",
       "    }\n",
       "\n",
       "    .dataframe thead th {\n",
       "        text-align: right;\n",
       "    }\n",
       "</style>\n",
       "<table border=\"1\" class=\"dataframe\">\n",
       "  <thead>\n",
       "    <tr style=\"text-align: right;\">\n",
       "      <th></th>\n",
       "      <th>experience</th>\n",
       "      <th>job_desig</th>\n",
       "      <th>job_type</th>\n",
       "      <th>key_skills</th>\n",
       "      <th>location</th>\n",
       "      <th>salary</th>\n",
       "      <th>company_name_encoded</th>\n",
       "      <th>Exp_min</th>\n",
       "      <th>Exp_max</th>\n",
       "    </tr>\n",
       "  </thead>\n",
       "  <tbody>\n",
       "    <tr>\n",
       "      <th>0</th>\n",
       "      <td>5-7 yrs</td>\n",
       "      <td>Senior Exploit and Vulnerability Researcher</td>\n",
       "      <td>others</td>\n",
       "      <td>team skills, communication skills, analytical ...</td>\n",
       "      <td>Delhi NCR(Vikas Puri)</td>\n",
       "      <td>6to10</td>\n",
       "      <td>3687</td>\n",
       "      <td>5</td>\n",
       "      <td>7</td>\n",
       "    </tr>\n",
       "    <tr>\n",
       "      <th>1</th>\n",
       "      <td>10-17 yrs</td>\n",
       "      <td>Head SCM</td>\n",
       "      <td>others</td>\n",
       "      <td>ppc, logistics, inventory management, supply c...</td>\n",
       "      <td>Sonepat</td>\n",
       "      <td>10to15</td>\n",
       "      <td>458</td>\n",
       "      <td>10</td>\n",
       "      <td>17</td>\n",
       "    </tr>\n",
       "    <tr>\n",
       "      <th>2</th>\n",
       "      <td>5-9 yrs</td>\n",
       "      <td>Deputy Manager - Talent Management &amp; Leadershi...</td>\n",
       "      <td>analytics</td>\n",
       "      <td>HR Analytics, Employee Engagement, Training, S...</td>\n",
       "      <td>Delhi NCR</td>\n",
       "      <td>15to25</td>\n",
       "      <td>4195</td>\n",
       "      <td>5</td>\n",
       "      <td>9</td>\n",
       "    </tr>\n",
       "    <tr>\n",
       "      <th>3</th>\n",
       "      <td>7-10 yrs</td>\n",
       "      <td>Associate Manager Data Engineering</td>\n",
       "      <td>analytics</td>\n",
       "      <td>SQL, Javascript, Automation, Python, Ruby, Ana...</td>\n",
       "      <td>Bengaluru</td>\n",
       "      <td>10to15</td>\n",
       "      <td>313</td>\n",
       "      <td>7</td>\n",
       "      <td>10</td>\n",
       "    </tr>\n",
       "    <tr>\n",
       "      <th>4</th>\n",
       "      <td>1-3 yrs</td>\n",
       "      <td>TS- GSA- Senior Analyst</td>\n",
       "      <td>others</td>\n",
       "      <td>accounting, finance, cash flow, financial plan...</td>\n",
       "      <td>Gurgaon</td>\n",
       "      <td>3to6</td>\n",
       "      <td>1305</td>\n",
       "      <td>1</td>\n",
       "      <td>3</td>\n",
       "    </tr>\n",
       "  </tbody>\n",
       "</table>\n",
       "</div>"
      ],
      "text/plain": [
       "  experience                                          job_desig   job_type  \\\n",
       "0    5-7 yrs        Senior Exploit and Vulnerability Researcher     others   \n",
       "1  10-17 yrs                                           Head SCM     others   \n",
       "2    5-9 yrs  Deputy Manager - Talent Management & Leadershi...  analytics   \n",
       "3   7-10 yrs                 Associate Manager Data Engineering  analytics   \n",
       "4    1-3 yrs                            TS- GSA- Senior Analyst     others   \n",
       "\n",
       "                                          key_skills               location  \\\n",
       "0  team skills, communication skills, analytical ...  Delhi NCR(Vikas Puri)   \n",
       "1  ppc, logistics, inventory management, supply c...                Sonepat   \n",
       "2  HR Analytics, Employee Engagement, Training, S...              Delhi NCR   \n",
       "3  SQL, Javascript, Automation, Python, Ruby, Ana...              Bengaluru   \n",
       "4  accounting, finance, cash flow, financial plan...                Gurgaon   \n",
       "\n",
       "   salary  company_name_encoded  Exp_min  Exp_max  \n",
       "0   6to10                  3687        5        7  \n",
       "1  10to15                   458       10       17  \n",
       "2  15to25                  4195        5        9  \n",
       "3  10to15                   313        7       10  \n",
       "4    3to6                  1305        1        3  "
      ]
     },
     "execution_count": 178,
     "metadata": {},
     "output_type": "execute_result"
    }
   ],
   "source": [
    "ds_input.head()"
   ]
  },
  {
   "cell_type": "code",
   "execution_count": 179,
   "metadata": {},
   "outputs": [],
   "source": [
    "# Convert Categorical to Numerical for default column\n",
    "jobtype_dummies = pd.get_dummies(ds_input.job_type, prefix='jobtype')\n",
    "#location_new_dummies = pd.get_dummies(ds_input.location_new, prefix='loc')\n",
    "#exp_range_dummies = pd.get_dummies(ds_input.exp_range, prefix='exp_range')\n"
   ]
  },
  {
   "cell_type": "code",
   "execution_count": 180,
   "metadata": {},
   "outputs": [],
   "source": [
    "ds_input = pd.concat([ds_input,jobtype_dummies], axis=1)\n",
    "#ds_input = pd.concat([ds_input,location_new_dummies], axis=1)\n",
    "#ds_input = pd.concat([ds_input,exp_range_dummies], axis=1)"
   ]
  },
  {
   "cell_type": "code",
   "execution_count": 181,
   "metadata": {},
   "outputs": [],
   "source": [
    "# Merge job_desig+ job_type +key_skills\n",
    "ds_input[\"combined\"] = ds_input[\"job_desig\"]+ ' ' +ds_input[\"job_type\"]+ ' '+ds_input[\"key_skills\"]\n",
    "#ds_input = pd.concat([ds_input,location_new_dummies], axis=1)\n",
    "#ds_input = pd.concat([ds_input,exp_range_dummies], axis=1)"
   ]
  },
  {
   "cell_type": "code",
   "execution_count": 182,
   "metadata": {
    "scrolled": false
   },
   "outputs": [
    {
     "data": {
      "text/html": [
       "<div>\n",
       "<style scoped>\n",
       "    .dataframe tbody tr th:only-of-type {\n",
       "        vertical-align: middle;\n",
       "    }\n",
       "\n",
       "    .dataframe tbody tr th {\n",
       "        vertical-align: top;\n",
       "    }\n",
       "\n",
       "    .dataframe thead th {\n",
       "        text-align: right;\n",
       "    }\n",
       "</style>\n",
       "<table border=\"1\" class=\"dataframe\">\n",
       "  <thead>\n",
       "    <tr style=\"text-align: right;\">\n",
       "      <th></th>\n",
       "      <th>experience</th>\n",
       "      <th>job_desig</th>\n",
       "      <th>job_type</th>\n",
       "      <th>key_skills</th>\n",
       "      <th>location</th>\n",
       "      <th>salary</th>\n",
       "      <th>company_name_encoded</th>\n",
       "      <th>Exp_min</th>\n",
       "      <th>Exp_max</th>\n",
       "      <th>jobtype_analytics</th>\n",
       "      <th>jobtype_others</th>\n",
       "      <th>combined</th>\n",
       "    </tr>\n",
       "  </thead>\n",
       "  <tbody>\n",
       "    <tr>\n",
       "      <th>0</th>\n",
       "      <td>5-7 yrs</td>\n",
       "      <td>Senior Exploit and Vulnerability Researcher</td>\n",
       "      <td>others</td>\n",
       "      <td>team skills, communication skills, analytical ...</td>\n",
       "      <td>Delhi NCR(Vikas Puri)</td>\n",
       "      <td>6to10</td>\n",
       "      <td>3687</td>\n",
       "      <td>5</td>\n",
       "      <td>7</td>\n",
       "      <td>0</td>\n",
       "      <td>1</td>\n",
       "      <td>Senior Exploit and Vulnerability Researcher ot...</td>\n",
       "    </tr>\n",
       "    <tr>\n",
       "      <th>1</th>\n",
       "      <td>10-17 yrs</td>\n",
       "      <td>Head SCM</td>\n",
       "      <td>others</td>\n",
       "      <td>ppc, logistics, inventory management, supply c...</td>\n",
       "      <td>Sonepat</td>\n",
       "      <td>10to15</td>\n",
       "      <td>458</td>\n",
       "      <td>10</td>\n",
       "      <td>17</td>\n",
       "      <td>0</td>\n",
       "      <td>1</td>\n",
       "      <td>Head SCM others ppc, logistics, inventory mana...</td>\n",
       "    </tr>\n",
       "    <tr>\n",
       "      <th>2</th>\n",
       "      <td>5-9 yrs</td>\n",
       "      <td>Deputy Manager - Talent Management &amp; Leadershi...</td>\n",
       "      <td>analytics</td>\n",
       "      <td>HR Analytics, Employee Engagement, Training, S...</td>\n",
       "      <td>Delhi NCR</td>\n",
       "      <td>15to25</td>\n",
       "      <td>4195</td>\n",
       "      <td>5</td>\n",
       "      <td>9</td>\n",
       "      <td>1</td>\n",
       "      <td>0</td>\n",
       "      <td>Deputy Manager - Talent Management &amp; Leadershi...</td>\n",
       "    </tr>\n",
       "    <tr>\n",
       "      <th>3</th>\n",
       "      <td>7-10 yrs</td>\n",
       "      <td>Associate Manager Data Engineering</td>\n",
       "      <td>analytics</td>\n",
       "      <td>SQL, Javascript, Automation, Python, Ruby, Ana...</td>\n",
       "      <td>Bengaluru</td>\n",
       "      <td>10to15</td>\n",
       "      <td>313</td>\n",
       "      <td>7</td>\n",
       "      <td>10</td>\n",
       "      <td>1</td>\n",
       "      <td>0</td>\n",
       "      <td>Associate Manager Data Engineering analytics S...</td>\n",
       "    </tr>\n",
       "    <tr>\n",
       "      <th>4</th>\n",
       "      <td>1-3 yrs</td>\n",
       "      <td>TS- GSA- Senior Analyst</td>\n",
       "      <td>others</td>\n",
       "      <td>accounting, finance, cash flow, financial plan...</td>\n",
       "      <td>Gurgaon</td>\n",
       "      <td>3to6</td>\n",
       "      <td>1305</td>\n",
       "      <td>1</td>\n",
       "      <td>3</td>\n",
       "      <td>0</td>\n",
       "      <td>1</td>\n",
       "      <td>TS- GSA- Senior Analyst others accounting, fin...</td>\n",
       "    </tr>\n",
       "  </tbody>\n",
       "</table>\n",
       "</div>"
      ],
      "text/plain": [
       "  experience                                          job_desig   job_type  \\\n",
       "0    5-7 yrs        Senior Exploit and Vulnerability Researcher     others   \n",
       "1  10-17 yrs                                           Head SCM     others   \n",
       "2    5-9 yrs  Deputy Manager - Talent Management & Leadershi...  analytics   \n",
       "3   7-10 yrs                 Associate Manager Data Engineering  analytics   \n",
       "4    1-3 yrs                            TS- GSA- Senior Analyst     others   \n",
       "\n",
       "                                          key_skills               location  \\\n",
       "0  team skills, communication skills, analytical ...  Delhi NCR(Vikas Puri)   \n",
       "1  ppc, logistics, inventory management, supply c...                Sonepat   \n",
       "2  HR Analytics, Employee Engagement, Training, S...              Delhi NCR   \n",
       "3  SQL, Javascript, Automation, Python, Ruby, Ana...              Bengaluru   \n",
       "4  accounting, finance, cash flow, financial plan...                Gurgaon   \n",
       "\n",
       "   salary  company_name_encoded  Exp_min  Exp_max  jobtype_analytics  \\\n",
       "0   6to10                  3687        5        7                  0   \n",
       "1  10to15                   458       10       17                  0   \n",
       "2  15to25                  4195        5        9                  1   \n",
       "3  10to15                   313        7       10                  1   \n",
       "4    3to6                  1305        1        3                  0   \n",
       "\n",
       "   jobtype_others                                           combined  \n",
       "0               1  Senior Exploit and Vulnerability Researcher ot...  \n",
       "1               1  Head SCM others ppc, logistics, inventory mana...  \n",
       "2               0  Deputy Manager - Talent Management & Leadershi...  \n",
       "3               0  Associate Manager Data Engineering analytics S...  \n",
       "4               1  TS- GSA- Senior Analyst others accounting, fin...  "
      ]
     },
     "execution_count": 182,
     "metadata": {},
     "output_type": "execute_result"
    }
   ],
   "source": [
    "ds_input.head()"
   ]
  },
  {
   "cell_type": "code",
   "execution_count": 183,
   "metadata": {},
   "outputs": [],
   "source": [
    "df_train=ds_input.drop(['experience','job_desig','key_skills','company_name_encoded','location','job_type'],axis=1)\n",
    "df_train[\"combined\"] = df_train[\"combined\"]+ ' ' +ds_input[\"location\"]\n",
    "df_train.head()\n",
    "df_train.to_excel('df_train.xlsx')"
   ]
  },
  {
   "cell_type": "code",
   "execution_count": 184,
   "metadata": {
    "scrolled": false
   },
   "outputs": [
    {
     "data": {
      "text/html": [
       "<div>\n",
       "<style scoped>\n",
       "    .dataframe tbody tr th:only-of-type {\n",
       "        vertical-align: middle;\n",
       "    }\n",
       "\n",
       "    .dataframe tbody tr th {\n",
       "        vertical-align: top;\n",
       "    }\n",
       "\n",
       "    .dataframe thead th {\n",
       "        text-align: right;\n",
       "    }\n",
       "</style>\n",
       "<table border=\"1\" class=\"dataframe\">\n",
       "  <thead>\n",
       "    <tr style=\"text-align: right;\">\n",
       "      <th></th>\n",
       "      <th>salary</th>\n",
       "      <th>Exp_min</th>\n",
       "      <th>Exp_max</th>\n",
       "      <th>jobtype_analytics</th>\n",
       "      <th>jobtype_others</th>\n",
       "    </tr>\n",
       "  </thead>\n",
       "  <tbody>\n",
       "    <tr>\n",
       "      <th>0</th>\n",
       "      <td>6to10</td>\n",
       "      <td>5</td>\n",
       "      <td>7</td>\n",
       "      <td>0</td>\n",
       "      <td>1</td>\n",
       "    </tr>\n",
       "    <tr>\n",
       "      <th>1</th>\n",
       "      <td>10to15</td>\n",
       "      <td>10</td>\n",
       "      <td>17</td>\n",
       "      <td>0</td>\n",
       "      <td>1</td>\n",
       "    </tr>\n",
       "    <tr>\n",
       "      <th>2</th>\n",
       "      <td>15to25</td>\n",
       "      <td>5</td>\n",
       "      <td>9</td>\n",
       "      <td>1</td>\n",
       "      <td>0</td>\n",
       "    </tr>\n",
       "    <tr>\n",
       "      <th>3</th>\n",
       "      <td>10to15</td>\n",
       "      <td>7</td>\n",
       "      <td>10</td>\n",
       "      <td>1</td>\n",
       "      <td>0</td>\n",
       "    </tr>\n",
       "    <tr>\n",
       "      <th>4</th>\n",
       "      <td>3to6</td>\n",
       "      <td>1</td>\n",
       "      <td>3</td>\n",
       "      <td>0</td>\n",
       "      <td>1</td>\n",
       "    </tr>\n",
       "  </tbody>\n",
       "</table>\n",
       "</div>"
      ],
      "text/plain": [
       "   salary  Exp_min  Exp_max  jobtype_analytics  jobtype_others\n",
       "0   6to10        5        7                  0               1\n",
       "1  10to15       10       17                  0               1\n",
       "2  15to25        5        9                  1               0\n",
       "3  10to15        7       10                  1               0\n",
       "4    3to6        1        3                  0               1"
      ]
     },
     "execution_count": 184,
     "metadata": {},
     "output_type": "execute_result"
    }
   ],
   "source": [
    "#df= ds_input.drop(['experience','job_desig','job_type','key_skills','location','company_name_encoded','location_new','exp_range'],axis=1)\n",
    "df= ds_input.drop(['experience','job_desig','key_skills','company_name_encoded','location','job_type','combined'],axis=1)\n",
    "\n",
    "df.head()"
   ]
  },
  {
   "cell_type": "code",
   "execution_count": 185,
   "metadata": {},
   "outputs": [],
   "source": [
    "# splitting the data into train and test with 70:30 ratio\n",
    "\n",
    "Xd = df.drop('salary',axis = 1)\n",
    "yd = df['salary']\n"
   ]
  },
  {
   "cell_type": "markdown",
   "metadata": {
    "colab_type": "text",
    "id": "S44QmB3I2mg5"
   },
   "source": [
    "### Test Data cleaning  <a id='feature'>"
   ]
  },
  {
   "cell_type": "code",
   "execution_count": 186,
   "metadata": {},
   "outputs": [],
   "source": [
    "dst_input=pd.read_csv(r'Final_Test_Dataset.csv')"
   ]
  },
  {
   "cell_type": "code",
   "execution_count": 187,
   "metadata": {
    "scrolled": true
   },
   "outputs": [
    {
     "name": "stdout",
     "output_type": "stream",
     "text": [
      "<class 'pandas.core.frame.DataFrame'>\n",
      "RangeIndex: 6601 entries, 0 to 6600\n",
      "Data columns (total 7 columns):\n",
      "experience              6601 non-null object\n",
      "job_description         5079 non-null object\n",
      "job_desig               6601 non-null object\n",
      "job_type                1637 non-null object\n",
      "key_skills              6601 non-null object\n",
      "location                6601 non-null object\n",
      "company_name_encoded    6601 non-null int64\n",
      "dtypes: int64(1), object(6)\n",
      "memory usage: 361.1+ KB\n"
     ]
    }
   ],
   "source": [
    " dst_input.info()"
   ]
  },
  {
   "cell_type": "code",
   "execution_count": 188,
   "metadata": {
    "scrolled": true
   },
   "outputs": [],
   "source": [
    "#dropping job_desription as it seems to be covered by experience and skills.\n",
    "dst_input.drop('job_description',inplace= True,axis=1)"
   ]
  },
  {
   "cell_type": "code",
   "execution_count": 189,
   "metadata": {
    "scrolled": true
   },
   "outputs": [],
   "source": [
    "#dropping 1 null key skills row.\n",
    "dst_input.drop(ds_input[ds_input['key_skills'].isnull()].index.tolist(),inplace=True)"
   ]
  },
  {
   "cell_type": "code",
   "execution_count": 190,
   "metadata": {
    "scrolled": true
   },
   "outputs": [
    {
     "name": "stdout",
     "output_type": "stream",
     "text": [
      "<class 'pandas.core.frame.DataFrame'>\n",
      "Int64Index: 6601 entries, 0 to 6600\n",
      "Data columns (total 6 columns):\n",
      "experience              6601 non-null object\n",
      "job_desig               6601 non-null object\n",
      "job_type                1637 non-null object\n",
      "key_skills              6601 non-null object\n",
      "location                6601 non-null object\n",
      "company_name_encoded    6601 non-null int64\n",
      "dtypes: int64(1), object(5)\n",
      "memory usage: 361.0+ KB\n"
     ]
    }
   ],
   "source": [
    " dst_input.info()"
   ]
  },
  {
   "cell_type": "code",
   "execution_count": 191,
   "metadata": {},
   "outputs": [],
   "source": [
    "dst_input[\"job_type\"].fillna(\"Others\",inplace = True)"
   ]
  },
  {
   "cell_type": "code",
   "execution_count": 192,
   "metadata": {},
   "outputs": [],
   "source": [
    "# Job type \n",
    "dst_input[\"job_type\"] = ds_input[\"job_type\"].apply(lambda x: \" \".join(x.lower() for x in x.split()))\n",
    "dst_input[\"job_type\"]= ds_input[\"job_type\"].replace(\"analytic\", \"analytics\")\n"
   ]
  },
  {
   "cell_type": "code",
   "execution_count": 193,
   "metadata": {},
   "outputs": [],
   "source": [
    "dst_input[\"job_type\"].fillna(\"others\",inplace = True)"
   ]
  },
  {
   "cell_type": "code",
   "execution_count": 194,
   "metadata": {},
   "outputs": [
    {
     "data": {
      "text/html": [
       "<div>\n",
       "<style scoped>\n",
       "    .dataframe tbody tr th:only-of-type {\n",
       "        vertical-align: middle;\n",
       "    }\n",
       "\n",
       "    .dataframe tbody tr th {\n",
       "        vertical-align: top;\n",
       "    }\n",
       "\n",
       "    .dataframe thead th {\n",
       "        text-align: right;\n",
       "    }\n",
       "</style>\n",
       "<table border=\"1\" class=\"dataframe\">\n",
       "  <thead>\n",
       "    <tr style=\"text-align: right;\">\n",
       "      <th></th>\n",
       "      <th>0</th>\n",
       "      <th>1</th>\n",
       "    </tr>\n",
       "  </thead>\n",
       "  <tbody>\n",
       "    <tr>\n",
       "      <th>0</th>\n",
       "      <td>5</td>\n",
       "      <td>7</td>\n",
       "    </tr>\n",
       "    <tr>\n",
       "      <th>1</th>\n",
       "      <td>10</td>\n",
       "      <td>17</td>\n",
       "    </tr>\n",
       "    <tr>\n",
       "      <th>2</th>\n",
       "      <td>5</td>\n",
       "      <td>9</td>\n",
       "    </tr>\n",
       "    <tr>\n",
       "      <th>3</th>\n",
       "      <td>7</td>\n",
       "      <td>10</td>\n",
       "    </tr>\n",
       "    <tr>\n",
       "      <th>4</th>\n",
       "      <td>1</td>\n",
       "      <td>3</td>\n",
       "    </tr>\n",
       "    <tr>\n",
       "      <th>5</th>\n",
       "      <td>5</td>\n",
       "      <td>10</td>\n",
       "    </tr>\n",
       "    <tr>\n",
       "      <th>6</th>\n",
       "      <td>13</td>\n",
       "      <td>15</td>\n",
       "    </tr>\n",
       "    <tr>\n",
       "      <th>7</th>\n",
       "      <td>6</td>\n",
       "      <td>10</td>\n",
       "    </tr>\n",
       "    <tr>\n",
       "      <th>8</th>\n",
       "      <td>1</td>\n",
       "      <td>3</td>\n",
       "    </tr>\n",
       "    <tr>\n",
       "      <th>9</th>\n",
       "      <td>2</td>\n",
       "      <td>6</td>\n",
       "    </tr>\n",
       "    <tr>\n",
       "      <th>10</th>\n",
       "      <td>3</td>\n",
       "      <td>7</td>\n",
       "    </tr>\n",
       "    <tr>\n",
       "      <th>11</th>\n",
       "      <td>10</td>\n",
       "      <td>12</td>\n",
       "    </tr>\n",
       "    <tr>\n",
       "      <th>12</th>\n",
       "      <td>2</td>\n",
       "      <td>6</td>\n",
       "    </tr>\n",
       "    <tr>\n",
       "      <th>13</th>\n",
       "      <td>2</td>\n",
       "      <td>4</td>\n",
       "    </tr>\n",
       "    <tr>\n",
       "      <th>14</th>\n",
       "      <td>1</td>\n",
       "      <td>6</td>\n",
       "    </tr>\n",
       "    <tr>\n",
       "      <th>15</th>\n",
       "      <td>3</td>\n",
       "      <td>6</td>\n",
       "    </tr>\n",
       "    <tr>\n",
       "      <th>16</th>\n",
       "      <td>5</td>\n",
       "      <td>8</td>\n",
       "    </tr>\n",
       "    <tr>\n",
       "      <th>17</th>\n",
       "      <td>3</td>\n",
       "      <td>6</td>\n",
       "    </tr>\n",
       "    <tr>\n",
       "      <th>18</th>\n",
       "      <td>4</td>\n",
       "      <td>9</td>\n",
       "    </tr>\n",
       "    <tr>\n",
       "      <th>19</th>\n",
       "      <td>3</td>\n",
       "      <td>5</td>\n",
       "    </tr>\n",
       "    <tr>\n",
       "      <th>20</th>\n",
       "      <td>1</td>\n",
       "      <td>5</td>\n",
       "    </tr>\n",
       "    <tr>\n",
       "      <th>21</th>\n",
       "      <td>8</td>\n",
       "      <td>12</td>\n",
       "    </tr>\n",
       "    <tr>\n",
       "      <th>22</th>\n",
       "      <td>10</td>\n",
       "      <td>12</td>\n",
       "    </tr>\n",
       "    <tr>\n",
       "      <th>23</th>\n",
       "      <td>3</td>\n",
       "      <td>5</td>\n",
       "    </tr>\n",
       "    <tr>\n",
       "      <th>24</th>\n",
       "      <td>1</td>\n",
       "      <td>4</td>\n",
       "    </tr>\n",
       "    <tr>\n",
       "      <th>25</th>\n",
       "      <td>10</td>\n",
       "      <td>20</td>\n",
       "    </tr>\n",
       "    <tr>\n",
       "      <th>26</th>\n",
       "      <td>3</td>\n",
       "      <td>7</td>\n",
       "    </tr>\n",
       "    <tr>\n",
       "      <th>27</th>\n",
       "      <td>3</td>\n",
       "      <td>5</td>\n",
       "    </tr>\n",
       "    <tr>\n",
       "      <th>28</th>\n",
       "      <td>1</td>\n",
       "      <td>3</td>\n",
       "    </tr>\n",
       "    <tr>\n",
       "      <th>29</th>\n",
       "      <td>2</td>\n",
       "      <td>5</td>\n",
       "    </tr>\n",
       "    <tr>\n",
       "      <th>...</th>\n",
       "      <td>...</td>\n",
       "      <td>...</td>\n",
       "    </tr>\n",
       "    <tr>\n",
       "      <th>19772</th>\n",
       "      <td>0</td>\n",
       "      <td>1</td>\n",
       "    </tr>\n",
       "    <tr>\n",
       "      <th>19773</th>\n",
       "      <td>18</td>\n",
       "      <td>25</td>\n",
       "    </tr>\n",
       "    <tr>\n",
       "      <th>19774</th>\n",
       "      <td>7</td>\n",
       "      <td>10</td>\n",
       "    </tr>\n",
       "    <tr>\n",
       "      <th>19775</th>\n",
       "      <td>1</td>\n",
       "      <td>5</td>\n",
       "    </tr>\n",
       "    <tr>\n",
       "      <th>19776</th>\n",
       "      <td>0</td>\n",
       "      <td>1</td>\n",
       "    </tr>\n",
       "    <tr>\n",
       "      <th>19777</th>\n",
       "      <td>8</td>\n",
       "      <td>13</td>\n",
       "    </tr>\n",
       "    <tr>\n",
       "      <th>19778</th>\n",
       "      <td>9</td>\n",
       "      <td>11</td>\n",
       "    </tr>\n",
       "    <tr>\n",
       "      <th>19779</th>\n",
       "      <td>9</td>\n",
       "      <td>14</td>\n",
       "    </tr>\n",
       "    <tr>\n",
       "      <th>19780</th>\n",
       "      <td>3</td>\n",
       "      <td>5</td>\n",
       "    </tr>\n",
       "    <tr>\n",
       "      <th>19781</th>\n",
       "      <td>2</td>\n",
       "      <td>5</td>\n",
       "    </tr>\n",
       "    <tr>\n",
       "      <th>19782</th>\n",
       "      <td>1</td>\n",
       "      <td>4</td>\n",
       "    </tr>\n",
       "    <tr>\n",
       "      <th>19783</th>\n",
       "      <td>5</td>\n",
       "      <td>10</td>\n",
       "    </tr>\n",
       "    <tr>\n",
       "      <th>19784</th>\n",
       "      <td>5</td>\n",
       "      <td>8</td>\n",
       "    </tr>\n",
       "    <tr>\n",
       "      <th>19785</th>\n",
       "      <td>7</td>\n",
       "      <td>10</td>\n",
       "    </tr>\n",
       "    <tr>\n",
       "      <th>19786</th>\n",
       "      <td>1</td>\n",
       "      <td>6</td>\n",
       "    </tr>\n",
       "    <tr>\n",
       "      <th>19787</th>\n",
       "      <td>5</td>\n",
       "      <td>10</td>\n",
       "    </tr>\n",
       "    <tr>\n",
       "      <th>19788</th>\n",
       "      <td>1</td>\n",
       "      <td>6</td>\n",
       "    </tr>\n",
       "    <tr>\n",
       "      <th>19789</th>\n",
       "      <td>8</td>\n",
       "      <td>11</td>\n",
       "    </tr>\n",
       "    <tr>\n",
       "      <th>19790</th>\n",
       "      <td>1</td>\n",
       "      <td>6</td>\n",
       "    </tr>\n",
       "    <tr>\n",
       "      <th>19791</th>\n",
       "      <td>9</td>\n",
       "      <td>14</td>\n",
       "    </tr>\n",
       "    <tr>\n",
       "      <th>19792</th>\n",
       "      <td>5</td>\n",
       "      <td>10</td>\n",
       "    </tr>\n",
       "    <tr>\n",
       "      <th>19793</th>\n",
       "      <td>4</td>\n",
       "      <td>7</td>\n",
       "    </tr>\n",
       "    <tr>\n",
       "      <th>19794</th>\n",
       "      <td>7</td>\n",
       "      <td>12</td>\n",
       "    </tr>\n",
       "    <tr>\n",
       "      <th>19795</th>\n",
       "      <td>3</td>\n",
       "      <td>6</td>\n",
       "    </tr>\n",
       "    <tr>\n",
       "      <th>19796</th>\n",
       "      <td>1</td>\n",
       "      <td>3</td>\n",
       "    </tr>\n",
       "    <tr>\n",
       "      <th>19797</th>\n",
       "      <td>12</td>\n",
       "      <td>18</td>\n",
       "    </tr>\n",
       "    <tr>\n",
       "      <th>19798</th>\n",
       "      <td>0</td>\n",
       "      <td>3</td>\n",
       "    </tr>\n",
       "    <tr>\n",
       "      <th>19799</th>\n",
       "      <td>8</td>\n",
       "      <td>13</td>\n",
       "    </tr>\n",
       "    <tr>\n",
       "      <th>19800</th>\n",
       "      <td>1</td>\n",
       "      <td>3</td>\n",
       "    </tr>\n",
       "    <tr>\n",
       "      <th>19801</th>\n",
       "      <td>2</td>\n",
       "      <td>5</td>\n",
       "    </tr>\n",
       "  </tbody>\n",
       "</table>\n",
       "<p>19801 rows × 2 columns</p>\n",
       "</div>"
      ],
      "text/plain": [
       "        0    1\n",
       "0       5   7 \n",
       "1      10  17 \n",
       "2       5   9 \n",
       "3       7  10 \n",
       "4       1   3 \n",
       "5       5  10 \n",
       "6      13  15 \n",
       "7       6  10 \n",
       "8       1   3 \n",
       "9       2   6 \n",
       "10      3   7 \n",
       "11     10  12 \n",
       "12      2   6 \n",
       "13      2   4 \n",
       "14      1   6 \n",
       "15      3   6 \n",
       "16      5   8 \n",
       "17      3   6 \n",
       "18      4   9 \n",
       "19      3   5 \n",
       "20      1   5 \n",
       "21      8  12 \n",
       "22     10  12 \n",
       "23      3   5 \n",
       "24      1   4 \n",
       "25     10  20 \n",
       "26      3   7 \n",
       "27      3   5 \n",
       "28      1   3 \n",
       "29      2   5 \n",
       "...    ..  ...\n",
       "19772   0   1 \n",
       "19773  18  25 \n",
       "19774   7  10 \n",
       "19775   1   5 \n",
       "19776   0   1 \n",
       "19777   8  13 \n",
       "19778   9  11 \n",
       "19779   9  14 \n",
       "19780   3   5 \n",
       "19781   2   5 \n",
       "19782   1   4 \n",
       "19783   5  10 \n",
       "19784   5   8 \n",
       "19785   7  10 \n",
       "19786   1   6 \n",
       "19787   5  10 \n",
       "19788   1   6 \n",
       "19789   8  11 \n",
       "19790   1   6 \n",
       "19791   9  14 \n",
       "19792   5  10 \n",
       "19793   4   7 \n",
       "19794   7  12 \n",
       "19795   3   6 \n",
       "19796   1   3 \n",
       "19797  12  18 \n",
       "19798   0   3 \n",
       "19799   8  13 \n",
       "19800   1   3 \n",
       "19801   2   5 \n",
       "\n",
       "[19801 rows x 2 columns]"
      ]
     },
     "execution_count": 194,
     "metadata": {},
     "output_type": "execute_result"
    }
   ],
   "source": [
    "dst_exp = ds_input[\"experience\"].str.split(\"-\",n=1,expand=True)\n",
    "dst_exp[1]=ds_exp[1].str.replace(\"yrs\",'')\n",
    "dst_exp"
   ]
  },
  {
   "cell_type": "code",
   "execution_count": 195,
   "metadata": {},
   "outputs": [],
   "source": [
    "dst_exp = dst_input[\"experience\"].str.split(\"-\",n=1,expand=True)\n",
    "dst_exp[1]=dst_exp[1].str.replace(\"yrs\",'')\n",
    "dst_exp\n",
    "dst_input[\"Exp_min\"]= dst_exp[0].astype(str).astype(int)\n",
    "dst_input[\"Exp_max\"]= dst_exp[1].astype(str).astype(int)"
   ]
  },
  {
   "cell_type": "code",
   "execution_count": 196,
   "metadata": {},
   "outputs": [],
   "source": [
    "# Convert Categorical to Numerical for default column\n",
    "jobtype_dummies = pd.get_dummies(dst_input.job_type, prefix='jobtype')\n",
    "#location_new_dummies = pd.get_dummies(dst_input.location_new, prefix='loc')\n",
    "#exp_range_dummies = pd.get_dummies(dst_input.exp_range, prefix='exp_range')\n"
   ]
  },
  {
   "cell_type": "code",
   "execution_count": 197,
   "metadata": {},
   "outputs": [],
   "source": [
    "dst_input = pd.concat([dst_input,jobtype_dummies], axis=1)\n",
    "#dst_input = pd.concat([dst_input,location_new_dummies], axis=1)\n",
    "#dst_input = pd.concat([dst_input,exp_range_dummies], axis=1)"
   ]
  },
  {
   "cell_type": "code",
   "execution_count": 198,
   "metadata": {},
   "outputs": [],
   "source": [
    "# Merge job_desig+ job_type +key_skills\n",
    "dst_input[\"combined\"] = dst_input[\"job_desig\"]+ ' ' +dst_input[\"job_type\"]+ ' '+dst_input[\"key_skills\"]\n"
   ]
  },
  {
   "cell_type": "code",
   "execution_count": 199,
   "metadata": {
    "scrolled": false
   },
   "outputs": [
    {
     "data": {
      "text/html": [
       "<div>\n",
       "<style scoped>\n",
       "    .dataframe tbody tr th:only-of-type {\n",
       "        vertical-align: middle;\n",
       "    }\n",
       "\n",
       "    .dataframe tbody tr th {\n",
       "        vertical-align: top;\n",
       "    }\n",
       "\n",
       "    .dataframe thead th {\n",
       "        text-align: right;\n",
       "    }\n",
       "</style>\n",
       "<table border=\"1\" class=\"dataframe\">\n",
       "  <thead>\n",
       "    <tr style=\"text-align: right;\">\n",
       "      <th></th>\n",
       "      <th>experience</th>\n",
       "      <th>job_desig</th>\n",
       "      <th>job_type</th>\n",
       "      <th>key_skills</th>\n",
       "      <th>location</th>\n",
       "      <th>company_name_encoded</th>\n",
       "      <th>Exp_min</th>\n",
       "      <th>Exp_max</th>\n",
       "      <th>jobtype_analytics</th>\n",
       "      <th>jobtype_others</th>\n",
       "      <th>combined</th>\n",
       "    </tr>\n",
       "  </thead>\n",
       "  <tbody>\n",
       "    <tr>\n",
       "      <th>0</th>\n",
       "      <td>7-12 yrs</td>\n",
       "      <td>IT Technology Senior Consultant/java/ J2ee/ Se...</td>\n",
       "      <td>others</td>\n",
       "      <td>Java, J2Ee, Tomcat, JBoss, Weblogic, Oracle, E...</td>\n",
       "      <td>Bengaluru</td>\n",
       "      <td>2066</td>\n",
       "      <td>7</td>\n",
       "      <td>12</td>\n",
       "      <td>0</td>\n",
       "      <td>1</td>\n",
       "      <td>IT Technology Senior Consultant/java/ J2ee/ Se...</td>\n",
       "    </tr>\n",
       "    <tr>\n",
       "      <th>1</th>\n",
       "      <td>0-5 yrs</td>\n",
       "      <td>Medical Billing Process | International KPO | ...</td>\n",
       "      <td>others</td>\n",
       "      <td>Medical Billing, Insurance Processing</td>\n",
       "      <td>Ahmedabad(Sola)</td>\n",
       "      <td>2629</td>\n",
       "      <td>0</td>\n",
       "      <td>5</td>\n",
       "      <td>0</td>\n",
       "      <td>1</td>\n",
       "      <td>Medical Billing Process | International KPO | ...</td>\n",
       "    </tr>\n",
       "    <tr>\n",
       "      <th>2</th>\n",
       "      <td>3-6 yrs</td>\n",
       "      <td>Oracle Sales Cloud Functional Consultant</td>\n",
       "      <td>analytics</td>\n",
       "      <td>Oracle Sales, Functional Consultancy, Troubles...</td>\n",
       "      <td>Bengaluru</td>\n",
       "      <td>2448</td>\n",
       "      <td>3</td>\n",
       "      <td>6</td>\n",
       "      <td>1</td>\n",
       "      <td>0</td>\n",
       "      <td>Oracle Sales Cloud Functional Consultant analy...</td>\n",
       "    </tr>\n",
       "    <tr>\n",
       "      <th>3</th>\n",
       "      <td>0-3 yrs</td>\n",
       "      <td>Looking For Freshers WHO WANT To Work WITH US</td>\n",
       "      <td>analytics</td>\n",
       "      <td>offline, online, internet, part time, home bas...</td>\n",
       "      <td>Delhi NCR, Chennai, Hyderabad, Gurgaon, Luckno...</td>\n",
       "      <td>2711</td>\n",
       "      <td>0</td>\n",
       "      <td>3</td>\n",
       "      <td>1</td>\n",
       "      <td>0</td>\n",
       "      <td>Looking For Freshers WHO WANT To Work WITH US ...</td>\n",
       "    </tr>\n",
       "    <tr>\n",
       "      <th>4</th>\n",
       "      <td>0-5 yrs</td>\n",
       "      <td>Process Associate / Sr Process Associate / Tec...</td>\n",
       "      <td>others</td>\n",
       "      <td>voice support, analytical skills, Process asso...</td>\n",
       "      <td>Hyderabad</td>\n",
       "      <td>40</td>\n",
       "      <td>0</td>\n",
       "      <td>5</td>\n",
       "      <td>0</td>\n",
       "      <td>1</td>\n",
       "      <td>Process Associate / Sr Process Associate / Tec...</td>\n",
       "    </tr>\n",
       "  </tbody>\n",
       "</table>\n",
       "</div>"
      ],
      "text/plain": [
       "  experience                                          job_desig   job_type  \\\n",
       "0   7-12 yrs  IT Technology Senior Consultant/java/ J2ee/ Se...     others   \n",
       "1    0-5 yrs  Medical Billing Process | International KPO | ...     others   \n",
       "2    3-6 yrs           Oracle Sales Cloud Functional Consultant  analytics   \n",
       "3    0-3 yrs      Looking For Freshers WHO WANT To Work WITH US  analytics   \n",
       "4    0-5 yrs  Process Associate / Sr Process Associate / Tec...     others   \n",
       "\n",
       "                                          key_skills  \\\n",
       "0  Java, J2Ee, Tomcat, JBoss, Weblogic, Oracle, E...   \n",
       "1              Medical Billing, Insurance Processing   \n",
       "2  Oracle Sales, Functional Consultancy, Troubles...   \n",
       "3  offline, online, internet, part time, home bas...   \n",
       "4  voice support, analytical skills, Process asso...   \n",
       "\n",
       "                                            location  company_name_encoded  \\\n",
       "0                                          Bengaluru                  2066   \n",
       "1                                    Ahmedabad(Sola)                  2629   \n",
       "2                                          Bengaluru                  2448   \n",
       "3  Delhi NCR, Chennai, Hyderabad, Gurgaon, Luckno...                  2711   \n",
       "4                                          Hyderabad                    40   \n",
       "\n",
       "   Exp_min  Exp_max  jobtype_analytics  jobtype_others  \\\n",
       "0        7       12                  0               1   \n",
       "1        0        5                  0               1   \n",
       "2        3        6                  1               0   \n",
       "3        0        3                  1               0   \n",
       "4        0        5                  0               1   \n",
       "\n",
       "                                            combined  \n",
       "0  IT Technology Senior Consultant/java/ J2ee/ Se...  \n",
       "1  Medical Billing Process | International KPO | ...  \n",
       "2  Oracle Sales Cloud Functional Consultant analy...  \n",
       "3  Looking For Freshers WHO WANT To Work WITH US ...  \n",
       "4  Process Associate / Sr Process Associate / Tec...  "
      ]
     },
     "execution_count": 199,
     "metadata": {},
     "output_type": "execute_result"
    }
   ],
   "source": [
    "dst_input.head()"
   ]
  },
  {
   "cell_type": "code",
   "execution_count": 200,
   "metadata": {},
   "outputs": [
    {
     "name": "stdout",
     "output_type": "stream",
     "text": [
      "<class 'pandas.core.frame.DataFrame'>\n",
      "Int64Index: 6601 entries, 0 to 6600\n",
      "Data columns (total 11 columns):\n",
      "experience              6601 non-null object\n",
      "job_desig               6601 non-null object\n",
      "job_type                6601 non-null object\n",
      "key_skills              6601 non-null object\n",
      "location                6601 non-null object\n",
      "company_name_encoded    6601 non-null int64\n",
      "Exp_min                 6601 non-null int32\n",
      "Exp_max                 6601 non-null int32\n",
      "jobtype_analytics       6601 non-null uint8\n",
      "jobtype_others          6601 non-null uint8\n",
      "combined                6601 non-null object\n",
      "dtypes: int32(2), int64(1), object(6), uint8(2)\n",
      "memory usage: 477.0+ KB\n"
     ]
    }
   ],
   "source": [
    "dst_input.info()"
   ]
  },
  {
   "cell_type": "code",
   "execution_count": 201,
   "metadata": {},
   "outputs": [],
   "source": [
    "df_test=dst_input.drop(['experience','job_desig','key_skills','company_name_encoded','location','job_type'],axis=1)\n",
    "df_test[\"combined\"] = df_test[\"combined\"]+ ' ' +dst_input[\"location\"]\n",
    "df_test.head()\n",
    "df_test.to_excel('df_test.xlsx')"
   ]
  },
  {
   "cell_type": "code",
   "execution_count": 202,
   "metadata": {
    "scrolled": true
   },
   "outputs": [
    {
     "data": {
      "text/html": [
       "<div>\n",
       "<style scoped>\n",
       "    .dataframe tbody tr th:only-of-type {\n",
       "        vertical-align: middle;\n",
       "    }\n",
       "\n",
       "    .dataframe tbody tr th {\n",
       "        vertical-align: top;\n",
       "    }\n",
       "\n",
       "    .dataframe thead th {\n",
       "        text-align: right;\n",
       "    }\n",
       "</style>\n",
       "<table border=\"1\" class=\"dataframe\">\n",
       "  <thead>\n",
       "    <tr style=\"text-align: right;\">\n",
       "      <th></th>\n",
       "      <th>Exp_min</th>\n",
       "      <th>Exp_max</th>\n",
       "      <th>jobtype_analytics</th>\n",
       "      <th>jobtype_others</th>\n",
       "    </tr>\n",
       "  </thead>\n",
       "  <tbody>\n",
       "    <tr>\n",
       "      <th>0</th>\n",
       "      <td>7</td>\n",
       "      <td>12</td>\n",
       "      <td>0</td>\n",
       "      <td>1</td>\n",
       "    </tr>\n",
       "    <tr>\n",
       "      <th>1</th>\n",
       "      <td>0</td>\n",
       "      <td>5</td>\n",
       "      <td>0</td>\n",
       "      <td>1</td>\n",
       "    </tr>\n",
       "    <tr>\n",
       "      <th>2</th>\n",
       "      <td>3</td>\n",
       "      <td>6</td>\n",
       "      <td>1</td>\n",
       "      <td>0</td>\n",
       "    </tr>\n",
       "    <tr>\n",
       "      <th>3</th>\n",
       "      <td>0</td>\n",
       "      <td>3</td>\n",
       "      <td>1</td>\n",
       "      <td>0</td>\n",
       "    </tr>\n",
       "    <tr>\n",
       "      <th>4</th>\n",
       "      <td>0</td>\n",
       "      <td>5</td>\n",
       "      <td>0</td>\n",
       "      <td>1</td>\n",
       "    </tr>\n",
       "  </tbody>\n",
       "</table>\n",
       "</div>"
      ],
      "text/plain": [
       "   Exp_min  Exp_max  jobtype_analytics  jobtype_others\n",
       "0        7       12                  0               1\n",
       "1        0        5                  0               1\n",
       "2        3        6                  1               0\n",
       "3        0        3                  1               0\n",
       "4        0        5                  0               1"
      ]
     },
     "execution_count": 202,
     "metadata": {},
     "output_type": "execute_result"
    }
   ],
   "source": [
    "#dft= dst_input.drop(['experience','job_desig','job_type','key_skills','location','company_name_encoded','location_new','exp_range'],axis=1)\n",
    "dft= dst_input.drop(['experience','job_desig','key_skills','company_name_encoded','location','job_type','combined'],axis=1)\n",
    "\n",
    "dft.head()"
   ]
  },
  {
   "cell_type": "code",
   "execution_count": 203,
   "metadata": {
    "colab": {},
    "colab_type": "code",
    "id": "bU0vPTsM3ZeN",
    "outputId": "5ddc3c7d-94ae-404a-da3b-c871cdf6e7db"
   },
   "outputs": [
    {
     "data": {
      "text/html": [
       "<div>\n",
       "<style scoped>\n",
       "    .dataframe tbody tr th:only-of-type {\n",
       "        vertical-align: middle;\n",
       "    }\n",
       "\n",
       "    .dataframe tbody tr th {\n",
       "        vertical-align: top;\n",
       "    }\n",
       "\n",
       "    .dataframe thead th {\n",
       "        text-align: right;\n",
       "    }\n",
       "</style>\n",
       "<table border=\"1\" class=\"dataframe\">\n",
       "  <thead>\n",
       "    <tr style=\"text-align: right;\">\n",
       "      <th></th>\n",
       "      <th>Exp_min</th>\n",
       "      <th>Exp_max</th>\n",
       "      <th>jobtype_analytics</th>\n",
       "      <th>jobtype_others</th>\n",
       "    </tr>\n",
       "  </thead>\n",
       "  <tbody>\n",
       "    <tr>\n",
       "      <th>0</th>\n",
       "      <td>7</td>\n",
       "      <td>12</td>\n",
       "      <td>0</td>\n",
       "      <td>1</td>\n",
       "    </tr>\n",
       "    <tr>\n",
       "      <th>1</th>\n",
       "      <td>0</td>\n",
       "      <td>5</td>\n",
       "      <td>0</td>\n",
       "      <td>1</td>\n",
       "    </tr>\n",
       "    <tr>\n",
       "      <th>2</th>\n",
       "      <td>3</td>\n",
       "      <td>6</td>\n",
       "      <td>1</td>\n",
       "      <td>0</td>\n",
       "    </tr>\n",
       "    <tr>\n",
       "      <th>3</th>\n",
       "      <td>0</td>\n",
       "      <td>3</td>\n",
       "      <td>1</td>\n",
       "      <td>0</td>\n",
       "    </tr>\n",
       "    <tr>\n",
       "      <th>4</th>\n",
       "      <td>0</td>\n",
       "      <td>5</td>\n",
       "      <td>0</td>\n",
       "      <td>1</td>\n",
       "    </tr>\n",
       "    <tr>\n",
       "      <th>5</th>\n",
       "      <td>4</td>\n",
       "      <td>6</td>\n",
       "      <td>0</td>\n",
       "      <td>1</td>\n",
       "    </tr>\n",
       "    <tr>\n",
       "      <th>6</th>\n",
       "      <td>10</td>\n",
       "      <td>20</td>\n",
       "      <td>1</td>\n",
       "      <td>0</td>\n",
       "    </tr>\n",
       "    <tr>\n",
       "      <th>7</th>\n",
       "      <td>0</td>\n",
       "      <td>2</td>\n",
       "      <td>0</td>\n",
       "      <td>1</td>\n",
       "    </tr>\n",
       "    <tr>\n",
       "      <th>8</th>\n",
       "      <td>6</td>\n",
       "      <td>8</td>\n",
       "      <td>0</td>\n",
       "      <td>1</td>\n",
       "    </tr>\n",
       "    <tr>\n",
       "      <th>9</th>\n",
       "      <td>0</td>\n",
       "      <td>5</td>\n",
       "      <td>0</td>\n",
       "      <td>1</td>\n",
       "    </tr>\n",
       "    <tr>\n",
       "      <th>10</th>\n",
       "      <td>10</td>\n",
       "      <td>15</td>\n",
       "      <td>0</td>\n",
       "      <td>1</td>\n",
       "    </tr>\n",
       "    <tr>\n",
       "      <th>11</th>\n",
       "      <td>6</td>\n",
       "      <td>9</td>\n",
       "      <td>1</td>\n",
       "      <td>0</td>\n",
       "    </tr>\n",
       "    <tr>\n",
       "      <th>12</th>\n",
       "      <td>3</td>\n",
       "      <td>7</td>\n",
       "      <td>1</td>\n",
       "      <td>0</td>\n",
       "    </tr>\n",
       "    <tr>\n",
       "      <th>13</th>\n",
       "      <td>8</td>\n",
       "      <td>12</td>\n",
       "      <td>1</td>\n",
       "      <td>0</td>\n",
       "    </tr>\n",
       "    <tr>\n",
       "      <th>14</th>\n",
       "      <td>3</td>\n",
       "      <td>6</td>\n",
       "      <td>0</td>\n",
       "      <td>1</td>\n",
       "    </tr>\n",
       "    <tr>\n",
       "      <th>15</th>\n",
       "      <td>2</td>\n",
       "      <td>4</td>\n",
       "      <td>0</td>\n",
       "      <td>1</td>\n",
       "    </tr>\n",
       "    <tr>\n",
       "      <th>16</th>\n",
       "      <td>1</td>\n",
       "      <td>5</td>\n",
       "      <td>0</td>\n",
       "      <td>1</td>\n",
       "    </tr>\n",
       "    <tr>\n",
       "      <th>17</th>\n",
       "      <td>0</td>\n",
       "      <td>2</td>\n",
       "      <td>0</td>\n",
       "      <td>1</td>\n",
       "    </tr>\n",
       "    <tr>\n",
       "      <th>18</th>\n",
       "      <td>5</td>\n",
       "      <td>10</td>\n",
       "      <td>0</td>\n",
       "      <td>1</td>\n",
       "    </tr>\n",
       "    <tr>\n",
       "      <th>19</th>\n",
       "      <td>3</td>\n",
       "      <td>6</td>\n",
       "      <td>0</td>\n",
       "      <td>1</td>\n",
       "    </tr>\n",
       "    <tr>\n",
       "      <th>20</th>\n",
       "      <td>2</td>\n",
       "      <td>5</td>\n",
       "      <td>0</td>\n",
       "      <td>1</td>\n",
       "    </tr>\n",
       "    <tr>\n",
       "      <th>21</th>\n",
       "      <td>10</td>\n",
       "      <td>16</td>\n",
       "      <td>0</td>\n",
       "      <td>1</td>\n",
       "    </tr>\n",
       "    <tr>\n",
       "      <th>22</th>\n",
       "      <td>2</td>\n",
       "      <td>4</td>\n",
       "      <td>1</td>\n",
       "      <td>0</td>\n",
       "    </tr>\n",
       "    <tr>\n",
       "      <th>23</th>\n",
       "      <td>4</td>\n",
       "      <td>6</td>\n",
       "      <td>0</td>\n",
       "      <td>1</td>\n",
       "    </tr>\n",
       "    <tr>\n",
       "      <th>24</th>\n",
       "      <td>4</td>\n",
       "      <td>9</td>\n",
       "      <td>0</td>\n",
       "      <td>1</td>\n",
       "    </tr>\n",
       "    <tr>\n",
       "      <th>25</th>\n",
       "      <td>0</td>\n",
       "      <td>1</td>\n",
       "      <td>0</td>\n",
       "      <td>1</td>\n",
       "    </tr>\n",
       "    <tr>\n",
       "      <th>26</th>\n",
       "      <td>10</td>\n",
       "      <td>15</td>\n",
       "      <td>0</td>\n",
       "      <td>1</td>\n",
       "    </tr>\n",
       "    <tr>\n",
       "      <th>27</th>\n",
       "      <td>5</td>\n",
       "      <td>10</td>\n",
       "      <td>0</td>\n",
       "      <td>1</td>\n",
       "    </tr>\n",
       "    <tr>\n",
       "      <th>28</th>\n",
       "      <td>7</td>\n",
       "      <td>12</td>\n",
       "      <td>1</td>\n",
       "      <td>0</td>\n",
       "    </tr>\n",
       "    <tr>\n",
       "      <th>29</th>\n",
       "      <td>2</td>\n",
       "      <td>5</td>\n",
       "      <td>0</td>\n",
       "      <td>1</td>\n",
       "    </tr>\n",
       "    <tr>\n",
       "      <th>...</th>\n",
       "      <td>...</td>\n",
       "      <td>...</td>\n",
       "      <td>...</td>\n",
       "      <td>...</td>\n",
       "    </tr>\n",
       "    <tr>\n",
       "      <th>6571</th>\n",
       "      <td>2</td>\n",
       "      <td>6</td>\n",
       "      <td>0</td>\n",
       "      <td>1</td>\n",
       "    </tr>\n",
       "    <tr>\n",
       "      <th>6572</th>\n",
       "      <td>3</td>\n",
       "      <td>6</td>\n",
       "      <td>1</td>\n",
       "      <td>0</td>\n",
       "    </tr>\n",
       "    <tr>\n",
       "      <th>6573</th>\n",
       "      <td>3</td>\n",
       "      <td>8</td>\n",
       "      <td>0</td>\n",
       "      <td>1</td>\n",
       "    </tr>\n",
       "    <tr>\n",
       "      <th>6574</th>\n",
       "      <td>4</td>\n",
       "      <td>7</td>\n",
       "      <td>0</td>\n",
       "      <td>1</td>\n",
       "    </tr>\n",
       "    <tr>\n",
       "      <th>6575</th>\n",
       "      <td>0</td>\n",
       "      <td>4</td>\n",
       "      <td>0</td>\n",
       "      <td>1</td>\n",
       "    </tr>\n",
       "    <tr>\n",
       "      <th>6576</th>\n",
       "      <td>18</td>\n",
       "      <td>22</td>\n",
       "      <td>0</td>\n",
       "      <td>1</td>\n",
       "    </tr>\n",
       "    <tr>\n",
       "      <th>6577</th>\n",
       "      <td>0</td>\n",
       "      <td>3</td>\n",
       "      <td>0</td>\n",
       "      <td>1</td>\n",
       "    </tr>\n",
       "    <tr>\n",
       "      <th>6578</th>\n",
       "      <td>5</td>\n",
       "      <td>10</td>\n",
       "      <td>0</td>\n",
       "      <td>1</td>\n",
       "    </tr>\n",
       "    <tr>\n",
       "      <th>6579</th>\n",
       "      <td>8</td>\n",
       "      <td>12</td>\n",
       "      <td>0</td>\n",
       "      <td>1</td>\n",
       "    </tr>\n",
       "    <tr>\n",
       "      <th>6580</th>\n",
       "      <td>10</td>\n",
       "      <td>20</td>\n",
       "      <td>0</td>\n",
       "      <td>1</td>\n",
       "    </tr>\n",
       "    <tr>\n",
       "      <th>6581</th>\n",
       "      <td>7</td>\n",
       "      <td>10</td>\n",
       "      <td>0</td>\n",
       "      <td>1</td>\n",
       "    </tr>\n",
       "    <tr>\n",
       "      <th>6582</th>\n",
       "      <td>2</td>\n",
       "      <td>4</td>\n",
       "      <td>0</td>\n",
       "      <td>1</td>\n",
       "    </tr>\n",
       "    <tr>\n",
       "      <th>6583</th>\n",
       "      <td>4</td>\n",
       "      <td>9</td>\n",
       "      <td>0</td>\n",
       "      <td>1</td>\n",
       "    </tr>\n",
       "    <tr>\n",
       "      <th>6584</th>\n",
       "      <td>0</td>\n",
       "      <td>3</td>\n",
       "      <td>0</td>\n",
       "      <td>1</td>\n",
       "    </tr>\n",
       "    <tr>\n",
       "      <th>6585</th>\n",
       "      <td>10</td>\n",
       "      <td>15</td>\n",
       "      <td>1</td>\n",
       "      <td>0</td>\n",
       "    </tr>\n",
       "    <tr>\n",
       "      <th>6586</th>\n",
       "      <td>4</td>\n",
       "      <td>6</td>\n",
       "      <td>0</td>\n",
       "      <td>1</td>\n",
       "    </tr>\n",
       "    <tr>\n",
       "      <th>6587</th>\n",
       "      <td>10</td>\n",
       "      <td>12</td>\n",
       "      <td>1</td>\n",
       "      <td>0</td>\n",
       "    </tr>\n",
       "    <tr>\n",
       "      <th>6588</th>\n",
       "      <td>4</td>\n",
       "      <td>9</td>\n",
       "      <td>0</td>\n",
       "      <td>1</td>\n",
       "    </tr>\n",
       "    <tr>\n",
       "      <th>6589</th>\n",
       "      <td>8</td>\n",
       "      <td>12</td>\n",
       "      <td>0</td>\n",
       "      <td>1</td>\n",
       "    </tr>\n",
       "    <tr>\n",
       "      <th>6590</th>\n",
       "      <td>5</td>\n",
       "      <td>10</td>\n",
       "      <td>0</td>\n",
       "      <td>1</td>\n",
       "    </tr>\n",
       "    <tr>\n",
       "      <th>6591</th>\n",
       "      <td>4</td>\n",
       "      <td>9</td>\n",
       "      <td>0</td>\n",
       "      <td>1</td>\n",
       "    </tr>\n",
       "    <tr>\n",
       "      <th>6592</th>\n",
       "      <td>6</td>\n",
       "      <td>10</td>\n",
       "      <td>1</td>\n",
       "      <td>0</td>\n",
       "    </tr>\n",
       "    <tr>\n",
       "      <th>6593</th>\n",
       "      <td>10</td>\n",
       "      <td>14</td>\n",
       "      <td>0</td>\n",
       "      <td>1</td>\n",
       "    </tr>\n",
       "    <tr>\n",
       "      <th>6594</th>\n",
       "      <td>0</td>\n",
       "      <td>4</td>\n",
       "      <td>0</td>\n",
       "      <td>1</td>\n",
       "    </tr>\n",
       "    <tr>\n",
       "      <th>6595</th>\n",
       "      <td>5</td>\n",
       "      <td>8</td>\n",
       "      <td>0</td>\n",
       "      <td>1</td>\n",
       "    </tr>\n",
       "    <tr>\n",
       "      <th>6596</th>\n",
       "      <td>4</td>\n",
       "      <td>7</td>\n",
       "      <td>0</td>\n",
       "      <td>1</td>\n",
       "    </tr>\n",
       "    <tr>\n",
       "      <th>6597</th>\n",
       "      <td>1</td>\n",
       "      <td>5</td>\n",
       "      <td>0</td>\n",
       "      <td>1</td>\n",
       "    </tr>\n",
       "    <tr>\n",
       "      <th>6598</th>\n",
       "      <td>5</td>\n",
       "      <td>10</td>\n",
       "      <td>0</td>\n",
       "      <td>1</td>\n",
       "    </tr>\n",
       "    <tr>\n",
       "      <th>6599</th>\n",
       "      <td>7</td>\n",
       "      <td>12</td>\n",
       "      <td>0</td>\n",
       "      <td>1</td>\n",
       "    </tr>\n",
       "    <tr>\n",
       "      <th>6600</th>\n",
       "      <td>3</td>\n",
       "      <td>8</td>\n",
       "      <td>0</td>\n",
       "      <td>1</td>\n",
       "    </tr>\n",
       "  </tbody>\n",
       "</table>\n",
       "<p>6601 rows × 4 columns</p>\n",
       "</div>"
      ],
      "text/plain": [
       "      Exp_min  Exp_max  jobtype_analytics  jobtype_others\n",
       "0           7       12                  0               1\n",
       "1           0        5                  0               1\n",
       "2           3        6                  1               0\n",
       "3           0        3                  1               0\n",
       "4           0        5                  0               1\n",
       "5           4        6                  0               1\n",
       "6          10       20                  1               0\n",
       "7           0        2                  0               1\n",
       "8           6        8                  0               1\n",
       "9           0        5                  0               1\n",
       "10         10       15                  0               1\n",
       "11          6        9                  1               0\n",
       "12          3        7                  1               0\n",
       "13          8       12                  1               0\n",
       "14          3        6                  0               1\n",
       "15          2        4                  0               1\n",
       "16          1        5                  0               1\n",
       "17          0        2                  0               1\n",
       "18          5       10                  0               1\n",
       "19          3        6                  0               1\n",
       "20          2        5                  0               1\n",
       "21         10       16                  0               1\n",
       "22          2        4                  1               0\n",
       "23          4        6                  0               1\n",
       "24          4        9                  0               1\n",
       "25          0        1                  0               1\n",
       "26         10       15                  0               1\n",
       "27          5       10                  0               1\n",
       "28          7       12                  1               0\n",
       "29          2        5                  0               1\n",
       "...       ...      ...                ...             ...\n",
       "6571        2        6                  0               1\n",
       "6572        3        6                  1               0\n",
       "6573        3        8                  0               1\n",
       "6574        4        7                  0               1\n",
       "6575        0        4                  0               1\n",
       "6576       18       22                  0               1\n",
       "6577        0        3                  0               1\n",
       "6578        5       10                  0               1\n",
       "6579        8       12                  0               1\n",
       "6580       10       20                  0               1\n",
       "6581        7       10                  0               1\n",
       "6582        2        4                  0               1\n",
       "6583        4        9                  0               1\n",
       "6584        0        3                  0               1\n",
       "6585       10       15                  1               0\n",
       "6586        4        6                  0               1\n",
       "6587       10       12                  1               0\n",
       "6588        4        9                  0               1\n",
       "6589        8       12                  0               1\n",
       "6590        5       10                  0               1\n",
       "6591        4        9                  0               1\n",
       "6592        6       10                  1               0\n",
       "6593       10       14                  0               1\n",
       "6594        0        4                  0               1\n",
       "6595        5        8                  0               1\n",
       "6596        4        7                  0               1\n",
       "6597        1        5                  0               1\n",
       "6598        5       10                  0               1\n",
       "6599        7       12                  0               1\n",
       "6600        3        8                  0               1\n",
       "\n",
       "[6601 rows x 4 columns]"
      ]
     },
     "execution_count": 203,
     "metadata": {},
     "output_type": "execute_result"
    }
   ],
   "source": [
    "#This is the test dataset where we are going to predict who will take term deposit.\n",
    "\n",
    "xd_test=dft\n",
    "xd_test"
   ]
  },
  {
   "cell_type": "markdown",
   "metadata": {
    "colab_type": "text",
    "id": "k_xIVtgi3ZhG"
   },
   "source": [
    "### NLP"
   ]
  },
  {
   "cell_type": "markdown",
   "metadata": {
    "colab_type": "text",
    "id": "DPsbC3zV3Zf4"
   },
   "source": [
    "###  Lower case   <a id='erf'>"
   ]
  },
  {
   "cell_type": "code",
   "execution_count": 40,
   "metadata": {},
   "outputs": [
    {
     "data": {
      "text/plain": [
       "0    senior exploit and vulnerability researcher ot...\n",
       "1    head scm others ppc, logistics, inventory mana...\n",
       "2    deputy manager - talent management & leadershi...\n",
       "3    associate manager data engineering analytics s...\n",
       "4    ts- gsa- senior analyst others accounting, fin...\n",
       "Name: combined, dtype: object"
      ]
     },
     "execution_count": 40,
     "metadata": {},
     "output_type": "execute_result"
    }
   ],
   "source": [
    "ds_input['combined'] = ds_input['combined'].apply(lambda x: \" \".join(x.lower() for x in x.split()))\n",
    "ds_input['combined'].head()"
   ]
  },
  {
   "cell_type": "code",
   "execution_count": 41,
   "metadata": {
    "scrolled": false
   },
   "outputs": [
    {
     "data": {
      "text/plain": [
       "0    delhi ncr(vikas puri)\n",
       "1                  sonepat\n",
       "2                delhi ncr\n",
       "3                bengaluru\n",
       "4                  gurgaon\n",
       "Name: location, dtype: object"
      ]
     },
     "execution_count": 41,
     "metadata": {},
     "output_type": "execute_result"
    }
   ],
   "source": [
    "ds_input['location'] = ds_input['location'].apply(lambda x: \" \".join(x.lower() for x in x.split()))\n",
    "ds_input['location'].head()"
   ]
  },
  {
   "cell_type": "markdown",
   "metadata": {
    "colab_type": "text",
    "id": "DPsbC3zV3Zf4"
   },
   "source": [
    "### Removing Punctuation  <a id='erf'>"
   ]
  },
  {
   "cell_type": "code",
   "execution_count": 42,
   "metadata": {},
   "outputs": [
    {
     "data": {
      "text/plain": [
       "0    senior exploit and vulnerability researcher ot...\n",
       "1    head scm others ppc logistics inventory manage...\n",
       "2    deputy manager  talent management  leadership ...\n",
       "3    associate manager data engineering analytics s...\n",
       "4    ts gsa senior analyst others accounting financ...\n",
       "Name: combined, dtype: object"
      ]
     },
     "execution_count": 42,
     "metadata": {},
     "output_type": "execute_result"
    }
   ],
   "source": [
    "ds_input['combined'] = ds_input['combined'].str.replace('[^\\w\\s]','')\n",
    "ds_input['combined'].head()"
   ]
  },
  {
   "cell_type": "code",
   "execution_count": 43,
   "metadata": {
    "scrolled": true
   },
   "outputs": [
    {
     "data": {
      "text/plain": [
       "0    delhi ncrvikas puri\n",
       "1                sonepat\n",
       "2              delhi ncr\n",
       "3              bengaluru\n",
       "4                gurgaon\n",
       "Name: location, dtype: object"
      ]
     },
     "execution_count": 43,
     "metadata": {},
     "output_type": "execute_result"
    }
   ],
   "source": [
    "ds_input['location'] = ds_input['location'].str.replace('[^\\w\\s]','')\n",
    "ds_input['location'].head()"
   ]
  },
  {
   "cell_type": "markdown",
   "metadata": {
    "colab_type": "text",
    "id": "DPsbC3zV3Zf4"
   },
   "source": [
    "### Removal of Stop Words <a id='erf'>"
   ]
  },
  {
   "cell_type": "code",
   "execution_count": 44,
   "metadata": {},
   "outputs": [
    {
     "name": "stdout",
     "output_type": "stream",
     "text": [
      "[nltk_data] Error loading stopwords: <urlopen error [Errno 11001]\n",
      "[nltk_data]     getaddrinfo failed>\n"
     ]
    },
    {
     "data": {
      "text/plain": [
       "0    senior exploit vulnerability researcher others...\n",
       "1    head scm others ppc logistics inventory manage...\n",
       "2    deputy manager talent management leadership de...\n",
       "3    associate manager data engineering analytics s...\n",
       "4    ts gsa senior analyst others accounting financ...\n",
       "Name: combined, dtype: object"
      ]
     },
     "execution_count": 44,
     "metadata": {},
     "output_type": "execute_result"
    }
   ],
   "source": [
    "import nltk.corpus\n",
    "from nltk.corpus import stopwords\n",
    "nltk.download('stopwords')\n",
    "stop = stopwords.words('english')\n",
    "ds_input['combined'] = ds_input['combined'].apply(lambda x: \" \".join(x for x in x.split() if x not in stop))\n",
    "ds_input['combined'].head()"
   ]
  },
  {
   "cell_type": "code",
   "execution_count": 45,
   "metadata": {
    "scrolled": false
   },
   "outputs": [
    {
     "data": {
      "text/plain": [
       "0    delhi ncrvikas puri\n",
       "1                sonepat\n",
       "2              delhi ncr\n",
       "3              bengaluru\n",
       "4                gurgaon\n",
       "Name: location, dtype: object"
      ]
     },
     "execution_count": 45,
     "metadata": {},
     "output_type": "execute_result"
    }
   ],
   "source": [
    "ds_input['location'] = ds_input['location'].apply(lambda x: \" \".join(x for x in x.split() if x not in stop))\n",
    "ds_input['location'].head()"
   ]
  },
  {
   "cell_type": "markdown",
   "metadata": {
    "colab_type": "text",
    "id": "DPsbC3zV3Zf4"
   },
   "source": [
    "###  Common word removal <a id='erf'>"
   ]
  },
  {
   "cell_type": "code",
   "execution_count": 46,
   "metadata": {
    "scrolled": true
   },
   "outputs": [
    {
     "data": {
      "text/plain": [
       "others         15006\n",
       "analytics      11089\n",
       "data            7281\n",
       "business        5339\n",
       "analyst         5132\n",
       "analysis        5040\n",
       "management      5025\n",
       "manager         4446\n",
       "marketing       3892\n",
       "development     2507\n",
       "dtype: int64"
      ]
     },
     "execution_count": 46,
     "metadata": {},
     "output_type": "execute_result"
    }
   ],
   "source": [
    "freq = pd.Series(' '.join(ds_input['combined']).split()).value_counts()[:10]\n",
    "freq"
   ]
  },
  {
   "cell_type": "code",
   "execution_count": 47,
   "metadata": {},
   "outputs": [
    {
     "data": {
      "text/plain": [
       "0    senior exploit vulnerability researcher team s...\n",
       "1    head scm ppc logistics inventory supply chain ...\n",
       "2    deputy talent leadership auto hr employee enga...\n",
       "3    associate engineering sql javascript automatio...\n",
       "4    ts gsa senior accounting finance cash flow fin...\n",
       "Name: combined, dtype: object"
      ]
     },
     "execution_count": 47,
     "metadata": {},
     "output_type": "execute_result"
    }
   ],
   "source": [
    "freq = list(freq.index)\n",
    "ds_input['combined'] = ds_input['combined'].apply(lambda x: \" \".join(x for x in x.split() if x not in freq))\n",
    "ds_input['combined'].head()"
   ]
  },
  {
   "cell_type": "code",
   "execution_count": 48,
   "metadata": {},
   "outputs": [
    {
     "data": {
      "text/plain": [
       "bengaluru    5135\n",
       "mumbai       3811\n",
       "gurgaon      2654\n",
       "delhi        2288\n",
       "ncr          1664\n",
       "pune         1576\n",
       "hyderabad    1457\n",
       "chennai      1359\n",
       "noida        1096\n",
       "kolkata       348\n",
       "dtype: int64"
      ]
     },
     "execution_count": 48,
     "metadata": {},
     "output_type": "execute_result"
    }
   ],
   "source": [
    "freq = pd.Series(' '.join(ds_input['location']).split()).value_counts()[:10]\n",
    "freq"
   ]
  },
  {
   "cell_type": "code",
   "execution_count": 49,
   "metadata": {
    "scrolled": true
   },
   "outputs": [
    {
     "data": {
      "text/plain": [
       "0    ncrvikas puri\n",
       "1          sonepat\n",
       "2                 \n",
       "3                 \n",
       "4                 \n",
       "Name: location, dtype: object"
      ]
     },
     "execution_count": 49,
     "metadata": {},
     "output_type": "execute_result"
    }
   ],
   "source": [
    "freq = list(freq.index)\n",
    "ds_input['location'] = ds_input['location'].apply(lambda x: \" \".join(x for x in x.split() if x not in freq))\n",
    "ds_input['location'].head()"
   ]
  },
  {
   "cell_type": "markdown",
   "metadata": {
    "colab_type": "text",
    "id": "DPsbC3zV3Zf4"
   },
   "source": [
    "### Rare words removal <a id='erf'>"
   ]
  },
  {
   "cell_type": "code",
   "execution_count": 50,
   "metadata": {
    "scrolled": false
   },
   "outputs": [
    {
     "data": {
      "text/plain": [
       "4d                 1\n",
       "airseva            1\n",
       "x86                1\n",
       "lpar               1\n",
       "learningmachine    1\n",
       "asias              1\n",
       "sarojini           1\n",
       "dealership         1\n",
       "maldives           1\n",
       "port               1\n",
       "dtype: int64"
      ]
     },
     "execution_count": 50,
     "metadata": {},
     "output_type": "execute_result"
    }
   ],
   "source": [
    "freq = pd.Series(' '.join(ds_input['combined']).split()).value_counts()[-10:]\n",
    "freq"
   ]
  },
  {
   "cell_type": "code",
   "execution_count": 51,
   "metadata": {},
   "outputs": [
    {
     "data": {
      "text/plain": [
       "0    senior exploit vulnerability researcher team s...\n",
       "1    head scm ppc logistics inventory supply chain ...\n",
       "2    deputy talent leadership auto hr employee enga...\n",
       "3    associate engineering sql javascript automatio...\n",
       "4    ts gsa senior accounting finance cash flow fin...\n",
       "Name: combined, dtype: object"
      ]
     },
     "execution_count": 51,
     "metadata": {},
     "output_type": "execute_result"
    }
   ],
   "source": [
    "freq = list(freq.index)\n",
    "ds_input['combined'] = ds_input['combined'].apply(lambda x: \" \".join(x for x in x.split() if x not in freq))\n",
    "ds_input['combined'].head()"
   ]
  },
  {
   "cell_type": "code",
   "execution_count": 52,
   "metadata": {
    "scrolled": true
   },
   "outputs": [
    {
     "data": {
      "text/plain": [
       "ncrsector74a    1\n",
       "ncrlaxmi        1\n",
       "sierra          1\n",
       "katihar         1\n",
       "ncrsouth        1\n",
       "rewari          1\n",
       "punepaud        1\n",
       "delhiad         1\n",
       "punebavdhan1    1\n",
       "uttar           1\n",
       "dtype: int64"
      ]
     },
     "execution_count": 52,
     "metadata": {},
     "output_type": "execute_result"
    }
   ],
   "source": [
    "freq = pd.Series(' '.join(ds_input['location']).split()).value_counts()[-10:]\n",
    "freq"
   ]
  },
  {
   "cell_type": "code",
   "execution_count": 53,
   "metadata": {},
   "outputs": [
    {
     "data": {
      "text/plain": [
       "0    ncrvikas puri\n",
       "1          sonepat\n",
       "2                 \n",
       "3                 \n",
       "4                 \n",
       "Name: location, dtype: object"
      ]
     },
     "execution_count": 53,
     "metadata": {},
     "output_type": "execute_result"
    }
   ],
   "source": [
    "freq = list(freq.index)\n",
    "ds_input['location'] = ds_input['location'].apply(lambda x: \" \".join(x for x in x.split() if x not in freq))\n",
    "ds_input['location'].head()"
   ]
  },
  {
   "cell_type": "markdown",
   "metadata": {
    "colab_type": "text",
    "id": "DPsbC3zV3Zf4"
   },
   "source": [
    "### Spelling correction<a id='erf'>"
   ]
  },
  {
   "cell_type": "code",
   "execution_count": 54,
   "metadata": {},
   "outputs": [
    {
     "data": {
      "text/plain": [
       "0    senior exploit vulnerability researcher team s...\n",
       "1    head sum pp logistics inventor supply chain pr...\n",
       "2    deputy talent leadership auto he employee enga...\n",
       "3    associate engineering sal javascript automatic...\n",
       "4    to gas senior accounting finance cash flow fin...\n",
       "Name: combined, dtype: object"
      ]
     },
     "execution_count": 54,
     "metadata": {},
     "output_type": "execute_result"
    }
   ],
   "source": [
    "from textblob import TextBlob\n",
    "ds_input['combined'][:5].apply(lambda x: str(TextBlob(x).correct()))"
   ]
  },
  {
   "cell_type": "code",
   "execution_count": 55,
   "metadata": {},
   "outputs": [
    {
     "data": {
      "text/plain": [
       "0    ncrvikas pure\n",
       "1          sonepat\n",
       "2                 \n",
       "3                 \n",
       "4                 \n",
       "Name: location, dtype: object"
      ]
     },
     "execution_count": 55,
     "metadata": {},
     "output_type": "execute_result"
    }
   ],
   "source": [
    "from textblob import TextBlob\n",
    "ds_input['location'][:5].apply(lambda x: str(TextBlob(x).correct()))"
   ]
  },
  {
   "cell_type": "markdown",
   "metadata": {
    "colab_type": "text",
    "id": "DPsbC3zV3Zf4"
   },
   "source": [
    "### Stemming<a id='erf'>"
   ]
  },
  {
   "cell_type": "code",
   "execution_count": 56,
   "metadata": {},
   "outputs": [
    {
     "data": {
      "text/plain": [
       "0    senior exploit vulner research team skill comm...\n",
       "1    head scm ppc logist inventori suppli chain procur\n",
       "2    deputi talent leadership auto hr employe engag...\n",
       "3    associ engin sql javascript autom python rubi ...\n",
       "4    ts gsa senior account financ cash flow financi...\n",
       "Name: combined, dtype: object"
      ]
     },
     "execution_count": 56,
     "metadata": {},
     "output_type": "execute_result"
    }
   ],
   "source": [
    "from nltk.stem import PorterStemmer\n",
    "st = PorterStemmer()\n",
    "ds_input['combined'][:5].apply(lambda x: \" \".join([st.stem(word) for word in x.split()]))"
   ]
  },
  {
   "cell_type": "code",
   "execution_count": 57,
   "metadata": {},
   "outputs": [
    {
     "data": {
      "text/plain": [
       "0    ncrvika puri\n",
       "1         sonepat\n",
       "2                \n",
       "3                \n",
       "4                \n",
       "Name: location, dtype: object"
      ]
     },
     "execution_count": 57,
     "metadata": {},
     "output_type": "execute_result"
    }
   ],
   "source": [
    "from nltk.stem import PorterStemmer\n",
    "st = PorterStemmer()\n",
    "ds_input['location'][:5].apply(lambda x: \" \".join([st.stem(word) for word in x.split()]))"
   ]
  },
  {
   "cell_type": "markdown",
   "metadata": {
    "colab_type": "text",
    "id": "DPsbC3zV3Zf4"
   },
   "source": [
    "### Lemmatization<a id='erf'>"
   ]
  },
  {
   "cell_type": "code",
   "execution_count": 58,
   "metadata": {},
   "outputs": [
    {
     "name": "stdout",
     "output_type": "stream",
     "text": [
      "[nltk_data] Error loading wordnet: <urlopen error [Errno 11001]\n",
      "[nltk_data]     getaddrinfo failed>\n"
     ]
    },
    {
     "data": {
      "text/plain": [
       "0    senior exploit vulnerability researcher team s...\n",
       "1    head scm ppc logistics inventory supply chain ...\n",
       "2    deputy talent leadership auto hr employee enga...\n",
       "3    associate engineering sql javascript automatio...\n",
       "4    t gsa senior accounting finance cash flow fina...\n",
       "Name: combined, dtype: object"
      ]
     },
     "execution_count": 58,
     "metadata": {},
     "output_type": "execute_result"
    }
   ],
   "source": [
    "from textblob import Word\n",
    "nltk.download('wordnet')\n",
    "ds_input['combined'] = ds_input['combined'].apply(lambda x: \" \".join([Word(word).lemmatize() for word in x.split()]))\n",
    "ds_input['combined'].head()"
   ]
  },
  {
   "cell_type": "code",
   "execution_count": 59,
   "metadata": {
    "scrolled": true
   },
   "outputs": [
    {
     "name": "stdout",
     "output_type": "stream",
     "text": [
      "[nltk_data] Error loading wordnet: <urlopen error [Errno 11001]\n",
      "[nltk_data]     getaddrinfo failed>\n"
     ]
    },
    {
     "data": {
      "text/plain": [
       "0    ncrvikas puri\n",
       "1          sonepat\n",
       "2                 \n",
       "3                 \n",
       "4                 \n",
       "Name: location, dtype: object"
      ]
     },
     "execution_count": 59,
     "metadata": {},
     "output_type": "execute_result"
    }
   ],
   "source": [
    "from textblob import Word\n",
    "nltk.download('wordnet')\n",
    "ds_input['location'] = ds_input['location'].apply(lambda x: \" \".join([Word(word).lemmatize() for word in x.split()]))\n",
    "ds_input['location'].head()"
   ]
  },
  {
   "cell_type": "markdown",
   "metadata": {
    "colab_type": "text",
    "id": "DPsbC3zV3Zf4"
   },
   "source": [
    "### All these pre-processing steps are essential and help us in reducing our vocabulary clutter so that the features produced in the end are more effective. <a id='erf'>"
   ]
  },
  {
   "cell_type": "markdown",
   "metadata": {
    "colab_type": "text",
    "id": "DPsbC3zV3Zf4"
   },
   "source": [
    "### TF-IDFTF-IDF<a id='erf'>"
   ]
  },
  {
   "cell_type": "code",
   "execution_count": 60,
   "metadata": {},
   "outputs": [],
   "source": [
    "from sklearn.feature_extraction.text import TfidfVectorizer\n",
    "tfidf = TfidfVectorizer(max_features=8000, lowercase=True, analyzer='word',\n",
    " stop_words= 'english',ngram_range=(1,1))\n",
    "train_vect = tfidf.fit_transform(ds_input['combined'])\n",
    "\n",
    "tfidf_train_vect_df = pd.DataFrame(\n",
    "    (count, word) for word, count in zip(\n",
    "    train_vect.toarray().tolist()[0],   \n",
    "    tfidf.get_feature_names()))\n",
    "tfidf_train_vect_df.columns = ['Word', 'Count']\n",
    "tfidf_train_vect_df.sort_values('Count', ascending=False, inplace=True)\n"
   ]
  },
  {
   "cell_type": "code",
   "execution_count": 61,
   "metadata": {
    "scrolled": true
   },
   "outputs": [
    {
     "data": {
      "text/html": [
       "<div>\n",
       "<style scoped>\n",
       "    .dataframe tbody tr th:only-of-type {\n",
       "        vertical-align: middle;\n",
       "    }\n",
       "\n",
       "    .dataframe tbody tr th {\n",
       "        vertical-align: top;\n",
       "    }\n",
       "\n",
       "    .dataframe thead th {\n",
       "        text-align: right;\n",
       "    }\n",
       "</style>\n",
       "<table border=\"1\" class=\"dataframe\">\n",
       "  <thead>\n",
       "    <tr style=\"text-align: right;\">\n",
       "      <th></th>\n",
       "      <th>Word</th>\n",
       "      <th>Count</th>\n",
       "    </tr>\n",
       "  </thead>\n",
       "  <tbody>\n",
       "    <tr>\n",
       "      <th>6754</th>\n",
       "      <td>skill</td>\n",
       "      <td>0.592154</td>\n",
       "    </tr>\n",
       "    <tr>\n",
       "      <th>2864</th>\n",
       "      <td>exploit</td>\n",
       "      <td>0.391569</td>\n",
       "    </tr>\n",
       "    <tr>\n",
       "      <th>7754</th>\n",
       "      <td>vulnerability</td>\n",
       "      <td>0.334356</td>\n",
       "    </tr>\n",
       "    <tr>\n",
       "      <th>6191</th>\n",
       "      <td>researcher</td>\n",
       "      <td>0.311053</td>\n",
       "    </tr>\n",
       "    <tr>\n",
       "      <th>6825</th>\n",
       "      <td>solving</td>\n",
       "      <td>0.268050</td>\n",
       "    </tr>\n",
       "    <tr>\n",
       "      <th>5764</th>\n",
       "      <td>problem</td>\n",
       "      <td>0.258761</td>\n",
       "    </tr>\n",
       "    <tr>\n",
       "      <th>1841</th>\n",
       "      <td>communication</td>\n",
       "      <td>0.217224</td>\n",
       "    </tr>\n",
       "    <tr>\n",
       "      <th>7238</th>\n",
       "      <td>team</td>\n",
       "      <td>0.205695</td>\n",
       "    </tr>\n",
       "    <tr>\n",
       "      <th>683</th>\n",
       "      <td>analytical</td>\n",
       "      <td>0.197525</td>\n",
       "    </tr>\n",
       "    <tr>\n",
       "      <th>6617</th>\n",
       "      <td>senior</td>\n",
       "      <td>0.141982</td>\n",
       "    </tr>\n",
       "  </tbody>\n",
       "</table>\n",
       "</div>"
      ],
      "text/plain": [
       "               Word     Count\n",
       "6754          skill  0.592154\n",
       "2864        exploit  0.391569\n",
       "7754  vulnerability  0.334356\n",
       "6191     researcher  0.311053\n",
       "6825        solving  0.268050\n",
       "5764        problem  0.258761\n",
       "1841  communication  0.217224\n",
       "7238           team  0.205695\n",
       "683      analytical  0.197525\n",
       "6617         senior  0.141982"
      ]
     },
     "execution_count": 61,
     "metadata": {},
     "output_type": "execute_result"
    }
   ],
   "source": [
    "tfidf_train_vect_df.head(10)"
   ]
  },
  {
   "cell_type": "code",
   "execution_count": 62,
   "metadata": {},
   "outputs": [],
   "source": [
    "tfidf_loc = TfidfVectorizer(max_features=3000, lowercase=True, analyzer='word',\n",
    " stop_words= 'english',ngram_range=(1,1))\n",
    "train_vect_loc = tfidf_loc.fit_transform(ds_input['location'])"
   ]
  },
  {
   "cell_type": "code",
   "execution_count": 63,
   "metadata": {},
   "outputs": [],
   "source": [
    "dfs=pd.DataFrame(train_vect.toarray().tolist(),columns= tfidf.get_feature_names())\n",
    "dfs_loc=pd.DataFrame(train_vect_loc.toarray().tolist(),columns= tfidf_loc.get_feature_names())"
   ]
  },
  {
   "cell_type": "code",
   "execution_count": 64,
   "metadata": {},
   "outputs": [],
   "source": [
    "Xd.reset_index(drop=True,inplace=True)"
   ]
  },
  {
   "cell_type": "code",
   "execution_count": 65,
   "metadata": {},
   "outputs": [],
   "source": [
    "dfs.reset_index(drop=True,inplace=True)"
   ]
  },
  {
   "cell_type": "code",
   "execution_count": 66,
   "metadata": {},
   "outputs": [],
   "source": [
    "dfs_loc=dfs_loc[dfs_loc.columns[~dfs_loc.columns.isin(dfs.columns)]]\n",
    "dfs_loc.reset_index(drop=True,inplace=True)"
   ]
  },
  {
   "cell_type": "code",
   "execution_count": 67,
   "metadata": {},
   "outputs": [],
   "source": [
    "#dfs_jd.drop(dfs_jd[dfs_jd.columns.isin(dfs.columns)].index.tolist(),inplace=True)\n",
    "#a= ~dfs_jd.columns.isin(dfs.columns)\n",
    "#np.info(a)\n",
    "\n",
    "#xd_test[xd_test.columns[~xd_test.columns.isin(Xd)]]"
   ]
  },
  {
   "cell_type": "code",
   "execution_count": 68,
   "metadata": {},
   "outputs": [],
   "source": [
    "Xd = pd.concat([Xd,dfs,dfs_loc], axis=1)"
   ]
  },
  {
   "cell_type": "code",
   "execution_count": 69,
   "metadata": {
    "scrolled": false
   },
   "outputs": [
    {
     "data": {
      "text/html": [
       "<div>\n",
       "<style scoped>\n",
       "    .dataframe tbody tr th:only-of-type {\n",
       "        vertical-align: middle;\n",
       "    }\n",
       "\n",
       "    .dataframe tbody tr th {\n",
       "        vertical-align: top;\n",
       "    }\n",
       "\n",
       "    .dataframe thead th {\n",
       "        text-align: right;\n",
       "    }\n",
       "</style>\n",
       "<table border=\"1\" class=\"dataframe\">\n",
       "  <thead>\n",
       "    <tr style=\"text-align: right;\">\n",
       "      <th></th>\n",
       "      <th>Exp_min</th>\n",
       "      <th>Exp_max</th>\n",
       "      <th>jobtype_analytics</th>\n",
       "      <th>jobtype_others</th>\n",
       "      <th>01</th>\n",
       "      <th>02</th>\n",
       "      <th>02nd</th>\n",
       "      <th>02yr</th>\n",
       "      <th>03</th>\n",
       "      <th>03months</th>\n",
       "      <th>...</th>\n",
       "      <th>vihar15</th>\n",
       "      <th>village</th>\n",
       "      <th>village1</th>\n",
       "      <th>wadi</th>\n",
       "      <th>warangal</th>\n",
       "      <th>west2</th>\n",
       "      <th>yamunanagar</th>\n",
       "      <th>yangon</th>\n",
       "      <th>york</th>\n",
       "      <th>zealand</th>\n",
       "    </tr>\n",
       "  </thead>\n",
       "  <tbody>\n",
       "    <tr>\n",
       "      <th>0</th>\n",
       "      <td>5</td>\n",
       "      <td>7</td>\n",
       "      <td>0</td>\n",
       "      <td>1</td>\n",
       "      <td>0.0</td>\n",
       "      <td>0.0</td>\n",
       "      <td>0.0</td>\n",
       "      <td>0.0</td>\n",
       "      <td>0.0</td>\n",
       "      <td>0.0</td>\n",
       "      <td>...</td>\n",
       "      <td>0.0</td>\n",
       "      <td>0.0</td>\n",
       "      <td>0.0</td>\n",
       "      <td>0.0</td>\n",
       "      <td>0.0</td>\n",
       "      <td>0.0</td>\n",
       "      <td>0.0</td>\n",
       "      <td>0.0</td>\n",
       "      <td>0.0</td>\n",
       "      <td>0.0</td>\n",
       "    </tr>\n",
       "    <tr>\n",
       "      <th>1</th>\n",
       "      <td>10</td>\n",
       "      <td>17</td>\n",
       "      <td>0</td>\n",
       "      <td>1</td>\n",
       "      <td>0.0</td>\n",
       "      <td>0.0</td>\n",
       "      <td>0.0</td>\n",
       "      <td>0.0</td>\n",
       "      <td>0.0</td>\n",
       "      <td>0.0</td>\n",
       "      <td>...</td>\n",
       "      <td>0.0</td>\n",
       "      <td>0.0</td>\n",
       "      <td>0.0</td>\n",
       "      <td>0.0</td>\n",
       "      <td>0.0</td>\n",
       "      <td>0.0</td>\n",
       "      <td>0.0</td>\n",
       "      <td>0.0</td>\n",
       "      <td>0.0</td>\n",
       "      <td>0.0</td>\n",
       "    </tr>\n",
       "    <tr>\n",
       "      <th>2</th>\n",
       "      <td>5</td>\n",
       "      <td>9</td>\n",
       "      <td>1</td>\n",
       "      <td>0</td>\n",
       "      <td>0.0</td>\n",
       "      <td>0.0</td>\n",
       "      <td>0.0</td>\n",
       "      <td>0.0</td>\n",
       "      <td>0.0</td>\n",
       "      <td>0.0</td>\n",
       "      <td>...</td>\n",
       "      <td>0.0</td>\n",
       "      <td>0.0</td>\n",
       "      <td>0.0</td>\n",
       "      <td>0.0</td>\n",
       "      <td>0.0</td>\n",
       "      <td>0.0</td>\n",
       "      <td>0.0</td>\n",
       "      <td>0.0</td>\n",
       "      <td>0.0</td>\n",
       "      <td>0.0</td>\n",
       "    </tr>\n",
       "    <tr>\n",
       "      <th>3</th>\n",
       "      <td>7</td>\n",
       "      <td>10</td>\n",
       "      <td>1</td>\n",
       "      <td>0</td>\n",
       "      <td>0.0</td>\n",
       "      <td>0.0</td>\n",
       "      <td>0.0</td>\n",
       "      <td>0.0</td>\n",
       "      <td>0.0</td>\n",
       "      <td>0.0</td>\n",
       "      <td>...</td>\n",
       "      <td>0.0</td>\n",
       "      <td>0.0</td>\n",
       "      <td>0.0</td>\n",
       "      <td>0.0</td>\n",
       "      <td>0.0</td>\n",
       "      <td>0.0</td>\n",
       "      <td>0.0</td>\n",
       "      <td>0.0</td>\n",
       "      <td>0.0</td>\n",
       "      <td>0.0</td>\n",
       "    </tr>\n",
       "    <tr>\n",
       "      <th>4</th>\n",
       "      <td>1</td>\n",
       "      <td>3</td>\n",
       "      <td>0</td>\n",
       "      <td>1</td>\n",
       "      <td>0.0</td>\n",
       "      <td>0.0</td>\n",
       "      <td>0.0</td>\n",
       "      <td>0.0</td>\n",
       "      <td>0.0</td>\n",
       "      <td>0.0</td>\n",
       "      <td>...</td>\n",
       "      <td>0.0</td>\n",
       "      <td>0.0</td>\n",
       "      <td>0.0</td>\n",
       "      <td>0.0</td>\n",
       "      <td>0.0</td>\n",
       "      <td>0.0</td>\n",
       "      <td>0.0</td>\n",
       "      <td>0.0</td>\n",
       "      <td>0.0</td>\n",
       "      <td>0.0</td>\n",
       "    </tr>\n",
       "  </tbody>\n",
       "</table>\n",
       "<p>5 rows × 8909 columns</p>\n",
       "</div>"
      ],
      "text/plain": [
       "   Exp_min  Exp_max  jobtype_analytics  jobtype_others   01   02  02nd  02yr  \\\n",
       "0        5        7                  0               1  0.0  0.0   0.0   0.0   \n",
       "1       10       17                  0               1  0.0  0.0   0.0   0.0   \n",
       "2        5        9                  1               0  0.0  0.0   0.0   0.0   \n",
       "3        7       10                  1               0  0.0  0.0   0.0   0.0   \n",
       "4        1        3                  0               1  0.0  0.0   0.0   0.0   \n",
       "\n",
       "    03  03months   ...     vihar15  village  village1  wadi  warangal  west2  \\\n",
       "0  0.0       0.0   ...         0.0      0.0       0.0   0.0       0.0    0.0   \n",
       "1  0.0       0.0   ...         0.0      0.0       0.0   0.0       0.0    0.0   \n",
       "2  0.0       0.0   ...         0.0      0.0       0.0   0.0       0.0    0.0   \n",
       "3  0.0       0.0   ...         0.0      0.0       0.0   0.0       0.0    0.0   \n",
       "4  0.0       0.0   ...         0.0      0.0       0.0   0.0       0.0    0.0   \n",
       "\n",
       "   yamunanagar  yangon  york  zealand  \n",
       "0          0.0     0.0   0.0      0.0  \n",
       "1          0.0     0.0   0.0      0.0  \n",
       "2          0.0     0.0   0.0      0.0  \n",
       "3          0.0     0.0   0.0      0.0  \n",
       "4          0.0     0.0   0.0      0.0  \n",
       "\n",
       "[5 rows x 8909 columns]"
      ]
     },
     "execution_count": 69,
     "metadata": {},
     "output_type": "execute_result"
    }
   ],
   "source": [
    "duplicate_col=Xd.columns[Xd.columns.duplicated()]\n",
    "duplicate_col\n",
    "Xd.head()"
   ]
  },
  {
   "cell_type": "markdown",
   "metadata": {
    "colab_type": "text",
    "id": "DPsbC3zV3Zf4"
   },
   "source": [
    "### Test Data lower case  <a id='erf'>"
   ]
  },
  {
   "cell_type": "code",
   "execution_count": 70,
   "metadata": {},
   "outputs": [
    {
     "name": "stdout",
     "output_type": "stream",
     "text": [
      "<class 'pandas.core.frame.DataFrame'>\n",
      "Int64Index: 6601 entries, 0 to 6600\n",
      "Data columns (total 11 columns):\n",
      "experience              6601 non-null object\n",
      "job_desig               6601 non-null object\n",
      "job_type                6601 non-null object\n",
      "key_skills              6601 non-null object\n",
      "location                6601 non-null object\n",
      "company_name_encoded    6601 non-null int64\n",
      "Exp_min                 6601 non-null int32\n",
      "Exp_max                 6601 non-null int32\n",
      "jobtype_analytics       6601 non-null uint8\n",
      "jobtype_others          6601 non-null uint8\n",
      "combined                6601 non-null object\n",
      "dtypes: int32(2), int64(1), object(6), uint8(2)\n",
      "memory usage: 477.0+ KB\n"
     ]
    }
   ],
   "source": [
    "dst_input.info()"
   ]
  },
  {
   "cell_type": "code",
   "execution_count": 71,
   "metadata": {
    "scrolled": false
   },
   "outputs": [
    {
     "data": {
      "text/plain": [
       "0    it technology senior consultant/java/ j2ee/ se...\n",
       "1    medical billing process | international kpo | ...\n",
       "2    oracle sales cloud functional consultant analy...\n",
       "3    looking for freshers who want to work with us ...\n",
       "4    process associate / sr process associate / tec...\n",
       "Name: combined, dtype: object"
      ]
     },
     "execution_count": 71,
     "metadata": {},
     "output_type": "execute_result"
    }
   ],
   "source": [
    "dst_input['combined'] = dst_input['combined'].apply(lambda x: \" \".join(x.lower() for x in x.split()))\n",
    "dst_input['location'] = dst_input['location'].apply(lambda x: \" \".join(x.lower() for x in x.split()))\n",
    "dst_input['combined'].head()"
   ]
  },
  {
   "cell_type": "markdown",
   "metadata": {
    "colab_type": "text",
    "id": "DPsbC3zV3Zf4"
   },
   "source": [
    "### Removing Punctuation  <a id='erf'>"
   ]
  },
  {
   "cell_type": "code",
   "execution_count": 72,
   "metadata": {},
   "outputs": [
    {
     "data": {
      "text/plain": [
       "0    it technology senior consultantjava j2ee sever...\n",
       "1    medical billing process  international kpo  in...\n",
       "2    oracle sales cloud functional consultant analy...\n",
       "3    looking for freshers who want to work with us ...\n",
       "4    process associate  sr process associate  tech ...\n",
       "Name: combined, dtype: object"
      ]
     },
     "execution_count": 72,
     "metadata": {},
     "output_type": "execute_result"
    }
   ],
   "source": [
    "dst_input['combined'] = dst_input['combined'].str.replace('[^\\w\\s]','')\n",
    "dst_input['location'] = dst_input['location'].str.replace('[^\\w\\s]','')\n",
    "dst_input['combined'].head()"
   ]
  },
  {
   "cell_type": "markdown",
   "metadata": {
    "colab_type": "text",
    "id": "DPsbC3zV3Zf4"
   },
   "source": [
    "### Removal of Stop Words <a id='erf'>"
   ]
  },
  {
   "cell_type": "code",
   "execution_count": 73,
   "metadata": {
    "scrolled": true
   },
   "outputs": [
    {
     "name": "stdout",
     "output_type": "stream",
     "text": [
      "[nltk_data] Error loading stopwords: <urlopen error [Errno 11001]\n",
      "[nltk_data]     getaddrinfo failed>\n"
     ]
    },
    {
     "data": {
      "text/plain": [
       "0    technology senior consultantjava j2ee sever ap...\n",
       "1    medical billing process international kpo insu...\n",
       "2    oracle sales cloud functional consultant analy...\n",
       "3    looking freshers want work us analytics offlin...\n",
       "4    process associate sr process associate tech as...\n",
       "Name: combined, dtype: object"
      ]
     },
     "execution_count": 73,
     "metadata": {},
     "output_type": "execute_result"
    }
   ],
   "source": [
    "from nltk.corpus import stopwords\n",
    "nltk.download('stopwords')\n",
    "stop = stopwords.words('english')\n",
    "dst_input['combined'] = dst_input['combined'].apply(lambda x: \" \".join(x for x in x.split() if x not in stop))\n",
    "dst_input['location'] = dst_input['location'].apply(lambda x: \" \".join(x for x in x.split() if x not in stop))\n",
    "\n",
    "dst_input['combined'].head()"
   ]
  },
  {
   "cell_type": "markdown",
   "metadata": {
    "colab_type": "text",
    "id": "DPsbC3zV3Zf4"
   },
   "source": [
    "###  Common word removal <a id='erf'>"
   ]
  },
  {
   "cell_type": "code",
   "execution_count": 74,
   "metadata": {},
   "outputs": [
    {
     "data": {
      "text/plain": [
       "others        4950\n",
       "analytics     3719\n",
       "data          2350\n",
       "business      1795\n",
       "analyst       1759\n",
       "management    1731\n",
       "analysis      1688\n",
       "manager       1414\n",
       "marketing     1177\n",
       "sales          890\n",
       "dtype: int64"
      ]
     },
     "execution_count": 74,
     "metadata": {},
     "output_type": "execute_result"
    }
   ],
   "source": [
    "freq = pd.Series(' '.join(dst_input['combined']).split()).value_counts()[:10]\n",
    "freq"
   ]
  },
  {
   "cell_type": "code",
   "execution_count": 75,
   "metadata": {},
   "outputs": [
    {
     "data": {
      "text/plain": [
       "0    technology senior consultantjava j2ee sever ap...\n",
       "1    medical billing process international kpo insu...\n",
       "2    oracle cloud functional consultant oracle func...\n",
       "3    looking freshers want work us offline online i...\n",
       "4    process associate sr process associate tech as...\n",
       "Name: combined, dtype: object"
      ]
     },
     "execution_count": 75,
     "metadata": {},
     "output_type": "execute_result"
    }
   ],
   "source": [
    "freq = list(freq.index)\n",
    "dst_input['combined'] = dst_input['combined'].apply(lambda x: \" \".join(x for x in x.split() if x not in freq))\n",
    "dst_input['combined'].head()"
   ]
  },
  {
   "cell_type": "code",
   "execution_count": 76,
   "metadata": {},
   "outputs": [
    {
     "data": {
      "text/plain": [
       "bengaluru    1661\n",
       "mumbai       1291\n",
       "gurgaon       900\n",
       "delhi         809\n",
       "ncr           606\n",
       "pune          531\n",
       "hyderabad     506\n",
       "chennai       462\n",
       "noida         346\n",
       "kolkata       115\n",
       "dtype: int64"
      ]
     },
     "execution_count": 76,
     "metadata": {},
     "output_type": "execute_result"
    }
   ],
   "source": [
    "freq = pd.Series(' '.join(dst_input['location']).split()).value_counts()[:10]\n",
    "freq"
   ]
  },
  {
   "cell_type": "code",
   "execution_count": 77,
   "metadata": {},
   "outputs": [
    {
     "data": {
      "text/plain": [
       "0                 \n",
       "1    ahmedabadsola\n",
       "2                 \n",
       "3          lucknow\n",
       "4                 \n",
       "Name: location, dtype: object"
      ]
     },
     "execution_count": 77,
     "metadata": {},
     "output_type": "execute_result"
    }
   ],
   "source": [
    "freq = list(freq.index)\n",
    "dst_input['location'] = dst_input['location'].apply(lambda x: \" \".join(x for x in x.split() if x not in freq))\n",
    "dst_input['location'].head()"
   ]
  },
  {
   "cell_type": "markdown",
   "metadata": {
    "colab_type": "text",
    "id": "DPsbC3zV3Zf4"
   },
   "source": [
    "### Rare words removal <a id='erf'>"
   ]
  },
  {
   "cell_type": "code",
   "execution_count": 78,
   "metadata": {
    "scrolled": true
   },
   "outputs": [
    {
     "data": {
      "text/plain": [
       "bar                1\n",
       "speciali           1\n",
       "360                1\n",
       "premiere           1\n",
       "analystaccounts    1\n",
       "loaniq             1\n",
       "turbhe             1\n",
       "archiving          1\n",
       "mdg                1\n",
       "eim                1\n",
       "dtype: int64"
      ]
     },
     "execution_count": 78,
     "metadata": {},
     "output_type": "execute_result"
    }
   ],
   "source": [
    "freq = pd.Series(' '.join(dst_input['combined']).split()).value_counts()[-10:]\n",
    "freq"
   ]
  },
  {
   "cell_type": "code",
   "execution_count": 79,
   "metadata": {},
   "outputs": [
    {
     "data": {
      "text/plain": [
       "0    technology senior consultantjava j2ee sever ap...\n",
       "1    medical billing process international kpo insu...\n",
       "2    oracle cloud functional consultant oracle func...\n",
       "3    looking freshers want work us offline online i...\n",
       "4    process associate sr process associate tech as...\n",
       "Name: combined, dtype: object"
      ]
     },
     "execution_count": 79,
     "metadata": {},
     "output_type": "execute_result"
    }
   ],
   "source": [
    "freq = list(freq.index)\n",
    "dst_input['combined'] = dst_input['combined'].apply(lambda x: \" \".join(x for x in x.split() if x not in freq))\n",
    "dst_input['combined'].head()"
   ]
  },
  {
   "cell_type": "code",
   "execution_count": 80,
   "metadata": {
    "scrolled": true
   },
   "outputs": [
    {
     "data": {
      "text/plain": [
       "aligarh               1\n",
       "uzbekistan            1\n",
       "noidasector149        1\n",
       "bengalurumadiwala1    1\n",
       "majiwade              1\n",
       "bagh                  1\n",
       "delhinehru            1\n",
       "bank                  1\n",
       "chennaialwarpet       1\n",
       "warangal              1\n",
       "dtype: int64"
      ]
     },
     "execution_count": 80,
     "metadata": {},
     "output_type": "execute_result"
    }
   ],
   "source": [
    "freq = pd.Series(' '.join(dst_input['location']).split()).value_counts()[-10:]\n",
    "freq"
   ]
  },
  {
   "cell_type": "code",
   "execution_count": 81,
   "metadata": {},
   "outputs": [
    {
     "data": {
      "text/plain": [
       "0                 \n",
       "1    ahmedabadsola\n",
       "2                 \n",
       "3          lucknow\n",
       "4                 \n",
       "Name: location, dtype: object"
      ]
     },
     "execution_count": 81,
     "metadata": {},
     "output_type": "execute_result"
    }
   ],
   "source": [
    "freq = list(freq.index)\n",
    "dst_input['location'] = dst_input['location'].apply(lambda x: \" \".join(x for x in x.split() if x not in freq))\n",
    "dst_input['location'].head()"
   ]
  },
  {
   "cell_type": "markdown",
   "metadata": {
    "colab_type": "text",
    "id": "DPsbC3zV3Zf4"
   },
   "source": [
    "### Spelling correction<a id='erf'>"
   ]
  },
  {
   "cell_type": "code",
   "execution_count": 82,
   "metadata": {
    "scrolled": true
   },
   "outputs": [
    {
     "data": {
      "text/plain": [
       "0                 \n",
       "1    ahmedabadsola\n",
       "2                 \n",
       "3          lucknow\n",
       "4                 \n",
       "Name: location, dtype: object"
      ]
     },
     "execution_count": 82,
     "metadata": {},
     "output_type": "execute_result"
    }
   ],
   "source": [
    "from textblob import TextBlob\n",
    "dst_input['combined'][:5].apply(lambda x: str(TextBlob(x).correct()))\n",
    "dst_input['location'][:5].apply(lambda x: str(TextBlob(x).correct()))"
   ]
  },
  {
   "cell_type": "markdown",
   "metadata": {
    "colab_type": "text",
    "id": "DPsbC3zV3Zf4"
   },
   "source": [
    "### Stemming<a id='erf'>"
   ]
  },
  {
   "cell_type": "code",
   "execution_count": 83,
   "metadata": {},
   "outputs": [
    {
     "data": {
      "text/plain": [
       "0                 \n",
       "1    ahmedabadsola\n",
       "2                 \n",
       "3          lucknow\n",
       "4                 \n",
       "Name: location, dtype: object"
      ]
     },
     "execution_count": 83,
     "metadata": {},
     "output_type": "execute_result"
    }
   ],
   "source": [
    "from nltk.stem import PorterStemmer\n",
    "st = PorterStemmer()\n",
    "dst_input['combined'][:5].apply(lambda x: \" \".join([st.stem(word) for word in x.split()]))\n",
    "dst_input['location'][:5].apply(lambda x: \" \".join([st.stem(word) for word in x.split()]))"
   ]
  },
  {
   "cell_type": "markdown",
   "metadata": {
    "colab_type": "text",
    "id": "DPsbC3zV3Zf4"
   },
   "source": [
    "### Lemmatization<a id='erf'>"
   ]
  },
  {
   "cell_type": "code",
   "execution_count": 84,
   "metadata": {
    "scrolled": true
   },
   "outputs": [
    {
     "name": "stdout",
     "output_type": "stream",
     "text": [
      "[nltk_data] Error loading wordnet: <urlopen error [Errno 11001]\n",
      "[nltk_data]     getaddrinfo failed>\n"
     ]
    },
    {
     "data": {
      "text/plain": [
       "0    technology senior consultantjava j2ee sever ap...\n",
       "1    medical billing process international kpo insu...\n",
       "2    oracle cloud functional consultant oracle func...\n",
       "3    looking fresher want work u offline online int...\n",
       "4    process associate sr process associate tech as...\n",
       "Name: combined, dtype: object"
      ]
     },
     "execution_count": 84,
     "metadata": {},
     "output_type": "execute_result"
    }
   ],
   "source": [
    "from textblob import Word\n",
    "nltk.download('wordnet')\n",
    "dst_input['combined'] = dst_input['combined'].apply(lambda x: \" \".join([Word(word).lemmatize() for word in x.split()]))\n",
    "dst_input['location'] = dst_input['location'].apply(lambda x: \" \".join([Word(word).lemmatize() for word in x.split()]))\n",
    "\n",
    "dst_input['combined'].head()"
   ]
  },
  {
   "cell_type": "markdown",
   "metadata": {
    "colab_type": "text",
    "id": "DPsbC3zV3Zf4"
   },
   "source": [
    "### All these pre-processing steps are essential and help us in reducing our vocabulary clutter so that the features produced in the end are more effective. <a id='erf'>"
   ]
  },
  {
   "cell_type": "markdown",
   "metadata": {
    "colab_type": "text",
    "id": "DPsbC3zV3Zf4"
   },
   "source": [
    "### TF-IDFTF-IDF<a id='erf'>"
   ]
  },
  {
   "cell_type": "code",
   "execution_count": 85,
   "metadata": {},
   "outputs": [],
   "source": [
    "from sklearn.feature_extraction.text import TfidfVectorizer\n",
    "#tfidf = TfidfVectorizer(max_features=1000, lowercase=True, analyzer='word',\n",
    "#stop_words= 'english',ngram_range=(1,1))\n",
    "test_vect = tfidf.transform(dst_input['combined'])\n",
    "tfidf_test_vect_df = pd.DataFrame(\n",
    "    (count, word) for word, count in zip(\n",
    "    test_vect.toarray().tolist()[0],   \n",
    "    tfidf.get_feature_names()))\n",
    "tfidf_test_vect_df.columns = ['Word', 'Count']\n",
    "tfidf_test_vect_df.sort_values('Count', ascending=False, inplace=True)\n"
   ]
  },
  {
   "cell_type": "code",
   "execution_count": 86,
   "metadata": {
    "scrolled": false
   },
   "outputs": [
    {
     "data": {
      "text/html": [
       "<div>\n",
       "<style scoped>\n",
       "    .dataframe tbody tr th:only-of-type {\n",
       "        vertical-align: middle;\n",
       "    }\n",
       "\n",
       "    .dataframe tbody tr th {\n",
       "        vertical-align: top;\n",
       "    }\n",
       "\n",
       "    .dataframe thead th {\n",
       "        text-align: right;\n",
       "    }\n",
       "</style>\n",
       "<table border=\"1\" class=\"dataframe\">\n",
       "  <thead>\n",
       "    <tr style=\"text-align: right;\">\n",
       "      <th></th>\n",
       "      <th>Word</th>\n",
       "      <th>Count</th>\n",
       "    </tr>\n",
       "  </thead>\n",
       "  <tbody>\n",
       "    <tr>\n",
       "      <th>4002</th>\n",
       "      <td>j2ee</td>\n",
       "      <td>0.456381</td>\n",
       "    </tr>\n",
       "    <tr>\n",
       "      <th>7815</th>\n",
       "      <td>weblogic</td>\n",
       "      <td>0.360107</td>\n",
       "    </tr>\n",
       "    <tr>\n",
       "      <th>4080</th>\n",
       "      <td>jboss</td>\n",
       "      <td>0.316961</td>\n",
       "    </tr>\n",
       "    <tr>\n",
       "      <th>7378</th>\n",
       "      <td>tomcat</td>\n",
       "      <td>0.304766</td>\n",
       "    </tr>\n",
       "    <tr>\n",
       "      <th>2652</th>\n",
       "      <td>elastic</td>\n",
       "      <td>0.295386</td>\n",
       "    </tr>\n",
       "    <tr>\n",
       "      <th>5631</th>\n",
       "      <td>pl</td>\n",
       "      <td>0.288642</td>\n",
       "    </tr>\n",
       "    <tr>\n",
       "      <th>1994</th>\n",
       "      <td>core</td>\n",
       "      <td>0.214850</td>\n",
       "    </tr>\n",
       "    <tr>\n",
       "      <th>6573</th>\n",
       "      <td>search</td>\n",
       "      <td>0.210168</td>\n",
       "    </tr>\n",
       "    <tr>\n",
       "      <th>5426</th>\n",
       "      <td>oracle</td>\n",
       "      <td>0.199170</td>\n",
       "    </tr>\n",
       "    <tr>\n",
       "      <th>3533</th>\n",
       "      <td>hr</td>\n",
       "      <td>0.193516</td>\n",
       "    </tr>\n",
       "  </tbody>\n",
       "</table>\n",
       "</div>"
      ],
      "text/plain": [
       "          Word     Count\n",
       "4002      j2ee  0.456381\n",
       "7815  weblogic  0.360107\n",
       "4080     jboss  0.316961\n",
       "7378    tomcat  0.304766\n",
       "2652   elastic  0.295386\n",
       "5631        pl  0.288642\n",
       "1994      core  0.214850\n",
       "6573    search  0.210168\n",
       "5426    oracle  0.199170\n",
       "3533        hr  0.193516"
      ]
     },
     "execution_count": 86,
     "metadata": {},
     "output_type": "execute_result"
    }
   ],
   "source": [
    "tfidf_test_vect_df.head(10)"
   ]
  },
  {
   "cell_type": "code",
   "execution_count": 87,
   "metadata": {},
   "outputs": [],
   "source": [
    "test_vect_loc = tfidf_loc.transform(dst_input['location'])\n"
   ]
  },
  {
   "cell_type": "code",
   "execution_count": 88,
   "metadata": {},
   "outputs": [],
   "source": [
    "dfst=pd.DataFrame(test_vect.toarray().tolist(),columns= tfidf.get_feature_names())"
   ]
  },
  {
   "cell_type": "code",
   "execution_count": 89,
   "metadata": {},
   "outputs": [],
   "source": [
    "dfst_loc=pd.DataFrame(test_vect_loc.toarray().tolist(),columns= tfidf_loc.get_feature_names())"
   ]
  },
  {
   "cell_type": "code",
   "execution_count": 90,
   "metadata": {},
   "outputs": [],
   "source": [
    "dfst_loc=dfst_loc[dfst_loc.columns[~dfst_loc.columns.isin(dfst.columns)]]"
   ]
  },
  {
   "cell_type": "code",
   "execution_count": 91,
   "metadata": {},
   "outputs": [],
   "source": [
    "xd_test.reset_index(drop=True,inplace=True)\n",
    "dfst.reset_index(drop=True,inplace=True)\n",
    "dfst_loc.reset_index(drop=True,inplace=True)"
   ]
  },
  {
   "cell_type": "code",
   "execution_count": 92,
   "metadata": {},
   "outputs": [],
   "source": [
    "xd_test = pd.concat([xd_test,dfst,dfst_loc], axis=1)"
   ]
  },
  {
   "cell_type": "code",
   "execution_count": 93,
   "metadata": {
    "scrolled": false
   },
   "outputs": [
    {
     "data": {
      "text/plain": [
       "Index([], dtype='object')"
      ]
     },
     "execution_count": 93,
     "metadata": {},
     "output_type": "execute_result"
    }
   ],
   "source": [
    "duplicate_col=xd_test.columns[xd_test.columns.duplicated()]\n",
    "duplicate_col\n",
    "#xd_test.head()"
   ]
  },
  {
   "cell_type": "markdown",
   "metadata": {
    "colab_type": "text",
    "id": "gYToxz3a2Jf4"
   },
   "source": [
    "### Scaling dataset   <a id='pcalr'>"
   ]
  },
  {
   "cell_type": "code",
   "execution_count": 94,
   "metadata": {
    "colab": {},
    "colab_type": "code",
    "id": "4m785xRv2Jf4",
    "outputId": "18cdca9f-7884-44ac-f29e-ae04150d3402"
   },
   "outputs": [],
   "source": [
    "# Fitting the PCA on the data\n",
    "\n",
    "from sklearn.preprocessing import MinMaxScaler\n",
    "scld=MinMaxScaler(feature_range=(0,1))\n",
    "Xd_arr_scld =scld.fit_transform(Xd)\n",
    "xd_arr_scld =scld.fit_transform(xd_test)\n",
    "Xd_scld=pd.DataFrame(Xd_arr_scld,columns=Xd.columns)\n",
    "xd_test_scld=pd.DataFrame(xd_arr_scld,columns=xd_test.columns)\n",
    "\n",
    "\n",
    "#pca = PCA()\n",
    "#pca.fit(Xd)"
   ]
  },
  {
   "cell_type": "code",
   "execution_count": 95,
   "metadata": {
    "colab": {},
    "colab_type": "code",
    "id": "4m785xRv2Jf4",
    "outputId": "18cdca9f-7884-44ac-f29e-ae04150d3402"
   },
   "outputs": [
    {
     "name": "stdout",
     "output_type": "stream",
     "text": [
      "<class 'pandas.core.frame.DataFrame'>\n",
      "RangeIndex: 19801 entries, 0 to 19800\n",
      "Columns: 8909 entries, Exp_min to zealand\n",
      "dtypes: float64(8905), int32(2), uint8(2)\n",
      "memory usage: 1.3 GB\n"
     ]
    }
   ],
   "source": [
    "Xd.info()"
   ]
  },
  {
   "cell_type": "code",
   "execution_count": 96,
   "metadata": {
    "colab": {},
    "colab_type": "code",
    "id": "4m785xRv2Jf4",
    "outputId": "18cdca9f-7884-44ac-f29e-ae04150d3402"
   },
   "outputs": [
    {
     "name": "stdout",
     "output_type": "stream",
     "text": [
      "<class 'pandas.core.frame.DataFrame'>\n",
      "RangeIndex: 6601 entries, 0 to 6600\n",
      "Columns: 8909 entries, Exp_min to zealand\n",
      "dtypes: float64(8909)\n",
      "memory usage: 448.7 MB\n"
     ]
    }
   ],
   "source": [
    "xd_test_scld.info()"
   ]
  },
  {
   "cell_type": "code",
   "execution_count": 97,
   "metadata": {
    "colab": {},
    "colab_type": "code",
    "id": "4m785xRv2Jf4",
    "outputId": "18cdca9f-7884-44ac-f29e-ae04150d3402"
   },
   "outputs": [],
   "source": [
    "#Xd_scld.describe()"
   ]
  },
  {
   "cell_type": "markdown",
   "metadata": {
    "colab_type": "text",
    "id": "gYToxz3a2Jf4"
   },
   "source": [
    "### Applying PCA to dataset   <a id='pcalr'>"
   ]
  },
  {
   "cell_type": "code",
   "execution_count": 98,
   "metadata": {
    "colab": {},
    "colab_type": "code",
    "id": "4m785xRv2Jf4",
    "outputId": "18cdca9f-7884-44ac-f29e-ae04150d3402"
   },
   "outputs": [],
   "source": [
    "# Fitting the PCA on the data\n",
    "\n",
    "#from sklearn.decomposition import PCA\n",
    "#pca = PCA()\n",
    "#pca.fit(Xd)"
   ]
  },
  {
   "cell_type": "code",
   "execution_count": 99,
   "metadata": {
    "colab": {},
    "colab_type": "code",
    "id": "O_GWUMnN2Jf6",
    "outputId": "020a2638-d920-4a28-8fba-2d3c51032204"
   },
   "outputs": [],
   "source": [
    "# Minimum number of components for which the variance is 90% is 15\n",
    "\n",
    "#pca.explained_variance_ratio_[:1].sum()"
   ]
  },
  {
   "cell_type": "code",
   "execution_count": 100,
   "metadata": {
    "colab": {},
    "colab_type": "code",
    "id": "3ad5iDN62JgB"
   },
   "outputs": [],
   "source": [
    "# consider first 15 components as they are explaining the 90% of variation in the data\n",
    "\n",
    "#x_pca = PCA(n_components=1)\n",
    "#Xd_pca = x_pca.fit_transform(Xd)\n",
    "#xd_test_pca = x_pca.fit_transform(xd_test)"
   ]
  },
  {
   "cell_type": "markdown",
   "metadata": {
    "colab_type": "text",
    "id": "6Wme-Hcs3ZfX"
   },
   "source": [
    "### 5 Decision Tree <a id='rf'>"
   ]
  },
  {
   "cell_type": "markdown",
   "metadata": {
    "colab_type": "text",
    "id": "nli08qA93Zd5"
   },
   "source": [
    "This shows all the hyperparameters of Decision Tree model"
   ]
  },
  {
   "cell_type": "markdown",
   "metadata": {
    "colab_type": "text",
    "id": "7urZ2rVy3Zd6"
   },
   "source": [
    "### 5.1 Training Decision Tree Model  <a id='tdt'>"
   ]
  },
  {
   "cell_type": "code",
   "execution_count": 101,
   "metadata": {
    "colab": {},
    "colab_type": "code",
    "id": "WT-JmY3t3Zd0",
    "outputId": "b5c003fb-744b-4efe-acec-59a4072422b6",
    "scrolled": false
   },
   "outputs": [
    {
     "data": {
      "text/plain": [
       "DecisionTreeClassifier(class_weight=None, criterion='entropy', max_depth=3,\n",
       "            max_features=None, max_leaf_nodes=None,\n",
       "            min_impurity_decrease=0.0, min_impurity_split=None,\n",
       "            min_samples_leaf=1, min_samples_split=2,\n",
       "            min_weight_fraction_leaf=0.0, presort=False, random_state=42,\n",
       "            splitter='best')"
      ]
     },
     "execution_count": 101,
     "metadata": {},
     "output_type": "execute_result"
    }
   ],
   "source": [
    "# Importing the packages for Decision Tree Classifier\n",
    "\n",
    "from sklearn import tree\n",
    "my_tree_one = tree.DecisionTreeClassifier(criterion=\"entropy\", max_depth=3, random_state=42)\n",
    "my_tree_one"
   ]
  },
  {
   "cell_type": "code",
   "execution_count": 102,
   "metadata": {
    "colab": {},
    "colab_type": "code",
    "id": "eU3kwXxy3Zd7"
   },
   "outputs": [],
   "source": [
    "# Fit the decision tree model on your features and label\n",
    "\n",
    "my_tree_one = my_tree_one.fit(Xd_scld, yd)"
   ]
  },
  {
   "cell_type": "code",
   "execution_count": 103,
   "metadata": {
    "colab": {},
    "colab_type": "code",
    "id": "aWc_ntrA3Zd-",
    "outputId": "2792e77a-38fc-4df0-984e-43a1df89dd9d"
   },
   "outputs": [
    {
     "data": {
      "text/plain": [
       "[('Exp_min', 0.1916223626020047),\n",
       " ('Exp_max', 0.7798778409786329),\n",
       " ('jobtype_analytics', 0.0),\n",
       " ('jobtype_others', 0.0),\n",
       " ('01', 0.0),\n",
       " ('02', 0.0),\n",
       " ('02nd', 0.0),\n",
       " ('02yr', 0.0),\n",
       " ('03', 0.0),\n",
       " ('03months', 0.0),\n",
       " ('03novsat', 0.0),\n",
       " ('03rd', 0.0),\n",
       " ('04', 0.0),\n",
       " ('05', 0.0),\n",
       " ('06', 0.0),\n",
       " ('08', 0.0),\n",
       " ('09', 0.0),\n",
       " ('09oct18', 0.0),\n",
       " ('10', 0.0),\n",
       " ('100', 0.0),\n",
       " ('1012', 0.0),\n",
       " ('1012th', 0.0),\n",
       " ('1014', 0.0),\n",
       " ('1015', 0.0),\n",
       " ('103', 0.0),\n",
       " ('1040', 0.0),\n",
       " ('105', 0.0),\n",
       " ('1065', 0.0),\n",
       " ('10g', 0.0),\n",
       " ('10k', 0.0),\n",
       " ('10lpa', 0.0),\n",
       " ('10th', 0.0),\n",
       " ('11', 0.0),\n",
       " ('1120', 0.0),\n",
       " ('11am', 0.0),\n",
       " ('11g', 0.0),\n",
       " ('11pm', 0.0),\n",
       " ('11th', 0.0),\n",
       " ('12', 0.0),\n",
       " ('123', 0.0),\n",
       " ('127', 0.0),\n",
       " ('12am', 0.0),\n",
       " ('12lpa', 0.0),\n",
       " ('12th', 0.0),\n",
       " ('12yrs_', 0.0),\n",
       " ('13', 0.0),\n",
       " ('1318', 0.0),\n",
       " ('13485', 0.0),\n",
       " ('13th', 0.0),\n",
       " ('13yrs', 0.0),\n",
       " ('14', 0.0),\n",
       " ('1418', 0.0),\n",
       " ('142', 0.0),\n",
       " ('144', 0.0),\n",
       " ('14l', 0.0),\n",
       " ('14oct18sun', 0.0),\n",
       " ('15', 0.0),\n",
       " ('1520', 0.0),\n",
       " ('15k', 0.0),\n",
       " ('15k40kno', 0.0),\n",
       " ('15oct', 0.0),\n",
       " ('15th', 0.0),\n",
       " ('16', 0.0),\n",
       " ('16949', 0.0),\n",
       " ('16th', 0.0),\n",
       " ('17', 0.0),\n",
       " ('17oct18', 0.0),\n",
       " ('17th', 0.0),\n",
       " ('18', 0.0),\n",
       " ('18000', 0.0),\n",
       " ('18001', 0.0),\n",
       " ('18th', 0.0),\n",
       " ('19th', 0.0),\n",
       " ('1d', 0.0),\n",
       " ('1lpa', 0.0),\n",
       " ('1st', 0.0),\n",
       " ('1yr', 0.0),\n",
       " ('20', 0.0),\n",
       " ('2005', 0.0),\n",
       " ('200520082012', 0.0),\n",
       " ('2008', 0.0),\n",
       " ('2012', 0.0),\n",
       " ('2013', 0.0),\n",
       " ('2016', 0.0),\n",
       " ('2017', 0.0),\n",
       " ('2018', 0.0),\n",
       " ('20k', 0.0),\n",
       " ('20th', 0.0),\n",
       " ('21', 0.0),\n",
       " ('210', 0.0),\n",
       " ('22nd', 0.0),\n",
       " ('22nd27th', 0.0),\n",
       " ('23rd', 0.0),\n",
       " ('24', 0.0),\n",
       " ('240', 0.0),\n",
       " ('2456', 0.0),\n",
       " ('247', 0.0),\n",
       " ('24k', 0.0),\n",
       " ('24kpm', 0.0),\n",
       " ('24th', 0.0),\n",
       " ('24x7', 0.0),\n",
       " ('25', 0.0),\n",
       " ('25th', 0.0),\n",
       " ('25yrs', 0.0),\n",
       " ('26', 0.0),\n",
       " ('26th', 0.0),\n",
       " ('27', 0.0),\n",
       " ('27001', 0.0),\n",
       " ('27k', 0.0),\n",
       " ('27oct', 0.0),\n",
       " ('27oct18', 0.0),\n",
       " ('27th', 0.0),\n",
       " ('27yrs', 0.0),\n",
       " ('28k', 0.0),\n",
       " ('29oct18', 0.0),\n",
       " ('29th', 0.0),\n",
       " ('29th31st', 0.0),\n",
       " ('2_', 0.0),\n",
       " ('2coms', 0.0),\n",
       " ('2d', 0.0),\n",
       " ('2g', 0.0),\n",
       " ('2js', 0.0),\n",
       " ('2nd', 0.0),\n",
       " ('2nov', 0.0),\n",
       " ('2years', 0.0),\n",
       " ('2yearspermanent', 0.0),\n",
       " ('30', 0.0),\n",
       " ('300', 0.0),\n",
       " ('30k', 0.0),\n",
       " ('30kyr', 0.0),\n",
       " ('30oct', 0.0),\n",
       " ('30th', 0.0),\n",
       " ('31', 0.0),\n",
       " ('310', 0.0),\n",
       " ('31st', 0.0),\n",
       " ('32', 0.0),\n",
       " ('325l', 0.0),\n",
       " ('32k', 0.0),\n",
       " ('32lpa', 0.0),\n",
       " ('33k', 0.0),\n",
       " ('35', 0.0),\n",
       " ('3580k', 0.0),\n",
       " ('35k', 0.0),\n",
       " ('35l', 0.0),\n",
       " ('35lpa', 0.0),\n",
       " ('36', 0.0),\n",
       " ('360', 0.0),\n",
       " ('3627', 0.0),\n",
       " ('365', 0.0),\n",
       " ('36k', 0.0),\n",
       " ('36m', 0.0),\n",
       " ('37', 0.0),\n",
       " ('38', 0.0),\n",
       " ('38l', 0.0),\n",
       " ('39', 0.0),\n",
       " ('3d', 0.0),\n",
       " ('3delhi', 0.0),\n",
       " ('3dmax', 0.0),\n",
       " ('3g', 0.0),\n",
       " ('3gpp', 0.0),\n",
       " ('3lpa', 0.0),\n",
       " ('3p', 0.0),\n",
       " ('3pillar', 0.0),\n",
       " ('3pl', 0.0),\n",
       " ('3pm', 0.0),\n",
       " ('3rd', 0.0),\n",
       " ('3yrs', 0.0),\n",
       " ('40', 0.0),\n",
       " ('400', 0.0),\n",
       " ('404', 0.0),\n",
       " ('40days', 0.0),\n",
       " ('40k', 0.0),\n",
       " ('410', 0.0),\n",
       " ('42k', 0.0),\n",
       " ('42l', 0.0),\n",
       " ('44', 0.0),\n",
       " ('45', 0.0),\n",
       " ('45k', 0.0),\n",
       " ('45l', 0.0),\n",
       " ('45lakh', 0.0),\n",
       " ('45lpa', 0.0),\n",
       " ('46', 0.0),\n",
       " ('46yrs', 0.0),\n",
       " ('47', 0.0),\n",
       " ('475lpa', 0.0),\n",
       " ('48', 0.0),\n",
       " ('49', 0.0),\n",
       " ('49yrs', 0.0),\n",
       " ('4g', 0.0),\n",
       " ('4l', 0.0),\n",
       " ('4lpa', 0.0),\n",
       " ('4pm', 0.0),\n",
       " ('4th', 0.0),\n",
       " ('50', 0.0),\n",
       " ('500', 0.0),\n",
       " ('50126', 0.0),\n",
       " ('50128', 0.0),\n",
       " ('50k', 0.0),\n",
       " ('510', 0.0),\n",
       " ('510yrs', 0.0),\n",
       " ('526', 0.0),\n",
       " ('531', 0.0),\n",
       " ('533', 0.0),\n",
       " ('551', 0.0),\n",
       " ('573', 0.0),\n",
       " ('58', 0.0),\n",
       " ('59', 0.0),\n",
       " ('595', 0.0),\n",
       " ('5g', 0.0),\n",
       " ('5th', 0.0),\n",
       " ('5yrs', 0.0),\n",
       " ('60', 0.0),\n",
       " ('6001', 0.0),\n",
       " ('6002', 0.0),\n",
       " ('60kyr', 0.0),\n",
       " ('610', 0.0),\n",
       " ('611', 0.0),\n",
       " ('612', 0.0),\n",
       " ('62', 0.0),\n",
       " ('63', 0.0),\n",
       " ('65lpa', 0.0),\n",
       " ('670', 0.0),\n",
       " ('68', 0.0),\n",
       " ('69', 0.0),\n",
       " ('6pm', 0.0),\n",
       " ('6th', 0.0),\n",
       " ('6yrs', 0.0),\n",
       " ('7000week', 0.0),\n",
       " ('710', 0.0),\n",
       " ('711', 0.0),\n",
       " ('711years', 0.0),\n",
       " ('712', 0.0),\n",
       " ('730am', 0.0),\n",
       " ('7qc', 0.0),\n",
       " ('7th', 0.0),\n",
       " ('7x', 0.0),\n",
       " ('80211', 0.0),\n",
       " ('8021q', 0.0),\n",
       " ('8076014360', 0.0),\n",
       " ('81', 0.0),\n",
       " ('812', 0.0),\n",
       " ('812years', 0.0),\n",
       " ('8448100705', 0.0),\n",
       " ('8am', 0.0),\n",
       " ('8d', 0.0),\n",
       " ('8th', 0.0),\n",
       " ('9001', 0.0),\n",
       " ('910', 0.0),\n",
       " ('9k', 0.0),\n",
       " ('9th', 0.0),\n",
       " ('9x', 0.0),\n",
       " ('_automation', 0.0),\n",
       " ('_for', 0.0),\n",
       " ('_full', 0.0),\n",
       " ('_hinjewadi', 0.0),\n",
       " ('_mnc_c2h_anz', 0.0),\n",
       " ('_opportunity', 0.0),\n",
       " ('_performance', 0.0),\n",
       " ('_php_developer', 0.0),\n",
       " ('_pune', 0.0),\n",
       " ('_tech', 0.0),\n",
       " ('_tester', 0.0),\n",
       " ('_ui', 0.0),\n",
       " ('_us', 0.0),\n",
       " ('a4a5b1', 0.0),\n",
       " ('aa', 0.0),\n",
       " ('aacopa', 0.0),\n",
       " ('aam', 0.0),\n",
       " ('ab', 0.0),\n",
       " ('abap', 0.0),\n",
       " ('abaqus', 0.0),\n",
       " ('abc', 0.0),\n",
       " ('ability', 0.0),\n",
       " ('abinitio', 0.0),\n",
       " ('abinitiooracle', 0.0),\n",
       " ('abled', 0.0),\n",
       " ('abr', 0.0),\n",
       " ('abroad', 0.0),\n",
       " ('absorption', 0.0),\n",
       " ('abstraction', 0.0),\n",
       " ('abstractionnoida', 0.0),\n",
       " ('abt', 0.0),\n",
       " ('abu', 0.0),\n",
       " ('abv', 0.0),\n",
       " ('ac', 0.0),\n",
       " ('academic', 0.0),\n",
       " ('acca', 0.0),\n",
       " ('acccounts', 0.0),\n",
       " ('accel', 0.0),\n",
       " ('accent', 0.0),\n",
       " ('accenture', 0.0),\n",
       " ('acceptance', 0.0),\n",
       " ('access', 0.0),\n",
       " ('accessibility', 0.0),\n",
       " ('accessory', 0.0),\n",
       " ('accntng', 0.0),\n",
       " ('accounitng', 0.0),\n",
       " ('account', 0.0),\n",
       " ('accountancy', 0.0),\n",
       " ('accountant', 0.0),\n",
       " ('accountantchennai', 0.0),\n",
       " ('accountantcredit', 0.0),\n",
       " ('accounting', 0.0),\n",
       " ('accounting_', 0.0),\n",
       " ('accounting_mumbai', 0.0),\n",
       " ('accountinganalytics', 0.0),\n",
       " ('accountingtaxation', 0.0),\n",
       " ('accountmarketing', 0.0),\n",
       " ('accountscharted', 0.0),\n",
       " ('accountsfinance', 0.0),\n",
       " ('accountsvizag', 0.0),\n",
       " ('accouting', 0.0),\n",
       " ('accretive', 0.0),\n",
       " ('accrual', 0.0),\n",
       " ('ace', 0.0),\n",
       " ('achievement', 0.0),\n",
       " ('aci', 0.0),\n",
       " ('acl', 0.0),\n",
       " ('acme', 0.0),\n",
       " ('acn', 0.0),\n",
       " ('acounting', 0.0),\n",
       " ('acoustic', 0.0),\n",
       " ('acquire', 0.0),\n",
       " ('acquiring', 0.0),\n",
       " ('acquisition', 0.0),\n",
       " ('acquition', 0.0),\n",
       " ('acrms', 0.0),\n",
       " ('acrobat', 0.0),\n",
       " ('act', 0.0),\n",
       " ('action', 0.0),\n",
       " ('activation', 0.0),\n",
       " ('active', 0.0),\n",
       " ('actively', 0.0),\n",
       " ('activemq', 0.0),\n",
       " ('activity', 0.0),\n",
       " ('actuarial', 0.0),\n",
       " ('actuariallife', 0.0),\n",
       " ('actuarialnonlife', 0.0),\n",
       " ('actuary', 0.0),\n",
       " ('ad', 0.0),\n",
       " ('ad162', 0.0),\n",
       " ('ada', 0.0),\n",
       " ('adam', 0.0),\n",
       " ('adani', 0.0),\n",
       " ('adaptability', 0.0),\n",
       " ('adapter', 0.0),\n",
       " ('adc', 0.0),\n",
       " ('addressing', 0.0),\n",
       " ('adeeba', 0.0),\n",
       " ('adequacy', 0.0),\n",
       " ('adf', 0.0),\n",
       " ('adfs', 0.0),\n",
       " ('adglobal360', 0.0),\n",
       " ('adhesive', 0.0),\n",
       " ('adhoc', 0.0),\n",
       " ('adjudication', 0.0),\n",
       " ('adjuster', 0.0),\n",
       " ('adl', 0.0),\n",
       " ('adla', 0.0),\n",
       " ('adm', 0.0),\n",
       " ('admin', 0.0),\n",
       " ('adminanalyst', 0.0),\n",
       " ('adminbusiness', 0.0),\n",
       " ('administration', 0.0),\n",
       " ('administrative', 0.0),\n",
       " ('administrator', 0.0),\n",
       " ('administratorlead', 0.0),\n",
       " ('administratorperformance', 0.0),\n",
       " ('administratorsr', 0.0),\n",
       " ('adminmumbai', 0.0),\n",
       " ('admission', 0.0),\n",
       " ('admn', 0.0),\n",
       " ('adobe', 0.0),\n",
       " ('adonet', 0.0),\n",
       " ('adopter', 0.0),\n",
       " ('adoption', 0.0),\n",
       " ('adp', 0.0),\n",
       " ('adsense', 0.0),\n",
       " ('adso', 0.0),\n",
       " ('adtechmediatech', 0.0),\n",
       " ('adv', 0.0),\n",
       " ('advance', 0.0),\n",
       " ('advanced', 0.0),\n",
       " ('advertisement', 0.0),\n",
       " ('advertising', 0.0),\n",
       " ('advertisingpr', 0.0),\n",
       " ('advise', 0.0),\n",
       " ('adviser', 0.0),\n",
       " ('advisior', 0.0),\n",
       " ('advisor', 0.0),\n",
       " ('advisorbangalore', 0.0),\n",
       " ('advisorconsultant', 0.0),\n",
       " ('advisorshindi', 0.0),\n",
       " ('advisory', 0.0),\n",
       " ('advisory_', 0.0),\n",
       " ('advisory_sap', 0.0),\n",
       " ('advocacy', 0.0),\n",
       " ('advocate', 0.0),\n",
       " ('adword', 0.0),\n",
       " ('adwords', 0.0),\n",
       " ('adwordspage', 0.0),\n",
       " ('adworld', 0.0),\n",
       " ('aem', 0.0),\n",
       " ('aem60', 0.0),\n",
       " ('aem61', 0.0),\n",
       " ('aemcq', 0.0),\n",
       " ('aero', 0.0),\n",
       " ('aerodynamics', 0.0),\n",
       " ('aeronautic', 0.0),\n",
       " ('aeronautical', 0.0),\n",
       " ('aeronube', 0.0),\n",
       " ('aerospace', 0.0),\n",
       " ('aerospike', 0.0),\n",
       " ('affair', 0.0),\n",
       " ('affidavit', 0.0),\n",
       " ('affiliate', 0.0),\n",
       " ('affine', 0.0),\n",
       " ('afghanistan', 0.0),\n",
       " ('afm', 0.0),\n",
       " ('africa', 0.0),\n",
       " ('afternoon', 0.0),\n",
       " ('ag', 0.0),\n",
       " ('age', 0.0),\n",
       " ('agency', 0.0),\n",
       " ('agencypowai', 0.0),\n",
       " ('agent', 0.0),\n",
       " ('aggregation', 0.0),\n",
       " ('agile', 0.0),\n",
       " ('agilecc', 0.0),\n",
       " ('agilescrum', 0.0),\n",
       " ('agility', 0.0),\n",
       " ('aglie', 0.0),\n",
       " ('agm', 0.0),\n",
       " ('agmdeputy', 0.0),\n",
       " ('agmdgm', 0.0),\n",
       " ('agmfinance', 0.0),\n",
       " ('agmsr', 0.0),\n",
       " ('agnostic', 0.0),\n",
       " ('agreement', 0.0),\n",
       " ('agreeya', 0.0),\n",
       " ('agri', 0.0),\n",
       " ('agribusiness', 0.0),\n",
       " ('agricultural', 0.0),\n",
       " ('agriculture', 0.0),\n",
       " ('agriculturefreshers', 0.0),\n",
       " ('agriculturelivestocklivelihoodsimmediate', 0.0),\n",
       " ('agridairy', 0.0),\n",
       " ('agrochemical', 0.0),\n",
       " ('agronomist', 0.0),\n",
       " ('agronomy', 0.0),\n",
       " ('ahemdabad', 0.0),\n",
       " ('ahmadabad', 0.0),\n",
       " ('ahmd', 0.0),\n",
       " ('ahme', 0.0),\n",
       " ('ahmeda', 0.0),\n",
       " ('ahmedabad', 0.0),\n",
       " ('ahmedabad_p', 0.0),\n",
       " ('ahmedabadnight', 0.0),\n",
       " ('ahmedabadudaipurbaroda', 0.0),\n",
       " ('ahu', 0.0),\n",
       " ('ai', 0.0),\n",
       " ('aianalytics', 0.0),\n",
       " ('aicte', 0.0),\n",
       " ('aiit', 0.0),\n",
       " ('aim', 0.0),\n",
       " ('aiml', 0.0),\n",
       " ('aimldata', 0.0),\n",
       " ('aimlnlp', 0.0),\n",
       " ('aimlnlpdeep', 0.0),\n",
       " ('air', 0.0),\n",
       " ('airbnb', 0.0),\n",
       " ('aircraft', 0.0),\n",
       " ('airline', 0.0),\n",
       " ('airlineproduct', 0.0),\n",
       " ('airoli', 0.0),\n",
       " ('airolinight', 0.0),\n",
       " ('airport', 0.0),\n",
       " ('airrm', 0.0),\n",
       " ('airtel', 0.0),\n",
       " ('airwatch', 0.0),\n",
       " ('airway', 0.0),\n",
       " ('aisc', 0.0),\n",
       " ('aix', 0.0),\n",
       " ('aixzos', 0.0),\n",
       " ('ajax', 0.0),\n",
       " ('ajaxlamp', 0.0),\n",
       " ('ajmer', 0.0),\n",
       " ('aka', 0.0),\n",
       " ('akbar', 0.0),\n",
       " ('akka', 0.0),\n",
       " ('akola', 0.0),\n",
       " ('akshaya', 0.0),\n",
       " ('al', 0.0),\n",
       " ('alco', 0.0),\n",
       " ('aldon', 0.0),\n",
       " ('ale', 0.0),\n",
       " ('alembic', 0.0),\n",
       " ('alert', 0.0),\n",
       " ('alexis', 0.0),\n",
       " ('alfresco', 0.0),\n",
       " ('algebra', 0.0),\n",
       " ('algo', 0.0),\n",
       " ('algorithm', 0.0),\n",
       " ('algorithmic', 0.0),\n",
       " ('algorithmicquantitative', 0.0),\n",
       " ('algorithmquantitative', 0.0),\n",
       " ('algorithmsjavabig', 0.0),\n",
       " ('algorithmspyt', 0.0),\n",
       " ('alight', 0.0),\n",
       " ('aligned', 0.0),\n",
       " ('alliance', 0.0),\n",
       " ('allianz', 0.0),\n",
       " ('allocation', 0.0),\n",
       " ('allowed', 0.0),\n",
       " ('alloy', 0.0),\n",
       " ('allstate', 0.0),\n",
       " ('alpha', 0.0),\n",
       " ('alt', 0.0),\n",
       " ('altera', 0.0),\n",
       " ('alternate', 0.0),\n",
       " ('alternative', 0.0),\n",
       " ('alteryx', 0.0),\n",
       " ('altisource', 0.0),\n",
       " ('alto', 0.0),\n",
       " ('alttext', 0.0),\n",
       " ('alumini', 0.0),\n",
       " ('amadeus', 0.0),\n",
       " ('amalapuram', 0.0),\n",
       " ('amazing', 0.0),\n",
       " ('amazon', 0.0),\n",
       " ('ambassador', 0.0),\n",
       " ('ambernath', 0.0),\n",
       " ('amc', 0.0),\n",
       " ('amcs', 0.0),\n",
       " ('amd', 0.0),\n",
       " ('amdm', 0.0),\n",
       " ('amdmmanager', 0.0),\n",
       " ('amdmmgr', 0.0),\n",
       " ('amdocs', 0.0),\n",
       " ('america', 0.0),\n",
       " ('american', 0.0),\n",
       " ('amex', 0.0),\n",
       " ('aml', 0.0),\n",
       " ('amm', 0.0),\n",
       " ('ammanager', 0.0),\n",
       " ('ammanagersenior', 0.0),\n",
       " ('ammavaru', 0.0),\n",
       " ('amo', 0.0),\n",
       " ('amplifier', 0.0),\n",
       " ('amqp', 0.0),\n",
       " ('amr', 0.0),\n",
       " ('amravati', 0.0),\n",
       " ('amruta', 0.0),\n",
       " ('amsenior', 0.0),\n",
       " ('ana', 0.0),\n",
       " ('anaconda', 0.0),\n",
       " ('anaesthesia', 0.0),\n",
       " ('anal', 0.0),\n",
       " ('analayst', 0.0),\n",
       " ('analog', 0.0),\n",
       " ('analys', 0.0),\n",
       " ('analyse', 0.0),\n",
       " ('analysing', 0.0),\n",
       " ('analysis', 0.0),\n",
       " ('analysis_', 0.0),\n",
       " ('analysis_chennai', 0.0),\n",
       " ('analysis_mnc_us', 0.0),\n",
       " ('analysisca', 0.0),\n",
       " ('analysisequity', 0.0),\n",
       " ('analysisfea', 0.0),\n",
       " ('analysisfpa', 0.0),\n",
       " ('analysisjda', 0.0),\n",
       " ('analysismodeling', 0.0),\n",
       " ('analysispricing', 0.0),\n",
       " ('analysisproject', 0.0),\n",
       " ('analysisseo', 0.0),\n",
       " ('analysissystem', 0.0),\n",
       " ('analyst', 0.0),\n",
       " ('analyst2', 0.0),\n",
       " ('analyst57ypunepersistent', 0.0),\n",
       " ('analyst_', 0.0),\n",
       " ('analyst_day', 0.0),\n",
       " ('analyst_eclerx_navi', 0.0),\n",
       " ('analyst_exela', 0.0),\n",
       " ('analyst_female', 0.0),\n",
       " ('analyst_ggn', 0.0),\n",
       " ('analyst_hyderabad_mnc', 0.0),\n",
       " ('analyst_male', 0.0),\n",
       " ('analyst_male_night', 0.0),\n",
       " ('analyst_mnc_chennai', 0.0),\n",
       " ('analyst_night', 0.0),\n",
       " ('analyst_noida', 0.0),\n",
       " ('analyst_on', 0.0),\n",
       " ('analyst_only', 0.0),\n",
       " ('analyst_pune', 0.0),\n",
       " ('analyst_punerh', 0.0),\n",
       " ('analyst_rotational', 0.0),\n",
       " ('analyst_senior', 0.0),\n",
       " ('analyst_visionet', 0.0),\n",
       " ('analystacross', 0.0),\n",
       " ('analystaiml', 0.0),\n",
       " ('analystaircraft', 0.0),\n",
       " ('analystamr', 0.0),\n",
       " ('analystanalyst', 0.0),\n",
       " ('analystanalytics', 0.0),\n",
       " ('analystannuityinsurance', 0.0),\n",
       " ('analystassistant', 0.0),\n",
       " ('analystassociate', 0.0),\n",
       " ('analystassociatemanagersenior', 0.0),\n",
       " ('analystavp', 0.0),\n",
       " ('analystbpo', 0.0),\n",
       " ('analystbsa', 0.0),\n",
       " ('analystbusiness', 0.0),\n",
       " ('analystc', 0.0),\n",
       " ('analystcharted', 0.0),\n",
       " ('analystconsultant', 0.0),\n",
       " ('analystcredit', 0.0),\n",
       " ('analystcrmnext', 0.0),\n",
       " ('analystcustomer', 0.0),\n",
       " ('analystdata', 0.0),\n",
       " ('analystday', 0.0),\n",
       " ('analystdebt', 0.0),\n",
       " ('analystdenials', 0.0),\n",
       " ('analystdeveloper', 0.0),\n",
       " ('analystdialer', 0.0),\n",
       " ('analystencryptiongenericsplunk', 0.0),\n",
       " ('analystexecutive', 0.0),\n",
       " ('analystexpert24yearschennai', 0.0),\n",
       " ('analystfinancial', 0.0),\n",
       " ('analystfpa', 0.0),\n",
       " ('analystfunctional', 0.0),\n",
       " ('analystfundamental', 0.0),\n",
       " ('analystgurgaon', 0.0),\n",
       " ('analysthyderabad', 0.0),\n",
       " ('analystics', 0.0),\n",
       " ('analystindustry', 0.0),\n",
       " ('analystintern', 0.0),\n",
       " ('analystinternational', 0.0),\n",
       " ('analystinvestmentcapital', 0.0),\n",
       " ('analystlead', 0.0),\n",
       " ('analystleading', 0.0),\n",
       " ('analystmanager', 0.0),\n",
       " ('analystmarketing', 0.0),\n",
       " ('analystmba', 0.0),\n",
       " ('analystmis', 0.0),\n",
       " ('analystmultiple', 0.0),\n",
       " ('analystnandhini', 0.0),\n",
       " ('analystnetmfg', 0.0),\n",
       " ('analystnon', 0.0),\n",
       " ('analystpc', 0.0),\n",
       " ('analystperl', 0.0),\n",
       " ('analystportfolio', 0.0),\n",
       " ('analystpresales', 0.0),\n",
       " ('analystprimary', 0.0),\n",
       " ('analystprocess', 0.0),\n",
       " ('analystproduct', 0.0),\n",
       " ('analystprofessional', 0.0),\n",
       " ('analystproject', 0.0),\n",
       " ('analystpython', 0.0),\n",
       " ('analystqlikview', 0.0),\n",
       " ('analystranchi', 0.0),\n",
       " ('analystratings', 0.0),\n",
       " ('analystrd', 0.0),\n",
       " ('analystreal', 0.0),\n",
       " ('analystreporting', 0.0),\n",
       " ('analystrtorreconciliation', 0.0),\n",
       " ('analystsal', 0.0),\n",
       " ('analystsap', 0.0),\n",
       " ('analystsecurity', 0.0),\n",
       " ('analystsenior', 0.0),\n",
       " ('analystsolution', 0.0),\n",
       " ('analystsoutcome', 0.0),\n",
       " ('analystspecialist', 0.0),\n",
       " ('analystsr', 0.0),\n",
       " ('analystsranalyst', 0.0),\n",
       " ('analystsrindustry', 0.0),\n",
       " ('analyststrategy', 0.0),\n",
       " ('analysttechnical', 0.0),\n",
       " ('analysttechnology', 0.0),\n",
       " ('analysttesting', 0.0),\n",
       " ('analystus', 0.0),\n",
       " ('analystvashi', 0.0),\n",
       " ('analystwalk', 0.0),\n",
       " ('analystwfm', 0.0),\n",
       " ('analystwomen', 0.0),\n",
       " ('analysyt', 0.0),\n",
       " ('analytic', 0.0),\n",
       " ('analytical', 0.0),\n",
       " ('analytics1', 0.0),\n",
       " ('analytics6months', 0.0),\n",
       " ('analytics_', 0.0),\n",
       " ('analytics_bangalore_staff_44', 0.0),\n",
       " ('analytics_mumbai', 0.0),\n",
       " ('analytics_thane', 0.0),\n",
       " ('analyticsai', 0.0),\n",
       " ('analyticsbangalore', 0.0),\n",
       " ('analyticsbangaloregurgaon', 0.0),\n",
       " ('analyticsbi', 0.0),\n",
       " ('analyticsbig4', 0.0),\n",
       " ('analyticscapacity', 0.0),\n",
       " ('analyticscdm', 0.0),\n",
       " ('analyticscustomer', 0.0),\n",
       " ('analyticsdata', 0.0),\n",
       " ('analyticsforecasting', 0.0),\n",
       " ('analyticshtml', 0.0),\n",
       " ('analyticsmarketing', 0.0),\n",
       " ('analyticsmodeling', 0.0),\n",
       " ('analyticsmodelingsas', 0.0),\n",
       " ('analyticsoperations', 0.0),\n",
       " ('analyticspremier', 0.0),\n",
       " ('analyticspythonsas', 0.0),\n",
       " ('analyticsrsaspython', 0.0),\n",
       " ('analyticssas', 0.0),\n",
       " ('analyticssegmentationbig', 0.0),\n",
       " ('analyticssenior', 0.0),\n",
       " ('analyticsstatistical', 0.0),\n",
       " ('analytis', 0.0),\n",
       " ('analyze', 0.0),\n",
       " ('analyzer', 0.0),\n",
       " ('ananlysis', 0.0),\n",
       " ('anantapur', 0.0),\n",
       " ('anblickshyderabad', 0.0),\n",
       " ('anda', 0.0),\n",
       " ('andc', 0.0),\n",
       " ('andheri', 0.0),\n",
       " ('andherie', 0.0),\n",
       " ('andherikurla', 0.0),\n",
       " ('andriod', 0.0),\n",
       " ('android', 0.0),\n",
       " ('android_developer', 0.0),\n",
       " ('androidios', 0.0),\n",
       " ('androidiosovi', 0.0),\n",
       " ('anesthesia', 0.0),\n",
       " ('anguar', 0.0),\n",
       " ('angul', 0.0),\n",
       " ('angular', 0.0),\n",
       " ('angular2', 0.0),\n",
       " ('angular4', 0.0),\n",
       " ('angular5', 0.0),\n",
       " ('angularjs', 0.0),\n",
       " ('angularjs24', 0.0),\n",
       " ('angularjsdjango', 0.0),\n",
       " ('angularjsreactjs', 0.0),\n",
       " ('angularjsreactjsjavascript', 0.0),\n",
       " ('animation', 0.0),\n",
       " ('ankleshwar', 0.0),\n",
       " ('anlaytics', 0.0),\n",
       " ('anlys', 0.0),\n",
       " ('ann', 0.0),\n",
       " ('annalect', 0.0),\n",
       " ('annexure', 0.0),\n",
       " ('annual', 0.0),\n",
       " ('annuity', 0.0),\n",
       " ('anova', 0.0),\n",
       " ('ansa', 0.0),\n",
       " ('ansal', 0.0),\n",
       " ('ansi', 0.0),\n",
       " ('ansible', 0.0),\n",
       " ('ansibledocker', 0.0),\n",
       " ('ansys', 0.0),\n",
       " ('ant', 0.0),\n",
       " ('anti', 0.0),\n",
       " ('antimon', 0.0),\n",
       " ('antispam', 0.0),\n",
       " ('antivirus', 0.0),\n",
       " ('anvisa', 0.0),\n",
       " ('anypoint', 0.0),\n",
       " ('anywhereblue', 0.0),\n",
       " ('aop', 0.0),\n",
       " ('ap', 0.0),\n",
       " ('apac', 0.0),\n",
       " ('apache', 0.0),\n",
       " ('aparo2cp2pr2r', 0.0),\n",
       " ('aparp2pr2r', 0.0),\n",
       " ('apc', 0.0),\n",
       " ('apdrp', 0.0),\n",
       " ('apeda', 0.0),\n",
       " ('apeiro', 0.0),\n",
       " ('aperture', 0.0),\n",
       " ('apex', 0.0),\n",
       " ('api', 0.0),\n",
       " ('apigee', 0.0),\n",
       " ('apijava', 0.0),\n",
       " ('apiplanning', 0.0),\n",
       " ('apira', 0.0),\n",
       " ('apis', 0.0),\n",
       " ('apjc', 0.0),\n",
       " ('apm', 0.0),\n",
       " ('apm8', 0.0),\n",
       " ('apms', 0.0),\n",
       " ('apo', 0.0),\n",
       " ('apollo', 0.0),\n",
       " ('app', 0.0),\n",
       " ('apparel', 0.0),\n",
       " ('apparelgarmentstextilesfashion', 0.0),\n",
       " ('appdy', 0.0),\n",
       " ('appdynamics', 0.0),\n",
       " ('appeal', 0.0),\n",
       " ('appian', 0.0),\n",
       " ('appium', 0.0),\n",
       " ('appkit', 0.0),\n",
       " ('apple', 0.0),\n",
       " ('appliance', 0.0),\n",
       " ('application', 0.0),\n",
       " ('applicationssoftware', 0.0),\n",
       " ('applicationweb', 0.0),\n",
       " ('applied', 0.0),\n",
       " ('apply', 0.0),\n",
       " ('appraisal', 0.0),\n",
       " ('appraiser', 0.0),\n",
       " ('apprentice', 0.0),\n",
       " ('approval', 0.0),\n",
       " ('apps', 0.0),\n",
       " ('appscan', 0.0),\n",
       " ('apqp', 0.0),\n",
       " ('apriso', 0.0),\n",
       " ('apron', 0.0),\n",
       " ('aptean', 0.0),\n",
       " ('apttus', 0.0),\n",
       " ('aqis', 0.0),\n",
       " ('aquisition', 0.0),\n",
       " ('ar', 0.0),\n",
       " ('arabia', 0.0),\n",
       " ('arabic', 0.0),\n",
       " ('aranca', 0.0),\n",
       " ('arapgurgaonnoida', 0.0),\n",
       " ('arbitration', 0.0),\n",
       " ('arc', 0.0),\n",
       " ('arcadia', 0.0),\n",
       " ('arcgis', 0.0),\n",
       " ('archer', 0.0),\n",
       " ('architech', 0.0),\n",
       " ('architecht', 0.0),\n",
       " ('architechtimplementer', 0.0),\n",
       " ('architect', 0.0),\n",
       " ('architect_product', 0.0),\n",
       " ('architectams', 0.0),\n",
       " ('architectawscloud', 0.0),\n",
       " ('architectazurecloud', 0.0),\n",
       " ('architectbi', 0.0),\n",
       " ('architectbigdata', 0.0),\n",
       " ('architectbusiness', 0.0),\n",
       " ('architectcloudbigdata', 0.0),\n",
       " ('architecting', 0.0),\n",
       " ('architectmumbai', 0.0),\n",
       " ('architectprinciple', 0.0),\n",
       " ('architectsecurity', 0.0),\n",
       " ('architectsenior', 0.0),\n",
       " ('architectspecialist', 0.0),\n",
       " ('architecttechnical', 0.0),\n",
       " ('architecttechnology', 0.0),\n",
       " ('architectural', 0.0),\n",
       " ('architecture', 0.0),\n",
       " ('archiving', 0.0),\n",
       " ('arcitect', 0.0),\n",
       " ('arcollectioncredit', 0.0),\n",
       " ('arcsight', 0.0),\n",
       " ('ard', 0.0),\n",
       " ('ardapi', 0.0),\n",
       " ('area', 0.0),\n",
       " ('arg', 0.0),\n",
       " ('argus', 0.0),\n",
       " ('ariba', 0.0),\n",
       " ('aricenttech', 0.0),\n",
       " ('arima', 0.0),\n",
       " ('arity', 0.0),\n",
       " ('arm', 0.0),\n",
       " ('armsoc', 0.0),\n",
       " ('arrangement', 0.0),\n",
       " ('art', 0.0),\n",
       " ('artichitect', 0.0),\n",
       " ('article', 0.0),\n",
       " ('articulate', 0.0),\n",
       " ('artificial', 0.0),\n",
       " ('artist', 0.0),\n",
       " ('aruba', 0.0),\n",
       " ('arya', 0.0),\n",
       " ('as2', 0.0),\n",
       " ('as400', 0.0),\n",
       " ('asa', 0.0),\n",
       " ('asa_', 0.0),\n",
       " ('asap', 0.0),\n",
       " ('asce', 0.0),\n",
       " ('ascenthr', 0.0),\n",
       " ('ascenthr_mumbai', 0.0),\n",
       " ('ascribe', 0.0),\n",
       " ('asia', 0.0),\n",
       " ('asic', 0.0),\n",
       " ('asis', 0.0),\n",
       " ('asistant', 0.0),\n",
       " ('askia', 0.0),\n",
       " ('asm', 0.0),\n",
       " ('asme', 0.0),\n",
       " ('asnt', 0.0),\n",
       " ('aso', 0.0),\n",
       " ('asomobile', 0.0),\n",
       " ('asp', 0.0),\n",
       " ('aspcmvc', 0.0),\n",
       " ('aspcnet', 0.0),\n",
       " ('aspcsql', 0.0),\n",
       " ('aspect', 0.0),\n",
       " ('aspirant', 0.0),\n",
       " ('aspmvccangularjs', 0.0),\n",
       " ('aspnet', 0.0),\n",
       " ('aspnetc', 0.0),\n",
       " ('asr', 0.0),\n",
       " ('asr9k', 0.0),\n",
       " ('assam', 0.0),\n",
       " ('assay', 0.0),\n",
       " ('asse', 0.0),\n",
       " ('assembler', 0.0),\n",
       " ('assembly', 0.0),\n",
       " ('assengagement', 0.0),\n",
       " ('assesment', 0.0),\n",
       " ('assessing', 0.0),\n",
       " ('assessment', 0.0),\n",
       " ('assessor', 0.0),\n",
       " ('assesssor', 0.0),\n",
       " ('asset', 0.0),\n",
       " ('assignment', 0.0),\n",
       " ('assist', 0.0),\n",
       " ('assistance', 0.0),\n",
       " ('assistant', 0.0),\n",
       " ('assistantcorporate', 0.0),\n",
       " ('assistantdeputy', 0.0),\n",
       " ('assistantfemale', 0.0),\n",
       " ('assistantkundli', 0.0),\n",
       " ('assistantsr', 0.0),\n",
       " ('assisting', 0.0),\n",
       " ('assitant', 0.0),\n",
       " ('asso', 0.0),\n",
       " ('assoc', 0.0),\n",
       " ('associate', 0.0),\n",
       " ('associate_', 0.0),\n",
       " ('associate_analytical', 0.0),\n",
       " ('associate_finance_ra_eds_etl', 0.0),\n",
       " ('associate_java', 0.0),\n",
       " ('associate_staff', 0.0),\n",
       " ('associateaccounts', 0.0),\n",
       " ('associatealteryx', 0.0),\n",
       " ('associateanalyst', 0.0),\n",
       " ('associateassistant', 0.0),\n",
       " ('associatechemicals', 0.0),\n",
       " ('associatecommerce', 0.0),\n",
       " ('associatecore', 0.0),\n",
       " ('associatecredit', 0.0),\n",
       " ('associatedata', 0.0),\n",
       " ('associatedigital', 0.0),\n",
       " ('associateemeia', 0.0),\n",
       " ('associatefreshers', 0.0),\n",
       " ('associateinvoice', 0.0),\n",
       " ('associatemanager', 0.0),\n",
       " ('associatemanagersenior', 0.0),\n",
       " ('associatemumbai', 0.0),\n",
       " ('associatescientistfml', 0.0),\n",
       " ('associatesenior', 0.0),\n",
       " ('associateseo', 0.0),\n",
       " ('associatesr', 0.0),\n",
       " ('associatesrassociate', 0.0),\n",
       " ('associatevoice', 0.0),\n",
       " ('associatevoiceinternational', 0.0),\n",
       " ('association', 0.0),\n",
       " ('associnfrastructurespecialist', 0.0),\n",
       " ('assortment', 0.0),\n",
       " ('asst', 0.0),\n",
       " ('asstdeputy', 0.0),\n",
       " ('asstmanager', 0.0),\n",
       " ('asstmgr', 0.0),\n",
       " ('asstmgrmgraudit', 0.0),\n",
       " ('asstproject', 0.0),\n",
       " ('asstt', 0.0),\n",
       " ('assura', 0.0),\n",
       " ('assurance', 0.0),\n",
       " ('assurancerisk', 0.0),\n",
       " ('assured', 0.0),\n",
       " ('astm', 0.0),\n",
       " ('atdd', 0.0),\n",
       " ('atg', 0.0),\n",
       " ('athena', 0.0),\n",
       " ('atier', 0.0),\n",
       " ('atl', 0.0),\n",
       " ('atlas', 0.0),\n",
       " ('atlassian', 0.0),\n",
       " ('atm', 0.0),\n",
       " ('atos', 0.0),\n",
       " ('atpg', 0.0),\n",
       " ('attempt', 0.0),\n",
       " ('attendance', 0.0),\n",
       " ('attention', 0.0),\n",
       " ('attitude', 0.0),\n",
       " ('attorney', 0.0),\n",
       " ('attribution', 0.0),\n",
       " ('auction', 0.0),\n",
       " ('audio', 0.0),\n",
       " ('audit', 0.0),\n",
       " ('audit_fortis', 0.0),\n",
       " ('auditig', 0.0),\n",
       " ('auditime', 0.0),\n",
       " ('auditing', 0.0),\n",
       " ('auditnonfs', 0.0),\n",
       " ...]"
      ]
     },
     "execution_count": 103,
     "metadata": {},
     "output_type": "execute_result"
    }
   ],
   "source": [
    "# The feature_importances_ attribute make it simple to interpret the significance of the predictors you include\n",
    "\n",
    "list(zip(Xd.columns,my_tree_one.feature_importances_))"
   ]
  },
  {
   "cell_type": "code",
   "execution_count": 104,
   "metadata": {
    "colab": {},
    "colab_type": "code",
    "id": "qO0Tw06p3ZeD",
    "outputId": "bf54f43c-4ddc-415b-b685-9be4d13613db"
   },
   "outputs": [
    {
     "name": "stdout",
     "output_type": "stream",
     "text": [
      "0.38296045654259886\n"
     ]
    }
   ],
   "source": [
    "# The accuracy of the model\n",
    "\n",
    "print(my_tree_one.score(Xd_scld, yd))"
   ]
  },
  {
   "cell_type": "code",
   "execution_count": 105,
   "metadata": {
    "colab": {},
    "colab_type": "code",
    "id": "sFXTI6lD3ZeH",
    "outputId": "dd233403-414e-4465-b22c-cf90dc5e7c05"
   },
   "outputs": [
    {
     "data": {
      "image/svg+xml": [
       "<?xml version=\"1.0\" encoding=\"UTF-8\" standalone=\"no\"?>\r\n",
       "<!DOCTYPE svg PUBLIC \"-//W3C//DTD SVG 1.1//EN\"\r\n",
       " \"http://www.w3.org/Graphics/SVG/1.1/DTD/svg11.dtd\">\r\n",
       "<!-- Generated by graphviz version 2.38.0 (20140413.2041)\r\n",
       " -->\r\n",
       "<!-- Title: Tree Pages: 1 -->\r\n",
       "<svg width=\"1853pt\" height=\"373pt\"\r\n",
       " viewBox=\"0.00 0.00 1853.00 373.00\" xmlns=\"http://www.w3.org/2000/svg\" xmlns:xlink=\"http://www.w3.org/1999/xlink\">\r\n",
       "<g id=\"graph0\" class=\"graph\" transform=\"scale(1 1) rotate(0) translate(4 369)\">\r\n",
       "<title>Tree</title>\r\n",
       "<polygon fill=\"white\" stroke=\"none\" points=\"-4,4 -4,-369 1849,-369 1849,4 -4,4\"/>\r\n",
       "<!-- 0 -->\r\n",
       "<g id=\"node1\" class=\"node\"><title>0</title>\r\n",
       "<polygon fill=\"#9de539\" fill-opacity=\"0.023529\" stroke=\"black\" points=\"1047.5,-365 778.5,-365 778.5,-297 1047.5,-297 1047.5,-365\"/>\r\n",
       "<text text-anchor=\"middle\" x=\"913\" y=\"-349.8\" font-family=\"Times New Roman,serif\" font-size=\"14.00\">Exp_max &lt;= 0.25</text>\r\n",
       "<text text-anchor=\"middle\" x=\"913\" y=\"-334.8\" font-family=\"Times New Roman,serif\" font-size=\"14.00\">entropy = 2.52</text>\r\n",
       "<text text-anchor=\"middle\" x=\"913\" y=\"-319.8\" font-family=\"Times New Roman,serif\" font-size=\"14.00\">samples = 19801</text>\r\n",
       "<text text-anchor=\"middle\" x=\"913\" y=\"-304.8\" font-family=\"Times New Roman,serif\" font-size=\"14.00\">value = [3245, 4500, 4125, 1575, 2824, 3532]</text>\r\n",
       "</g>\r\n",
       "<!-- 1 -->\r\n",
       "<g id=\"node2\" class=\"node\"><title>1</title>\r\n",
       "<polygon fill=\"#e58139\" fill-opacity=\"0.090196\" stroke=\"black\" points=\"859.5,-261 610.5,-261 610.5,-193 859.5,-193 859.5,-261\"/>\r\n",
       "<text text-anchor=\"middle\" x=\"735\" y=\"-245.8\" font-family=\"Times New Roman,serif\" font-size=\"14.00\">Exp_min &lt;= 0.065</text>\r\n",
       "<text text-anchor=\"middle\" x=\"735\" y=\"-230.8\" font-family=\"Times New Roman,serif\" font-size=\"14.00\">entropy = 2.233</text>\r\n",
       "<text text-anchor=\"middle\" x=\"735\" y=\"-215.8\" font-family=\"Times New Roman,serif\" font-size=\"14.00\">samples = 9901</text>\r\n",
       "<text text-anchor=\"middle\" x=\"735\" y=\"-200.8\" font-family=\"Times New Roman,serif\" font-size=\"14.00\">value = [3019, 1648, 596, 90, 2333, 2215]</text>\r\n",
       "</g>\r\n",
       "<!-- 0&#45;&gt;1 -->\r\n",
       "<g id=\"edge1\" class=\"edge\"><title>0&#45;&gt;1</title>\r\n",
       "<path fill=\"none\" stroke=\"black\" d=\"M855.209,-296.884C838.179,-287.125 819.404,-276.366 801.855,-266.31\"/>\r\n",
       "<polygon fill=\"black\" stroke=\"black\" points=\"803.223,-263.06 792.806,-261.125 799.742,-269.133 803.223,-263.06\"/>\r\n",
       "<text text-anchor=\"middle\" x=\"799.355\" y=\"-281.552\" font-family=\"Times New Roman,serif\" font-size=\"14.00\">True</text>\r\n",
       "</g>\r\n",
       "<!-- 8 -->\r\n",
       "<g id=\"node9\" class=\"node\"><title>8</title>\r\n",
       "<polygon fill=\"#39e581\" fill-opacity=\"0.094118\" stroke=\"black\" points=\"1220,-261 964,-261 964,-193 1220,-193 1220,-261\"/>\r\n",
       "<text text-anchor=\"middle\" x=\"1092\" y=\"-245.8\" font-family=\"Times New Roman,serif\" font-size=\"14.00\">Exp_max &lt;= 0.383</text>\r\n",
       "<text text-anchor=\"middle\" x=\"1092\" y=\"-230.8\" font-family=\"Times New Roman,serif\" font-size=\"14.00\">entropy = 2.185</text>\r\n",
       "<text text-anchor=\"middle\" x=\"1092\" y=\"-215.8\" font-family=\"Times New Roman,serif\" font-size=\"14.00\">samples = 9900</text>\r\n",
       "<text text-anchor=\"middle\" x=\"1092\" y=\"-200.8\" font-family=\"Times New Roman,serif\" font-size=\"14.00\">value = [226, 2852, 3529, 1485, 491, 1317]</text>\r\n",
       "</g>\r\n",
       "<!-- 0&#45;&gt;8 -->\r\n",
       "<g id=\"edge8\" class=\"edge\"><title>0&#45;&gt;8</title>\r\n",
       "<path fill=\"none\" stroke=\"black\" d=\"M971.116,-296.884C988.242,-287.125 1007.12,-276.366 1024.77,-266.31\"/>\r\n",
       "<polygon fill=\"black\" stroke=\"black\" points=\"1026.91,-269.117 1033.87,-261.125 1023.45,-263.035 1026.91,-269.117\"/>\r\n",
       "<text text-anchor=\"middle\" x=\"1027.26\" y=\"-281.536\" font-family=\"Times New Roman,serif\" font-size=\"14.00\">False</text>\r\n",
       "</g>\r\n",
       "<!-- 2 -->\r\n",
       "<g id=\"node3\" class=\"node\"><title>2</title>\r\n",
       "<polygon fill=\"#e58139\" fill-opacity=\"0.396078\" stroke=\"black\" points=\"442.5,-157 213.5,-157 213.5,-89 442.5,-89 442.5,-157\"/>\r\n",
       "<text text-anchor=\"middle\" x=\"328\" y=\"-141.8\" font-family=\"Times New Roman,serif\" font-size=\"14.00\">Exp_min &lt;= 0.022</text>\r\n",
       "<text text-anchor=\"middle\" x=\"328\" y=\"-126.8\" font-family=\"Times New Roman,serif\" font-size=\"14.00\">entropy = 1.756</text>\r\n",
       "<text text-anchor=\"middle\" x=\"328\" y=\"-111.8\" font-family=\"Times New Roman,serif\" font-size=\"14.00\">samples = 3919</text>\r\n",
       "<text text-anchor=\"middle\" x=\"328\" y=\"-96.8\" font-family=\"Times New Roman,serif\" font-size=\"14.00\">value = [2139, 254, 102, 16, 963, 445]</text>\r\n",
       "</g>\r\n",
       "<!-- 1&#45;&gt;2 -->\r\n",
       "<g id=\"edge2\" class=\"edge\"><title>1&#45;&gt;2</title>\r\n",
       "<path fill=\"none\" stroke=\"black\" d=\"M610.398,-194.773C560.33,-182.225 502.724,-167.788 452.651,-155.239\"/>\r\n",
       "<polygon fill=\"black\" stroke=\"black\" points=\"453.292,-151.792 442.742,-152.756 451.591,-158.582 453.292,-151.792\"/>\r\n",
       "</g>\r\n",
       "<!-- 5 -->\r\n",
       "<g id=\"node6\" class=\"node\"><title>5</title>\r\n",
       "<polygon fill=\"#e5399d\" fill-opacity=\"0.082353\" stroke=\"black\" points=\"856,-157 614,-157 614,-89 856,-89 856,-157\"/>\r\n",
       "<text text-anchor=\"middle\" x=\"735\" y=\"-141.8\" font-family=\"Times New Roman,serif\" font-size=\"14.00\">outsourcing &lt;= 0.103</text>\r\n",
       "<text text-anchor=\"middle\" x=\"735\" y=\"-126.8\" font-family=\"Times New Roman,serif\" font-size=\"14.00\">entropy = 2.279</text>\r\n",
       "<text text-anchor=\"middle\" x=\"735\" y=\"-111.8\" font-family=\"Times New Roman,serif\" font-size=\"14.00\">samples = 5982</text>\r\n",
       "<text text-anchor=\"middle\" x=\"735\" y=\"-96.8\" font-family=\"Times New Roman,serif\" font-size=\"14.00\">value = [880, 1394, 494, 74, 1370, 1770]</text>\r\n",
       "</g>\r\n",
       "<!-- 1&#45;&gt;5 -->\r\n",
       "<g id=\"edge5\" class=\"edge\"><title>1&#45;&gt;5</title>\r\n",
       "<path fill=\"none\" stroke=\"black\" d=\"M735,-192.884C735,-184.778 735,-175.982 735,-167.472\"/>\r\n",
       "<polygon fill=\"black\" stroke=\"black\" points=\"738.5,-167.299 735,-157.299 731.5,-167.299 738.5,-167.299\"/>\r\n",
       "</g>\r\n",
       "<!-- 3 -->\r\n",
       "<g id=\"node4\" class=\"node\"><title>3</title>\r\n",
       "<polygon fill=\"#e58139\" fill-opacity=\"0.643137\" stroke=\"black\" points=\"202,-53 0,-53 0,-0 202,-0 202,-53\"/>\r\n",
       "<text text-anchor=\"middle\" x=\"101\" y=\"-37.8\" font-family=\"Times New Roman,serif\" font-size=\"14.00\">entropy = 1.181</text>\r\n",
       "<text text-anchor=\"middle\" x=\"101\" y=\"-22.8\" font-family=\"Times New Roman,serif\" font-size=\"14.00\">samples = 1653</text>\r\n",
       "<text text-anchor=\"middle\" x=\"101\" y=\"-7.8\" font-family=\"Times New Roman,serif\" font-size=\"14.00\">value = [1187, 38, 10, 1, 350, 67]</text>\r\n",
       "</g>\r\n",
       "<!-- 2&#45;&gt;3 -->\r\n",
       "<g id=\"edge3\" class=\"edge\"><title>2&#45;&gt;3</title>\r\n",
       "<path fill=\"none\" stroke=\"black\" d=\"M248.606,-88.9485C223.662,-78.5643 196.295,-67.1714 171.974,-57.0464\"/>\r\n",
       "<polygon fill=\"black\" stroke=\"black\" points=\"173.039,-53.6988 162.462,-53.0867 170.349,-60.1612 173.039,-53.6988\"/>\r\n",
       "</g>\r\n",
       "<!-- 4 -->\r\n",
       "<g id=\"node5\" class=\"node\"><title>4</title>\r\n",
       "<polygon fill=\"#e58139\" fill-opacity=\"0.203922\" stroke=\"black\" points=\"435.5,-53 220.5,-53 220.5,-0 435.5,-0 435.5,-53\"/>\r\n",
       "<text text-anchor=\"middle\" x=\"328\" y=\"-37.8\" font-family=\"Times New Roman,serif\" font-size=\"14.00\">entropy = 2.026</text>\r\n",
       "<text text-anchor=\"middle\" x=\"328\" y=\"-22.8\" font-family=\"Times New Roman,serif\" font-size=\"14.00\">samples = 2266</text>\r\n",
       "<text text-anchor=\"middle\" x=\"328\" y=\"-7.8\" font-family=\"Times New Roman,serif\" font-size=\"14.00\">value = [952, 216, 92, 15, 613, 378]</text>\r\n",
       "</g>\r\n",
       "<!-- 2&#45;&gt;4 -->\r\n",
       "<g id=\"edge4\" class=\"edge\"><title>2&#45;&gt;4</title>\r\n",
       "<path fill=\"none\" stroke=\"black\" d=\"M328,-88.9485C328,-80.7153 328,-71.848 328,-63.4814\"/>\r\n",
       "<polygon fill=\"black\" stroke=\"black\" points=\"331.5,-63.2367 328,-53.2367 324.5,-63.2367 331.5,-63.2367\"/>\r\n",
       "</g>\r\n",
       "<!-- 6 -->\r\n",
       "<g id=\"node7\" class=\"node\"><title>6</title>\r\n",
       "<polygon fill=\"#e5399d\" fill-opacity=\"0.050980\" stroke=\"black\" points=\"696,-53 454,-53 454,-0 696,-0 696,-53\"/>\r\n",
       "<text text-anchor=\"middle\" x=\"575\" y=\"-37.8\" font-family=\"Times New Roman,serif\" font-size=\"14.00\">entropy = 2.295</text>\r\n",
       "<text text-anchor=\"middle\" x=\"575\" y=\"-22.8\" font-family=\"Times New Roman,serif\" font-size=\"14.00\">samples = 5684</text>\r\n",
       "<text text-anchor=\"middle\" x=\"575\" y=\"-7.8\" font-family=\"Times New Roman,serif\" font-size=\"14.00\">value = [880, 1394, 494, 74, 1230, 1612]</text>\r\n",
       "</g>\r\n",
       "<!-- 5&#45;&gt;6 -->\r\n",
       "<g id=\"edge6\" class=\"edge\"><title>5&#45;&gt;6</title>\r\n",
       "<path fill=\"none\" stroke=\"black\" d=\"M679.04,-88.9485C662.236,-79.0237 643.872,-68.1776 627.314,-58.3977\"/>\r\n",
       "<polygon fill=\"black\" stroke=\"black\" points=\"628.712,-55.1586 618.321,-53.0867 625.152,-61.1858 628.712,-55.1586\"/>\r\n",
       "</g>\r\n",
       "<!-- 7 -->\r\n",
       "<g id=\"node8\" class=\"node\"><title>7</title>\r\n",
       "<polygon fill=\"#e5399d\" fill-opacity=\"0.113725\" stroke=\"black\" points=\"889.5,-53 714.5,-53 714.5,-0 889.5,-0 889.5,-53\"/>\r\n",
       "<text text-anchor=\"middle\" x=\"802\" y=\"-37.8\" font-family=\"Times New Roman,serif\" font-size=\"14.00\">entropy = 0.997</text>\r\n",
       "<text text-anchor=\"middle\" x=\"802\" y=\"-22.8\" font-family=\"Times New Roman,serif\" font-size=\"14.00\">samples = 298</text>\r\n",
       "<text text-anchor=\"middle\" x=\"802\" y=\"-7.8\" font-family=\"Times New Roman,serif\" font-size=\"14.00\">value = [0, 0, 0, 0, 140, 158]</text>\r\n",
       "</g>\r\n",
       "<!-- 5&#45;&gt;7 -->\r\n",
       "<g id=\"edge7\" class=\"edge\"><title>5&#45;&gt;7</title>\r\n",
       "<path fill=\"none\" stroke=\"black\" d=\"M758.433,-88.9485C764.725,-80.0749 771.538,-70.4648 777.867,-61.5388\"/>\r\n",
       "<polygon fill=\"black\" stroke=\"black\" points=\"780.824,-63.4188 783.753,-53.2367 775.114,-59.3701 780.824,-63.4188\"/>\r\n",
       "</g>\r\n",
       "<!-- 9 -->\r\n",
       "<g id=\"node10\" class=\"node\"><title>9</title>\r\n",
       "<polygon fill=\"#9de539\" fill-opacity=\"0.007843\" stroke=\"black\" points=\"1216.5,-157 967.5,-157 967.5,-89 1216.5,-89 1216.5,-157\"/>\r\n",
       "<text text-anchor=\"middle\" x=\"1092\" y=\"-141.8\" font-family=\"Times New Roman,serif\" font-size=\"14.00\">Exp_max &lt;= 0.317</text>\r\n",
       "<text text-anchor=\"middle\" x=\"1092\" y=\"-126.8\" font-family=\"Times New Roman,serif\" font-size=\"14.00\">entropy = 2.183</text>\r\n",
       "<text text-anchor=\"middle\" x=\"1092\" y=\"-111.8\" font-family=\"Times New Roman,serif\" font-size=\"14.00\">samples = 6050</text>\r\n",
       "<text text-anchor=\"middle\" x=\"1092\" y=\"-96.8\" font-family=\"Times New Roman,serif\" font-size=\"14.00\">value = [196, 1986, 1958, 347, 468, 1095]</text>\r\n",
       "</g>\r\n",
       "<!-- 8&#45;&gt;9 -->\r\n",
       "<g id=\"edge9\" class=\"edge\"><title>8&#45;&gt;9</title>\r\n",
       "<path fill=\"none\" stroke=\"black\" d=\"M1092,-192.884C1092,-184.778 1092,-175.982 1092,-167.472\"/>\r\n",
       "<polygon fill=\"black\" stroke=\"black\" points=\"1095.5,-167.299 1092,-157.299 1088.5,-167.299 1095.5,-167.299\"/>\r\n",
       "</g>\r\n",
       "<!-- 12 -->\r\n",
       "<g id=\"node13\" class=\"node\"><title>12</title>\r\n",
       "<polygon fill=\"#39e581\" fill-opacity=\"0.160784\" stroke=\"black\" points=\"1631.5,-157 1402.5,-157 1402.5,-89 1631.5,-89 1631.5,-157\"/>\r\n",
       "<text text-anchor=\"middle\" x=\"1517\" y=\"-141.8\" font-family=\"Times New Roman,serif\" font-size=\"14.00\">Exp_max &lt;= 0.483</text>\r\n",
       "<text text-anchor=\"middle\" x=\"1517\" y=\"-126.8\" font-family=\"Times New Roman,serif\" font-size=\"14.00\">entropy = 1.868</text>\r\n",
       "<text text-anchor=\"middle\" x=\"1517\" y=\"-111.8\" font-family=\"Times New Roman,serif\" font-size=\"14.00\">samples = 3850</text>\r\n",
       "<text text-anchor=\"middle\" x=\"1517\" y=\"-96.8\" font-family=\"Times New Roman,serif\" font-size=\"14.00\">value = [30, 866, 1571, 1138, 23, 222]</text>\r\n",
       "</g>\r\n",
       "<!-- 8&#45;&gt;12 -->\r\n",
       "<g id=\"edge12\" class=\"edge\"><title>8&#45;&gt;12</title>\r\n",
       "<path fill=\"none\" stroke=\"black\" d=\"M1220.09,-195.258C1274.62,-182.171 1338.01,-166.958 1392.18,-153.957\"/>\r\n",
       "<polygon fill=\"black\" stroke=\"black\" points=\"1393.27,-157.294 1402.18,-151.557 1391.64,-150.487 1393.27,-157.294\"/>\r\n",
       "</g>\r\n",
       "<!-- 10 -->\r\n",
       "<g id=\"node11\" class=\"node\"><title>10</title>\r\n",
       "<polygon fill=\"#9de539\" fill-opacity=\"0.019608\" stroke=\"black\" points=\"1144,-53 908,-53 908,-0 1144,-0 1144,-53\"/>\r\n",
       "<text text-anchor=\"middle\" x=\"1026\" y=\"-37.8\" font-family=\"Times New Roman,serif\" font-size=\"14.00\">entropy = 2.239</text>\r\n",
       "<text text-anchor=\"middle\" x=\"1026\" y=\"-22.8\" font-family=\"Times New Roman,serif\" font-size=\"14.00\">samples = 3340</text>\r\n",
       "<text text-anchor=\"middle\" x=\"1026\" y=\"-7.8\" font-family=\"Times New Roman,serif\" font-size=\"14.00\">value = [158, 1000, 955, 106, 368, 753]</text>\r\n",
       "</g>\r\n",
       "<!-- 9&#45;&gt;10 -->\r\n",
       "<g id=\"edge10\" class=\"edge\"><title>9&#45;&gt;10</title>\r\n",
       "<path fill=\"none\" stroke=\"black\" d=\"M1068.92,-88.9485C1062.72,-80.0749 1056.01,-70.4648 1049.77,-61.5388\"/>\r\n",
       "<polygon fill=\"black\" stroke=\"black\" points=\"1052.57,-59.4311 1043.97,-53.2367 1046.83,-63.4392 1052.57,-59.4311\"/>\r\n",
       "</g>\r\n",
       "<!-- 11 -->\r\n",
       "<g id=\"node12\" class=\"node\"><title>11</title>\r\n",
       "<polygon fill=\"#39e581\" fill-opacity=\"0.011765\" stroke=\"black\" points=\"1391.5,-53 1162.5,-53 1162.5,-0 1391.5,-0 1391.5,-53\"/>\r\n",
       "<text text-anchor=\"middle\" x=\"1277\" y=\"-37.8\" font-family=\"Times New Roman,serif\" font-size=\"14.00\">entropy = 2.011</text>\r\n",
       "<text text-anchor=\"middle\" x=\"1277\" y=\"-22.8\" font-family=\"Times New Roman,serif\" font-size=\"14.00\">samples = 2710</text>\r\n",
       "<text text-anchor=\"middle\" x=\"1277\" y=\"-7.8\" font-family=\"Times New Roman,serif\" font-size=\"14.00\">value = [38, 986, 1003, 241, 100, 342]</text>\r\n",
       "</g>\r\n",
       "<!-- 9&#45;&gt;11 -->\r\n",
       "<g id=\"edge11\" class=\"edge\"><title>9&#45;&gt;11</title>\r\n",
       "<path fill=\"none\" stroke=\"black\" d=\"M1156.7,-88.9485C1176.58,-78.794 1198.35,-67.675 1217.84,-57.7203\"/>\r\n",
       "<polygon fill=\"black\" stroke=\"black\" points=\"1219.6,-60.7526 1226.91,-53.0867 1216.41,-54.5188 1219.6,-60.7526\"/>\r\n",
       "</g>\r\n",
       "<!-- 13 -->\r\n",
       "<g id=\"node14\" class=\"node\"><title>13</title>\r\n",
       "<polygon fill=\"#39e581\" fill-opacity=\"0.211765\" stroke=\"black\" points=\"1624.5,-53 1409.5,-53 1409.5,-0 1624.5,-0 1624.5,-53\"/>\r\n",
       "<text text-anchor=\"middle\" x=\"1517\" y=\"-37.8\" font-family=\"Times New Roman,serif\" font-size=\"14.00\">entropy = 1.893</text>\r\n",
       "<text text-anchor=\"middle\" x=\"1517\" y=\"-22.8\" font-family=\"Times New Roman,serif\" font-size=\"14.00\">samples = 2186</text>\r\n",
       "<text text-anchor=\"middle\" x=\"1517\" y=\"-7.8\" font-family=\"Times New Roman,serif\" font-size=\"14.00\">value = [19, 617, 948, 415, 17, 170]</text>\r\n",
       "</g>\r\n",
       "<!-- 12&#45;&gt;13 -->\r\n",
       "<g id=\"edge13\" class=\"edge\"><title>12&#45;&gt;13</title>\r\n",
       "<path fill=\"none\" stroke=\"black\" d=\"M1517,-88.9485C1517,-80.7153 1517,-71.848 1517,-63.4814\"/>\r\n",
       "<polygon fill=\"black\" stroke=\"black\" points=\"1520.5,-63.2367 1517,-53.2367 1513.5,-63.2367 1520.5,-63.2367\"/>\r\n",
       "</g>\r\n",
       "<!-- 14 -->\r\n",
       "<g id=\"node15\" class=\"node\"><title>14</title>\r\n",
       "<polygon fill=\"#399de5\" fill-opacity=\"0.094118\" stroke=\"black\" points=\"1845,-53 1643,-53 1643,-0 1845,-0 1845,-53\"/>\r\n",
       "<text text-anchor=\"middle\" x=\"1744\" y=\"-37.8\" font-family=\"Times New Roman,serif\" font-size=\"14.00\">entropy = 1.697</text>\r\n",
       "<text text-anchor=\"middle\" x=\"1744\" y=\"-22.8\" font-family=\"Times New Roman,serif\" font-size=\"14.00\">samples = 1664</text>\r\n",
       "<text text-anchor=\"middle\" x=\"1744\" y=\"-7.8\" font-family=\"Times New Roman,serif\" font-size=\"14.00\">value = [11, 249, 623, 723, 6, 52]</text>\r\n",
       "</g>\r\n",
       "<!-- 12&#45;&gt;14 -->\r\n",
       "<g id=\"edge14\" class=\"edge\"><title>12&#45;&gt;14</title>\r\n",
       "<path fill=\"none\" stroke=\"black\" d=\"M1596.39,-88.9485C1621.34,-78.5643 1648.7,-67.1714 1673.03,-57.0464\"/>\r\n",
       "<polygon fill=\"black\" stroke=\"black\" points=\"1674.65,-60.1612 1682.54,-53.0867 1671.96,-53.6988 1674.65,-60.1612\"/>\r\n",
       "</g>\r\n",
       "</g>\r\n",
       "</svg>\r\n"
      ],
      "text/plain": [
       "<graphviz.files.Source at 0x8437e9b828>"
      ]
     },
     "execution_count": 105,
     "metadata": {},
     "output_type": "execute_result"
    }
   ],
   "source": [
    "# Visualize the decision tree graph\n",
    "\n",
    "with open('tree.dot','w') as dotfile:\n",
    "    tree.export_graphviz(my_tree_one, out_file=dotfile, feature_names=Xd.columns, filled=True)\n",
    "    dotfile.close()\n",
    "    \n",
    "# You may have to install graphviz package using \n",
    "# conda install graphviz\n",
    "# conda install python-graphviz\n",
    "\n",
    "from graphviz import Source\n",
    "\n",
    "with open('tree.dot','r') as f:\n",
    "    text=f.read()\n",
    "    plot=Source(text)\n",
    "plot   "
   ]
  },
  {
   "cell_type": "markdown",
   "metadata": {
    "colab_type": "text",
    "id": "lht0NcF83ZeM"
   },
   "source": [
    "### 5.2 Predictions from Decision Tree Model   <a id='pdt'>"
   ]
  },
  {
   "cell_type": "code",
   "execution_count": 106,
   "metadata": {
    "colab": {},
    "colab_type": "code",
    "id": "t5yGoy_33Zeg"
   },
   "outputs": [],
   "source": [
    "# Predictions from Decision Tree Model\n",
    "\n",
    "yd_pred = my_tree_one.predict(xd_test_scld)"
   ]
  },
  {
   "cell_type": "code",
   "execution_count": 107,
   "metadata": {
    "colab": {},
    "colab_type": "code",
    "id": "WCs9o0xt3Zfi"
   },
   "outputs": [],
   "source": [
    "sal_pred = pd.DataFrame(yd_pred)"
   ]
  },
  {
   "cell_type": "code",
   "execution_count": 108,
   "metadata": {
    "colab": {},
    "colab_type": "code",
    "id": "WCs9o0xt3Zfi"
   },
   "outputs": [],
   "source": [
    "sal_pred.to_excel('sal_test_reslt.xlsx')"
   ]
  },
  {
   "cell_type": "markdown",
   "metadata": {
    "colab_type": "text",
    "id": "_m-TINkH3Zej"
   },
   "source": [
    "### 5.3 Evaluating the Decision Tree Model  <a id='edt'>"
   ]
  },
  {
   "cell_type": "markdown",
   "metadata": {
    "colab_type": "text",
    "collapsed": true,
    "id": "97tf9VJe3ZgE"
   },
   "source": [
    "### 5.4. Fine tuning Hyper parameters  <a id = 'appendix'>\n",
    "\n",
    "** Grid Search **\n",
    "\n",
    "Grid-searching is the process of scanning the data to configure optimal parameters for a given model.  <br>\n",
    "Let's apply Grid Search on a Decision Tree Model. It has many parameters like tree depth, criterion... etc. We will build different models with different combinations of these parameters and come up with the best model. \n"
   ]
  },
  {
   "cell_type": "code",
   "execution_count": 109,
   "metadata": {
    "colab": {},
    "colab_type": "code",
    "id": "-7nDi-1s3ZgG"
   },
   "outputs": [],
   "source": [
    "# Different parameters we want to test\n",
    "\n",
    "max_depth = [5,10,15] \n",
    "criterion = ['gini', 'entropy']"
   ]
  },
  {
   "cell_type": "code",
   "execution_count": 110,
   "metadata": {
    "colab": {},
    "colab_type": "code",
    "id": "WRMdtqRJ3ZgJ"
   },
   "outputs": [
    {
     "name": "stderr",
     "output_type": "stream",
     "text": [
      "C:\\Users\\sandeep.rathod\\AppData\\Local\\Continuum\\anaconda3\\lib\\site-packages\\sklearn\\cross_validation.py:41: DeprecationWarning: This module was deprecated in version 0.18 in favor of the model_selection module into which all the refactored classes and functions are moved. Also note that the interface of the new CV iterators are different from that of this module. This module will be removed in 0.20.\n",
      "  \"This module will be removed in 0.20.\", DeprecationWarning)\n",
      "C:\\Users\\sandeep.rathod\\AppData\\Local\\Continuum\\anaconda3\\lib\\site-packages\\sklearn\\grid_search.py:42: DeprecationWarning: This module was deprecated in version 0.18 in favor of the model_selection module into which all the refactored classes and functions are moved. This module will be removed in 0.20.\n",
      "  DeprecationWarning)\n"
     ]
    }
   ],
   "source": [
    "# Importing GridSearch\n",
    "\n",
    "from sklearn.grid_search import GridSearchCV\n"
   ]
  },
  {
   "cell_type": "code",
   "execution_count": 111,
   "metadata": {
    "colab": {},
    "colab_type": "code",
    "id": "LtriakTF3ZgP"
   },
   "outputs": [],
   "source": [
    "# Building the model\n",
    "\n",
    "my_tree_three = tree.DecisionTreeClassifier()\n",
    "\n",
    "# Cross-validation tells how well a model performs on a dataset using multiple samples of train data\n",
    "#grid = GridSearchCV(estimator = my_tree_three, cv=3, \n",
    "#                   param_grid = dict(max_depth = max_depth, criterion = criterion))"
   ]
  },
  {
   "cell_type": "code",
   "execution_count": 112,
   "metadata": {
    "colab": {},
    "colab_type": "code",
    "id": "Mi3rE_ZK3ZgS",
    "outputId": "0ff7d432-7014-433f-9230-fa564a4f0287"
   },
   "outputs": [],
   "source": [
    "#grid.fit(Xd,yd)"
   ]
  },
  {
   "cell_type": "code",
   "execution_count": 113,
   "metadata": {
    "colab": {},
    "colab_type": "code",
    "id": "AccBJDCC3ZgW",
    "outputId": "24ea23be-9104-4a35-85b9-e65d6a893434"
   },
   "outputs": [],
   "source": [
    "# Best accuracy score\n",
    "\n",
    "#grid.best_score_"
   ]
  },
  {
   "cell_type": "code",
   "execution_count": 114,
   "metadata": {
    "colab": {},
    "colab_type": "code",
    "id": "1TMkA1Kz3ZgY",
    "outputId": "8f637c39-a979-49e5-9e4a-15bdd8da3d00"
   },
   "outputs": [],
   "source": [
    "# Best parameters for the model\n",
    "\n",
    "#grid.best_params_"
   ]
  },
  {
   "cell_type": "code",
   "execution_count": 115,
   "metadata": {
    "colab": {},
    "colab_type": "code",
    "id": "TSRkOH_F3Zge"
   },
   "outputs": [],
   "source": [
    "# Building the model based on new parameters\n",
    "\n",
    "my_tree_three = tree.DecisionTreeClassifier(criterion= 'entropy', max_depth= 10, random_state=42)"
   ]
  },
  {
   "cell_type": "code",
   "execution_count": 116,
   "metadata": {
    "colab": {},
    "colab_type": "code",
    "id": "u4mPjHco3Zgg",
    "outputId": "5e24c87e-5837-432f-db8f-22d5023d43ed"
   },
   "outputs": [
    {
     "data": {
      "text/plain": [
       "DecisionTreeClassifier(class_weight=None, criterion='entropy', max_depth=10,\n",
       "            max_features=None, max_leaf_nodes=None,\n",
       "            min_impurity_decrease=0.0, min_impurity_split=None,\n",
       "            min_samples_leaf=1, min_samples_split=2,\n",
       "            min_weight_fraction_leaf=0.0, presort=False, random_state=42,\n",
       "            splitter='best')"
      ]
     },
     "execution_count": 116,
     "metadata": {},
     "output_type": "execute_result"
    }
   ],
   "source": [
    "my_tree_three.fit(Xd_scld,yd)"
   ]
  },
  {
   "cell_type": "code",
   "execution_count": 117,
   "metadata": {
    "colab": {},
    "colab_type": "code",
    "id": "YBPFfs0y3Zgj",
    "outputId": "c970b81c-07b0-44bf-b0cf-72e2df2da4fe"
   },
   "outputs": [
    {
     "data": {
      "text/plain": [
       "0.4657845563355386"
      ]
     },
     "execution_count": 117,
     "metadata": {},
     "output_type": "execute_result"
    }
   ],
   "source": [
    "# Accuracy Score for new model\n",
    "\n",
    "my_tree_three.score(Xd_scld,yd)"
   ]
  },
  {
   "cell_type": "markdown",
   "metadata": {
    "colab_type": "text",
    "id": "n-TgaJM03Zgn"
   },
   "source": [
    "**Observation: **Our accuracy score improve from 0.89 to 0.89.47 "
   ]
  },
  {
   "cell_type": "code",
   "execution_count": 118,
   "metadata": {
    "colab": {},
    "colab_type": "code",
    "id": "t5yGoy_33Zeg"
   },
   "outputs": [],
   "source": [
    "# Predictions from Decision Tree Model\n",
    "\n",
    "yd_pred = my_tree_three.predict(xd_test_scld)"
   ]
  },
  {
   "cell_type": "code",
   "execution_count": 119,
   "metadata": {
    "colab": {},
    "colab_type": "code",
    "id": "WCs9o0xt3Zfi"
   },
   "outputs": [],
   "source": [
    "sal_pred = pd.DataFrame(yd_pred)"
   ]
  },
  {
   "cell_type": "code",
   "execution_count": 120,
   "metadata": {
    "colab": {},
    "colab_type": "code",
    "id": "WCs9o0xt3Zfi"
   },
   "outputs": [],
   "source": [
    "sal_pred.to_excel('sal_test_reslt_DT_Hyper.xlsx')"
   ]
  },
  {
   "cell_type": "markdown",
   "metadata": {
    "colab_type": "text",
    "id": "6Wme-Hcs3ZfX"
   },
   "source": [
    "### 6. Random Forest  <a id='rf'>"
   ]
  },
  {
   "cell_type": "markdown",
   "metadata": {
    "colab_type": "text",
    "id": "eRGRjIaG3Zfo"
   },
   "source": [
    "### 6.1 Training Random Forest Model  <a id='trf'>"
   ]
  },
  {
   "cell_type": "code",
   "execution_count": 121,
   "metadata": {
    "colab": {},
    "colab_type": "code",
    "id": "WCs9o0xt3Zfi"
   },
   "outputs": [
    {
     "data": {
      "text/plain": [
       "RandomForestClassifier(bootstrap=True, class_weight=None, criterion='gini',\n",
       "            max_depth=10, max_features='auto', max_leaf_nodes=None,\n",
       "            min_impurity_decrease=0.0, min_impurity_split=None,\n",
       "            min_samples_leaf=1, min_samples_split=2,\n",
       "            min_weight_fraction_leaf=0.0, n_estimators=100, n_jobs=1,\n",
       "            oob_score=False, random_state=1, verbose=0, warm_start=False)"
      ]
     },
     "execution_count": 121,
     "metadata": {},
     "output_type": "execute_result"
    }
   ],
   "source": [
    "#predict_probabilities_DT = my_tree_three.predict_proba(xd_test)\n",
    "# Building and fitting Random Forest\n",
    "\n",
    "from sklearn.ensemble import RandomForestClassifier\n",
    "\n",
    "forest = RandomForestClassifier(max_depth = 10, n_estimators = 100, random_state = 1)\n",
    "forest"
   ]
  },
  {
   "cell_type": "code",
   "execution_count": 122,
   "metadata": {
    "colab": {},
    "colab_type": "code",
    "id": "57y8Kb563Zfp"
   },
   "outputs": [],
   "source": [
    "# Fitting the model on Train Data\n",
    "\n",
    "my_forest = forest.fit(Xd_scld, yd)"
   ]
  },
  {
   "cell_type": "code",
   "execution_count": 123,
   "metadata": {
    "colab": {},
    "colab_type": "code",
    "id": "3NBizrtm3Zfs",
    "outputId": "74621811-1013-465f-f8b8-d4c98bc90317"
   },
   "outputs": [
    {
     "name": "stdout",
     "output_type": "stream",
     "text": [
      "0.4233119539417201\n"
     ]
    }
   ],
   "source": [
    "# Print the accuracy score of the fitted random forest\n",
    "\n",
    "print(my_forest.score(Xd_scld, yd))"
   ]
  },
  {
   "cell_type": "markdown",
   "metadata": {
    "colab_type": "text",
    "id": "d89WRX0B3Zfw"
   },
   "source": [
    " ### 6.2 Predictions from Random Forest Model   <a id='prf'>"
   ]
  },
  {
   "cell_type": "code",
   "execution_count": 124,
   "metadata": {
    "colab": {},
    "colab_type": "code",
    "id": "PCh-N_vf3Zfy"
   },
   "outputs": [],
   "source": [
    "# Making predictions\n",
    "\n",
    "yr_pred = my_forest.predict(xd_test_scld)"
   ]
  },
  {
   "cell_type": "code",
   "execution_count": 125,
   "metadata": {
    "colab": {},
    "colab_type": "code",
    "id": "WCs9o0xt3Zfi",
    "scrolled": true
   },
   "outputs": [],
   "source": [
    "sal_pred = pd.DataFrame(yr_pred)"
   ]
  },
  {
   "cell_type": "code",
   "execution_count": 126,
   "metadata": {
    "colab": {},
    "colab_type": "code",
    "id": "WCs9o0xt3Zfi"
   },
   "outputs": [],
   "source": [
    "sal_pred.to_excel('sal_test_reslt_RF.xlsx')"
   ]
  },
  {
   "cell_type": "markdown",
   "metadata": {
    "colab_type": "text",
    "id": "DPsbC3zV3Zf4"
   },
   "source": [
    "### 6.3 Evaluating the Random Forest Model   <a id='erf'>"
   ]
  },
  {
   "cell_type": "markdown",
   "metadata": {
    "colab_type": "text",
    "collapsed": true,
    "id": "wEzsc58X3Zgo"
   },
   "source": [
    "**Randomized Search**\n",
    "\n",
    "Using Randomized Search, we can define a grid of hyperparameters and randomly sample from the grid to get the best combination of values. <br>\n",
    "Lets apply Randomized search on Random Forest model. This model has plenty of parameters like number of trees, depth of trees...etc. We will evaluate models with different parameters and come up with the best model."
   ]
  },
  {
   "cell_type": "code",
   "execution_count": 127,
   "metadata": {
    "colab": {},
    "colab_type": "code",
    "id": "1XPZQaPi3Zgp"
   },
   "outputs": [],
   "source": [
    "# Different parameters we want to test\n",
    "\n",
    "# Number of trees in random forest\n",
    "n_estimators = [int(x) for x in np.linspace(start = 200, stop = 500, num = 10)]\n",
    "# Number of features to consider at every split\n",
    "max_features = ['auto', 'sqrt']\n",
    "# Maximum number of levels in tree\n",
    "max_depth = [int(x) for x in np.linspace(10, 110, num = 11)]\n",
    "max_depth.append(None)\n",
    "# Minimum number of samples required to split a node\n",
    "min_samples_split = [2, 5, 10]\n",
    "# Minimum number of samples required at each leaf node\n",
    "min_samples_leaf = [1, 2, 4]\n",
    "# Method of selecting samples for training each tree\n",
    "bootstrap = [True, False]"
   ]
  },
  {
   "cell_type": "code",
   "execution_count": 128,
   "metadata": {
    "colab": {},
    "colab_type": "code",
    "id": "A_F--4ic3Zgs"
   },
   "outputs": [],
   "source": [
    "random_grid = {'n_estimators': n_estimators,\n",
    "               'max_features': max_features,\n",
    "               'max_depth': max_depth,\n",
    "               'min_samples_split': min_samples_split,\n",
    "               'min_samples_leaf': min_samples_leaf,\n",
    "               'bootstrap': bootstrap}"
   ]
  },
  {
   "cell_type": "code",
   "execution_count": 129,
   "metadata": {
    "colab": {},
    "colab_type": "code",
    "id": "8JyRt0Dn3Zgu"
   },
   "outputs": [],
   "source": [
    "# Importing RandomizedSearchCV\n",
    "\n",
    "from sklearn.grid_search import RandomizedSearchCV"
   ]
  },
  {
   "cell_type": "code",
   "execution_count": 130,
   "metadata": {
    "colab": {},
    "colab_type": "code",
    "id": "bzds47ZZ3Zgx"
   },
   "outputs": [],
   "source": [
    "forest_two = RandomForestClassifier()\n",
    "\n",
    "# Fitting 3 folds for each of 100 candidates, totalling 300 fits\n",
    "rf_random = RandomizedSearchCV(estimator = forest_two, param_distributions = random_grid, \n",
    "                               n_iter = 100, cv = 3, verbose=2, random_state=42,n_jobs=4)"
   ]
  },
  {
   "cell_type": "code",
   "execution_count": 131,
   "metadata": {
    "colab": {},
    "colab_type": "code",
    "id": "Nd8z2bvK3Zg4",
    "outputId": "00a625f5-eb4f-40e6-e4d8-4bce7a280027",
    "scrolled": true
   },
   "outputs": [],
   "source": [
    "#rf_random.fit(Xd,yd)"
   ]
  },
  {
   "cell_type": "code",
   "execution_count": 132,
   "metadata": {
    "colab": {},
    "colab_type": "code",
    "id": "FFPC3TPV3Zg9",
    "outputId": "962bc32a-b1aa-4063-8b1c-434edf444f8b",
    "scrolled": false
   },
   "outputs": [],
   "source": [
    "#rf_random.best_params_"
   ]
  },
  {
   "cell_type": "markdown",
   "metadata": {
    "colab_type": "text",
    "id": "IBeOQIrC3ZhB"
   },
   "source": [
    "A Random Forest model built with this hyperparameters will provide best accuracy"
   ]
  },
  {
   "cell_type": "code",
   "execution_count": 133,
   "metadata": {
    "colab": {},
    "colab_type": "code",
    "id": "WCs9o0xt3Zfi",
    "scrolled": false
   },
   "outputs": [
    {
     "data": {
      "text/plain": [
       "RandomForestClassifier(bootstrap=True, class_weight=None, criterion='gini',\n",
       "            max_depth=30, max_features='sqrt', max_leaf_nodes=None,\n",
       "            min_impurity_decrease=0.0, min_impurity_split=None,\n",
       "            min_samples_leaf=4, min_samples_split=2,\n",
       "            min_weight_fraction_leaf=0.0, n_estimators=436, n_jobs=1,\n",
       "            oob_score=False, random_state=1, verbose=0, warm_start=False)"
      ]
     },
     "execution_count": 133,
     "metadata": {},
     "output_type": "execute_result"
    }
   ],
   "source": [
    "# Building and fitting Random Forest after tuning \n",
    "\n",
    "from sklearn.ensemble import RandomForestClassifier\n",
    "\n",
    "forest_two = RandomForestClassifier(min_samples_split=2,min_samples_leaf=4,max_features='sqrt',max_depth = 30, n_estimators = 436, random_state = 1,bootstrap= True)\n",
    "forest_two"
   ]
  },
  {
   "cell_type": "markdown",
   "metadata": {
    "colab_type": "text",
    "id": "eRGRjIaG3Zfo"
   },
   "source": [
    "### 6.1 Training Random Forest Model after tuning <a id='trf'>"
   ]
  },
  {
   "cell_type": "code",
   "execution_count": 134,
   "metadata": {
    "colab": {},
    "colab_type": "code",
    "id": "57y8Kb563Zfp"
   },
   "outputs": [],
   "source": [
    "# Fitting the model on Train Data\n",
    "\n",
    "my_forest_two = forest_two.fit(Xd_scld, yd)"
   ]
  },
  {
   "cell_type": "code",
   "execution_count": 135,
   "metadata": {
    "colab": {},
    "colab_type": "code",
    "id": "3NBizrtm3Zfs",
    "outputId": "74621811-1013-465f-f8b8-d4c98bc90317"
   },
   "outputs": [
    {
     "name": "stdout",
     "output_type": "stream",
     "text": [
      "0.47861219130346955\n"
     ]
    }
   ],
   "source": [
    "# Print the accuracy score of the fitted random forest\n",
    "\n",
    "print(my_forest_two.score(Xd_scld, yd))"
   ]
  },
  {
   "cell_type": "markdown",
   "metadata": {
    "colab_type": "text",
    "id": "d89WRX0B3Zfw"
   },
   "source": [
    " ### 6.2 Predictions from Random Forest Model   <a id='prf'>"
   ]
  },
  {
   "cell_type": "markdown",
   "metadata": {
    "colab_type": "text",
    "collapsed": true,
    "id": "C427aSlJ3ZhF"
   },
   "source": [
    "**Observation: ** The original Random forest algorithm gave 0.90 accuracy whereas after Randomized Grid Search we have only got 0.82. This is the best random combination of parameters the algorithm has choosen which produced the highest accuracy."
   ]
  },
  {
   "cell_type": "markdown",
   "metadata": {
    "colab_type": "text",
    "id": "d89WRX0B3Zfw"
   },
   "source": [
    " ### 6.2 Predictions from Random Forest Model after fine tuning of Hyperparameters  <a id='prf'>"
   ]
  },
  {
   "cell_type": "code",
   "execution_count": 136,
   "metadata": {
    "colab": {},
    "colab_type": "code",
    "id": "PCh-N_vf3Zfy"
   },
   "outputs": [],
   "source": [
    "# Making predictions\n",
    "\n",
    "yrf_pred = my_forest_two.predict(xd_test)"
   ]
  },
  {
   "cell_type": "code",
   "execution_count": 137,
   "metadata": {
    "colab": {},
    "colab_type": "code",
    "id": "WCs9o0xt3Zfi"
   },
   "outputs": [],
   "source": [
    "sal_pred = pd.DataFrame(yrf_pred)"
   ]
  },
  {
   "cell_type": "code",
   "execution_count": 138,
   "metadata": {
    "colab": {},
    "colab_type": "code",
    "id": "WCs9o0xt3Zfi"
   },
   "outputs": [],
   "source": [
    "sal_pred.to_excel('sal_test_reslt_RFHyper.xlsx')"
   ]
  },
  {
   "cell_type": "markdown",
   "metadata": {
    "colab_type": "text",
    "id": "k_xIVtgi3ZhG"
   },
   "source": [
    "### The End"
   ]
  },
  {
   "cell_type": "markdown",
   "metadata": {
    "colab_type": "text",
    "id": "DPsbC3zV3Zf4"
   },
   "source": [
    "### XGBoost<a id='erf'>"
   ]
  },
  {
   "cell_type": "code",
   "execution_count": 139,
   "metadata": {},
   "outputs": [],
   "source": [
    "from sklearn.metrics import roc_auc_score\n",
    "from sklearn.model_selection import StratifiedKFold\n",
    "from xgboost.sklearn import XGBClassifier\n",
    "from datetime import datetime"
   ]
  },
  {
   "cell_type": "code",
   "execution_count": 140,
   "metadata": {},
   "outputs": [],
   "source": [
    "def timer(start_time=None):\n",
    "    if not start_time:\n",
    "        start_time = datetime.now()\n",
    "        return start_time\n",
    "    elif start_time:\n",
    "        thour, temp_sec = divmod((datetime.now() - start_time).total_seconds(), 3600)\n",
    "        tmin, tsec = divmod(temp_sec, 60)\n",
    "        print('\\n Time taken: %i hours %i minutes and %s seconds.' % (thour, tmin, round(tsec, 2)))\n",
    "\n",
    "params = {\n",
    "        'min_child_weight': [1, 5, 10],\n",
    "        'gamma': [0.5, 1, 1.5, 2, 5],\n",
    "        'subsample': [0.6, 0.8, 1.0],\n",
    "        'colsample_bytree': [0.6, 0.8, 1.0],\n",
    "        'max_depth': [3, 4, 5]\n",
    "        }"
   ]
  },
  {
   "cell_type": "markdown",
   "metadata": {},
   "source": [
    "xgb = XGBClassifier(learning_rate=0.05, n_estimators=400, objective='multi:softprob',\n",
    "                    silent=True, nthread=1)"
   ]
  },
  {
   "cell_type": "markdown",
   "metadata": {},
   "source": [
    "folds = 3\n",
    "param_comb = 5\n",
    "\n",
    "#skf = StratifiedKFold(n_splits=folds, shuffle = True, random_state = 42)\n",
    "\n",
    "random_search = RandomizedSearchCV(xgb, param_distributions=params, n_iter=param_comb, n_jobs=4, cv=3, verbose=3, random_state=42 )\n",
    "random_search"
   ]
  },
  {
   "cell_type": "markdown",
   "metadata": {},
   "source": [
    "# Here we go\n",
    "start_time = timer(None) # timing starts from this point for \"start_time\" variable\n",
    "random_search.fit(Xd, yd)\n",
    "timer(start_time) # timing ends here for \"start_time\" variable"
   ]
  },
  {
   "cell_type": "markdown",
   "metadata": {},
   "source": [
    "print('\\n Best estimator:')\n",
    "print(random_search.best_estimator_)\n",
    "print('\\n Best normalized gini score for %d-fold search with %d parameter combinations:' % (folds, param_comb))\n",
    "print(random_search.best_score_ * 2 - 1)\n",
    "print('\\n Best hyperparameters:')\n",
    "print(random_search.best_params_)"
   ]
  },
  {
   "cell_type": "code",
   "execution_count": 141,
   "metadata": {},
   "outputs": [],
   "source": [
    "xgboost_one = XGBClassifier( booster='dart', colsample_bylevel=1,\n",
    "       colsample_bytree=0.8, gamma=2, learning_rate=0.1,\n",
    "       max_depth=5, n_estimators=400,sample_type ='uniform',\n",
    "       n_jobs=4, nthread=4, objective='multi:softprob', random_state=0,\n",
    "       reg_alpha=0, reg_lambda=1,\n",
    "       silent=True)"
   ]
  },
  {
   "cell_type": "code",
   "execution_count": 142,
   "metadata": {
    "scrolled": true
   },
   "outputs": [],
   "source": [
    "my_xgboost_one = xgboost_one.fit(Xd_scld,yd)"
   ]
  },
  {
   "cell_type": "code",
   "execution_count": null,
   "metadata": {
    "colab": {},
    "colab_type": "code",
    "id": "3NBizrtm3Zfs",
    "outputId": "74621811-1013-465f-f8b8-d4c98bc90317"
   },
   "outputs": [],
   "source": []
  },
  {
   "cell_type": "code",
   "execution_count": 143,
   "metadata": {
    "colab": {},
    "colab_type": "code",
    "id": "3NBizrtm3Zfs",
    "outputId": "74621811-1013-465f-f8b8-d4c98bc90317",
    "scrolled": true
   },
   "outputs": [
    {
     "name": "stderr",
     "output_type": "stream",
     "text": [
      "C:\\Users\\sandeep.rathod\\AppData\\Local\\Continuum\\anaconda3\\lib\\site-packages\\sklearn\\preprocessing\\label.py:151: DeprecationWarning: The truth value of an empty array is ambiguous. Returning False, but in future this will result in an error. Use `array.size > 0` to check that an array is not empty.\n",
      "  if diff:\n"
     ]
    },
    {
     "name": "stdout",
     "output_type": "stream",
     "text": [
      "0.5786576435533559\n"
     ]
    }
   ],
   "source": [
    "# Print the accuracy score of the fitted random forest\n",
    "\n",
    "print(my_xgboost_one.score(Xd_scld, yd))"
   ]
  },
  {
   "cell_type": "markdown",
   "metadata": {
    "colab_type": "text",
    "id": "d89WRX0B3Zfw"
   },
   "source": [
    " ### 6.2 Predictions from XGBoost Model   <a id='prf'>"
   ]
  },
  {
   "cell_type": "code",
   "execution_count": 144,
   "metadata": {
    "colab": {},
    "colab_type": "code",
    "id": "PCh-N_vf3Zfy",
    "scrolled": true
   },
   "outputs": [
    {
     "name": "stderr",
     "output_type": "stream",
     "text": [
      "C:\\Users\\sandeep.rathod\\AppData\\Local\\Continuum\\anaconda3\\lib\\site-packages\\sklearn\\preprocessing\\label.py:151: DeprecationWarning: The truth value of an empty array is ambiguous. Returning False, but in future this will result in an error. Use `array.size > 0` to check that an array is not empty.\n",
      "  if diff:\n"
     ]
    }
   ],
   "source": [
    "# Making predictions\n",
    "\n",
    "#xd_test = xd_test[Xd.columns]\n",
    "\n",
    "yrg_pred = my_xgboost_one.predict(xd_test_scld)"
   ]
  },
  {
   "cell_type": "code",
   "execution_count": 145,
   "metadata": {
    "colab": {},
    "colab_type": "code",
    "id": "WCs9o0xt3Zfi"
   },
   "outputs": [],
   "source": [
    "sal_pred = pd.DataFrame(yrg_pred)"
   ]
  },
  {
   "cell_type": "code",
   "execution_count": 146,
   "metadata": {
    "colab": {},
    "colab_type": "code",
    "id": "WCs9o0xt3Zfi"
   },
   "outputs": [],
   "source": [
    "sal_pred.to_excel('sal_test_reslt_xgHyper.xlsx')"
   ]
  },
  {
   "cell_type": "markdown",
   "metadata": {
    "colab_type": "text",
    "id": "YtzhpdpH2v5U"
   },
   "source": [
    "### 6. Building the Naive Bayes Model   <a id='nb'>"
   ]
  },
  {
   "cell_type": "code",
   "execution_count": 147,
   "metadata": {
    "colab": {},
    "colab_type": "code",
    "id": "pT51YmZL2v5W"
   },
   "outputs": [],
   "source": [
    "# Train Naive Bayes Classifier\n",
    "# Fast (One pass)\n",
    "# Not affected by sparse data, so most of the 6296 words dont occur in a single observation\n",
    "from sklearn import naive_bayes\n",
    "clf = naive_bayes.MultinomialNB()"
   ]
  },
  {
   "cell_type": "markdown",
   "metadata": {
    "colab_type": "text",
    "id": "Ak0h_Zh32v5b"
   },
   "source": [
    "### 7. Fitting the model   <a id='fitting'>"
   ]
  },
  {
   "cell_type": "code",
   "execution_count": 148,
   "metadata": {
    "colab": {},
    "colab_type": "code",
    "id": "dZI1F1Ys2v5b"
   },
   "outputs": [],
   "source": [
    "model=clf.fit(Xd_scld,yd)"
   ]
  },
  {
   "cell_type": "markdown",
   "metadata": {
    "colab_type": "text",
    "collapsed": true,
    "id": "1lPmlsLa2v5g"
   },
   "source": [
    "### 8. Predictions from the model   <a id='pred'>"
   ]
  },
  {
   "cell_type": "code",
   "execution_count": 149,
   "metadata": {
    "colab": {},
    "colab_type": "code",
    "id": "3NBizrtm3Zfs",
    "outputId": "74621811-1013-465f-f8b8-d4c98bc90317",
    "scrolled": true
   },
   "outputs": [
    {
     "name": "stdout",
     "output_type": "stream",
     "text": [
      "0.5367910711580223\n"
     ]
    }
   ],
   "source": [
    "# Print the accuracy score of the fitted random forest\n",
    "\n",
    "print(model.score(Xd_scld, yd))"
   ]
  },
  {
   "cell_type": "code",
   "execution_count": 150,
   "metadata": {
    "colab": {},
    "colab_type": "code",
    "id": "IODqbBLr2v5h",
    "outputId": "acfb8b68-f3ca-4567-80cb-4747871f6aae"
   },
   "outputs": [],
   "source": [
    "ynb_pred = model.predict(xd_test)"
   ]
  },
  {
   "cell_type": "code",
   "execution_count": 151,
   "metadata": {
    "colab": {},
    "colab_type": "code",
    "id": "WCs9o0xt3Zfi"
   },
   "outputs": [],
   "source": [
    "sal_pred = pd.DataFrame(ynb_pred)"
   ]
  },
  {
   "cell_type": "code",
   "execution_count": 152,
   "metadata": {
    "colab": {},
    "colab_type": "code",
    "id": "WCs9o0xt3Zfi"
   },
   "outputs": [],
   "source": [
    "sal_pred.to_excel('sal_test_reslt_Naive.xlsx')"
   ]
  },
  {
   "cell_type": "code",
   "execution_count": null,
   "metadata": {},
   "outputs": [],
   "source": []
  },
  {
   "cell_type": "code",
   "execution_count": null,
   "metadata": {},
   "outputs": [],
   "source": []
  },
  {
   "cell_type": "code",
   "execution_count": null,
   "metadata": {},
   "outputs": [],
   "source": []
  },
  {
   "cell_type": "code",
   "execution_count": null,
   "metadata": {},
   "outputs": [],
   "source": []
  },
  {
   "cell_type": "code",
   "execution_count": null,
   "metadata": {},
   "outputs": [],
   "source": []
  },
  {
   "cell_type": "code",
   "execution_count": null,
   "metadata": {},
   "outputs": [],
   "source": []
  }
 ],
 "metadata": {
  "kernelspec": {
   "display_name": "Python 3",
   "language": "python",
   "name": "python3"
  },
  "language_info": {
   "codemirror_mode": {
    "name": "ipython",
    "version": 3
   },
   "file_extension": ".py",
   "mimetype": "text/x-python",
   "name": "python",
   "nbconvert_exporter": "python",
   "pygments_lexer": "ipython3",
   "version": "3.6.5"
  }
 },
 "nbformat": 4,
 "nbformat_minor": 2
}
